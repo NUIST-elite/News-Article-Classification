{
 "cells": [
  {
   "cell_type": "markdown",
   "id": "d079337d-871d-4e39-bbd7-b7bc3fbe8c26",
   "metadata": {
    "id": "d079337d-871d-4e39-bbd7-b7bc3fbe8c26"
   },
   "source": [
    "# News Article Classification\n",
    "In this project, I am going to deal with a dataset that contains around 210k news headlines from 2012 to 2022 from **HuffPost**. Firstly, let's read the dataset from file!"
   ]
  },
  {
   "cell_type": "code",
   "execution_count": 1,
   "id": "RdA8n-fUSZ5P",
   "metadata": {
    "colab": {
     "base_uri": "https://localhost:8080/"
    },
    "id": "RdA8n-fUSZ5P",
    "outputId": "c4100b61-ce26-41f2-af00-c16650daf4ea"
   },
   "outputs": [
    {
     "name": "stdout",
     "output_type": "stream",
     "text": [
      "Looking in indexes: https://pypi.org/simple, https://us-python.pkg.dev/colab-wheels/public/simple/\n",
      "Collecting transformers\n",
      "  Downloading transformers-4.27.1-py3-none-any.whl (6.7 MB)\n",
      "\u001b[2K     \u001b[90m━━━━━━━━━━━━━━━━━━━━━━━━━━━━━━━━━━━━━━━━\u001b[0m \u001b[32m6.7/6.7 MB\u001b[0m \u001b[31m84.1 MB/s\u001b[0m eta \u001b[36m0:00:00\u001b[0m\n",
      "\u001b[?25hCollecting datasets\n",
      "  Downloading datasets-2.10.1-py3-none-any.whl (469 kB)\n",
      "\u001b[2K     \u001b[90m━━━━━━━━━━━━━━━━━━━━━━━━━━━━━━━━━━━━━━\u001b[0m \u001b[32m469.0/469.0 KB\u001b[0m \u001b[31m25.3 MB/s\u001b[0m eta \u001b[36m0:00:00\u001b[0m\n",
      "\u001b[?25hRequirement already satisfied: filelock in /usr/local/lib/python3.9/dist-packages (from transformers) (3.10.0)\n",
      "Requirement already satisfied: requests in /usr/local/lib/python3.9/dist-packages (from transformers) (2.27.1)\n",
      "Requirement already satisfied: regex!=2019.12.17 in /usr/local/lib/python3.9/dist-packages (from transformers) (2022.10.31)\n",
      "Requirement already satisfied: tqdm>=4.27 in /usr/local/lib/python3.9/dist-packages (from transformers) (4.65.0)\n",
      "Requirement already satisfied: packaging>=20.0 in /usr/local/lib/python3.9/dist-packages (from transformers) (23.0)\n",
      "Collecting huggingface-hub<1.0,>=0.11.0\n",
      "  Downloading huggingface_hub-0.13.2-py3-none-any.whl (199 kB)\n",
      "\u001b[2K     \u001b[90m━━━━━━━━━━━━━━━━━━━━━━━━━━━━━━━━━━━━━━\u001b[0m \u001b[32m199.2/199.2 KB\u001b[0m \u001b[31m10.5 MB/s\u001b[0m eta \u001b[36m0:00:00\u001b[0m\n",
      "\u001b[?25hCollecting tokenizers!=0.11.3,<0.14,>=0.11.1\n",
      "  Downloading tokenizers-0.13.2-cp39-cp39-manylinux_2_17_x86_64.manylinux2014_x86_64.whl (7.6 MB)\n",
      "\u001b[2K     \u001b[90m━━━━━━━━━━━━━━━━━━━━━━━━━━━━━━━━━━━━━━━━\u001b[0m \u001b[32m7.6/7.6 MB\u001b[0m \u001b[31m77.9 MB/s\u001b[0m eta \u001b[36m0:00:00\u001b[0m\n",
      "\u001b[?25hRequirement already satisfied: pyyaml>=5.1 in /usr/local/lib/python3.9/dist-packages (from transformers) (6.0)\n",
      "Requirement already satisfied: numpy>=1.17 in /usr/local/lib/python3.9/dist-packages (from transformers) (1.22.4)\n",
      "Collecting dill<0.3.7,>=0.3.0\n",
      "  Downloading dill-0.3.6-py3-none-any.whl (110 kB)\n",
      "\u001b[2K     \u001b[90m━━━━━━━━━━━━━━━━━━━━━━━━━━━━━━━━━━━━━━━\u001b[0m \u001b[32m110.5/110.5 KB\u001b[0m \u001b[31m5.9 MB/s\u001b[0m eta \u001b[36m0:00:00\u001b[0m\n",
      "\u001b[?25hCollecting multiprocess\n",
      "  Downloading multiprocess-0.70.14-py39-none-any.whl (132 kB)\n",
      "\u001b[2K     \u001b[90m━━━━━━━━━━━━━━━━━━━━━━━━━━━━━━━━━━━━━━\u001b[0m \u001b[32m132.9/132.9 KB\u001b[0m \u001b[31m18.5 MB/s\u001b[0m eta \u001b[36m0:00:00\u001b[0m\n",
      "\u001b[?25hRequirement already satisfied: fsspec[http]>=2021.11.1 in /usr/local/lib/python3.9/dist-packages (from datasets) (2023.3.0)\n",
      "Requirement already satisfied: pyarrow>=6.0.0 in /usr/local/lib/python3.9/dist-packages (from datasets) (9.0.0)\n",
      "Requirement already satisfied: pandas in /usr/local/lib/python3.9/dist-packages (from datasets) (1.4.4)\n",
      "Collecting aiohttp\n",
      "  Downloading aiohttp-3.8.4-cp39-cp39-manylinux_2_17_x86_64.manylinux2014_x86_64.whl (1.0 MB)\n",
      "\u001b[2K     \u001b[90m━━━━━━━━━━━━━━━━━━━━━━━━━━━━━━━━━━━━━━━━\u001b[0m \u001b[32m1.0/1.0 MB\u001b[0m \u001b[31m66.6 MB/s\u001b[0m eta \u001b[36m0:00:00\u001b[0m\n",
      "\u001b[?25hCollecting xxhash\n",
      "  Downloading xxhash-3.2.0-cp39-cp39-manylinux_2_17_x86_64.manylinux2014_x86_64.whl (212 kB)\n",
      "\u001b[2K     \u001b[90m━━━━━━━━━━━━━━━━━━━━━━━━━━━━━━━━━━━━━━\u001b[0m \u001b[32m212.2/212.2 KB\u001b[0m \u001b[31m24.2 MB/s\u001b[0m eta \u001b[36m0:00:00\u001b[0m\n",
      "\u001b[?25hCollecting responses<0.19\n",
      "  Downloading responses-0.18.0-py3-none-any.whl (38 kB)\n",
      "Collecting async-timeout<5.0,>=4.0.0a3\n",
      "  Downloading async_timeout-4.0.2-py3-none-any.whl (5.8 kB)\n",
      "Collecting yarl<2.0,>=1.0\n",
      "  Downloading yarl-1.8.2-cp39-cp39-manylinux_2_17_x86_64.manylinux2014_x86_64.whl (264 kB)\n",
      "\u001b[2K     \u001b[90m━━━━━━━━━━━━━━━━━━━━━━━━━━━━━━━━━━━━━━\u001b[0m \u001b[32m264.6/264.6 KB\u001b[0m \u001b[31m34.7 MB/s\u001b[0m eta \u001b[36m0:00:00\u001b[0m\n",
      "\u001b[?25hCollecting multidict<7.0,>=4.5\n",
      "  Downloading multidict-6.0.4-cp39-cp39-manylinux_2_17_x86_64.manylinux2014_x86_64.whl (114 kB)\n",
      "\u001b[2K     \u001b[90m━━━━━━━━━━━━━━━━━━━━━━━━━━━━━━━━━━━━━━\u001b[0m \u001b[32m114.2/114.2 KB\u001b[0m \u001b[31m13.5 MB/s\u001b[0m eta \u001b[36m0:00:00\u001b[0m\n",
      "\u001b[?25hRequirement already satisfied: attrs>=17.3.0 in /usr/local/lib/python3.9/dist-packages (from aiohttp->datasets) (22.2.0)\n",
      "Requirement already satisfied: charset-normalizer<4.0,>=2.0 in /usr/local/lib/python3.9/dist-packages (from aiohttp->datasets) (2.0.12)\n",
      "Collecting frozenlist>=1.1.1\n",
      "  Downloading frozenlist-1.3.3-cp39-cp39-manylinux_2_5_x86_64.manylinux1_x86_64.manylinux_2_17_x86_64.manylinux2014_x86_64.whl (158 kB)\n",
      "\u001b[2K     \u001b[90m━━━━━━━━━━━━━━━━━━━━━━━━━━━━━━━━━━━━━━\u001b[0m \u001b[32m158.8/158.8 KB\u001b[0m \u001b[31m21.3 MB/s\u001b[0m eta \u001b[36m0:00:00\u001b[0m\n",
      "\u001b[?25hCollecting aiosignal>=1.1.2\n",
      "  Downloading aiosignal-1.3.1-py3-none-any.whl (7.6 kB)\n",
      "Requirement already satisfied: typing-extensions>=3.7.4.3 in /usr/local/lib/python3.9/dist-packages (from huggingface-hub<1.0,>=0.11.0->transformers) (4.5.0)\n",
      "Requirement already satisfied: certifi>=2017.4.17 in /usr/local/lib/python3.9/dist-packages (from requests->transformers) (2022.12.7)\n",
      "Requirement already satisfied: urllib3<1.27,>=1.21.1 in /usr/local/lib/python3.9/dist-packages (from requests->transformers) (1.26.15)\n",
      "Requirement already satisfied: idna<4,>=2.5 in /usr/local/lib/python3.9/dist-packages (from requests->transformers) (3.4)\n",
      "Requirement already satisfied: python-dateutil>=2.8.1 in /usr/local/lib/python3.9/dist-packages (from pandas->datasets) (2.8.2)\n",
      "Requirement already satisfied: pytz>=2020.1 in /usr/local/lib/python3.9/dist-packages (from pandas->datasets) (2022.7.1)\n",
      "Requirement already satisfied: six>=1.5 in /usr/local/lib/python3.9/dist-packages (from python-dateutil>=2.8.1->pandas->datasets) (1.15.0)\n",
      "Installing collected packages: tokenizers, xxhash, multidict, frozenlist, dill, async-timeout, yarl, responses, multiprocess, huggingface-hub, aiosignal, transformers, aiohttp, datasets\n",
      "Successfully installed aiohttp-3.8.4 aiosignal-1.3.1 async-timeout-4.0.2 datasets-2.10.1 dill-0.3.6 frozenlist-1.3.3 huggingface-hub-0.13.2 multidict-6.0.4 multiprocess-0.70.14 responses-0.18.0 tokenizers-0.13.2 transformers-4.27.1 xxhash-3.2.0 yarl-1.8.2\n"
     ]
    }
   ],
   "source": [
    "!pip install transformers datasets"
   ]
  },
  {
   "cell_type": "code",
   "execution_count": 2,
   "id": "D_Wo4UPsPEmw",
   "metadata": {
    "colab": {
     "base_uri": "https://localhost:8080/"
    },
    "id": "D_Wo4UPsPEmw",
    "outputId": "6adb623a-03ac-4e3b-df45-5a4991ceebff"
   },
   "outputs": [
    {
     "name": "stdout",
     "output_type": "stream",
     "text": [
      "Mounted at /content/drive\n"
     ]
    }
   ],
   "source": [
    "from google.colab import drive\n",
    "\n",
    "drive.mount('/content/drive')"
   ]
  },
  {
   "cell_type": "code",
   "execution_count": 3,
   "id": "da85d312-b403-4956-826b-98499c753342",
   "metadata": {
    "colab": {
     "base_uri": "https://localhost:8080/",
     "height": 354
    },
    "id": "da85d312-b403-4956-826b-98499c753342",
    "outputId": "17a9edbf-ce40-49b0-d79c-f356ba09eada"
   },
   "outputs": [
    {
     "data": {
      "text/html": [
       "\n",
       "  <div id=\"df-8800210e-e608-4d67-9e8d-68f9e45a6e06\">\n",
       "    <div class=\"colab-df-container\">\n",
       "      <div>\n",
       "<style scoped>\n",
       "    .dataframe tbody tr th:only-of-type {\n",
       "        vertical-align: middle;\n",
       "    }\n",
       "\n",
       "    .dataframe tbody tr th {\n",
       "        vertical-align: top;\n",
       "    }\n",
       "\n",
       "    .dataframe thead th {\n",
       "        text-align: right;\n",
       "    }\n",
       "</style>\n",
       "<table border=\"1\" class=\"dataframe\">\n",
       "  <thead>\n",
       "    <tr style=\"text-align: right;\">\n",
       "      <th></th>\n",
       "      <th>link</th>\n",
       "      <th>headline</th>\n",
       "      <th>category</th>\n",
       "      <th>short_description</th>\n",
       "      <th>authors</th>\n",
       "      <th>date</th>\n",
       "    </tr>\n",
       "  </thead>\n",
       "  <tbody>\n",
       "    <tr>\n",
       "      <th>0</th>\n",
       "      <td>https://www.huffpost.com/entry/covid-boosters-...</td>\n",
       "      <td>Over 4 Million Americans Roll Up Sleeves For O...</td>\n",
       "      <td>U.S. NEWS</td>\n",
       "      <td>Health experts said it is too early to predict...</td>\n",
       "      <td>Carla K. Johnson, AP</td>\n",
       "      <td>2022-09-23</td>\n",
       "    </tr>\n",
       "    <tr>\n",
       "      <th>1</th>\n",
       "      <td>https://www.huffpost.com/entry/american-airlin...</td>\n",
       "      <td>American Airlines Flyer Charged, Banned For Li...</td>\n",
       "      <td>U.S. NEWS</td>\n",
       "      <td>He was subdued by passengers and crew when he ...</td>\n",
       "      <td>Mary Papenfuss</td>\n",
       "      <td>2022-09-23</td>\n",
       "    </tr>\n",
       "    <tr>\n",
       "      <th>2</th>\n",
       "      <td>https://www.huffpost.com/entry/funniest-tweets...</td>\n",
       "      <td>23 Of The Funniest Tweets About Cats And Dogs ...</td>\n",
       "      <td>COMEDY</td>\n",
       "      <td>\"Until you have a dog you don't understand wha...</td>\n",
       "      <td>Elyse Wanshel</td>\n",
       "      <td>2022-09-23</td>\n",
       "    </tr>\n",
       "    <tr>\n",
       "      <th>3</th>\n",
       "      <td>https://www.huffpost.com/entry/funniest-parent...</td>\n",
       "      <td>The Funniest Tweets From Parents This Week (Se...</td>\n",
       "      <td>PARENTING</td>\n",
       "      <td>\"Accidentally put grown-up toothpaste on my to...</td>\n",
       "      <td>Caroline Bologna</td>\n",
       "      <td>2022-09-23</td>\n",
       "    </tr>\n",
       "    <tr>\n",
       "      <th>4</th>\n",
       "      <td>https://www.huffpost.com/entry/amy-cooper-lose...</td>\n",
       "      <td>Woman Who Called Cops On Black Bird-Watcher Lo...</td>\n",
       "      <td>U.S. NEWS</td>\n",
       "      <td>Amy Cooper accused investment firm Franklin Te...</td>\n",
       "      <td>Nina Golgowski</td>\n",
       "      <td>2022-09-22</td>\n",
       "    </tr>\n",
       "  </tbody>\n",
       "</table>\n",
       "</div>\n",
       "      <button class=\"colab-df-convert\" onclick=\"convertToInteractive('df-8800210e-e608-4d67-9e8d-68f9e45a6e06')\"\n",
       "              title=\"Convert this dataframe to an interactive table.\"\n",
       "              style=\"display:none;\">\n",
       "        \n",
       "  <svg xmlns=\"http://www.w3.org/2000/svg\" height=\"24px\"viewBox=\"0 0 24 24\"\n",
       "       width=\"24px\">\n",
       "    <path d=\"M0 0h24v24H0V0z\" fill=\"none\"/>\n",
       "    <path d=\"M18.56 5.44l.94 2.06.94-2.06 2.06-.94-2.06-.94-.94-2.06-.94 2.06-2.06.94zm-11 1L8.5 8.5l.94-2.06 2.06-.94-2.06-.94L8.5 2.5l-.94 2.06-2.06.94zm10 10l.94 2.06.94-2.06 2.06-.94-2.06-.94-.94-2.06-.94 2.06-2.06.94z\"/><path d=\"M17.41 7.96l-1.37-1.37c-.4-.4-.92-.59-1.43-.59-.52 0-1.04.2-1.43.59L10.3 9.45l-7.72 7.72c-.78.78-.78 2.05 0 2.83L4 21.41c.39.39.9.59 1.41.59.51 0 1.02-.2 1.41-.59l7.78-7.78 2.81-2.81c.8-.78.8-2.07 0-2.86zM5.41 20L4 18.59l7.72-7.72 1.47 1.35L5.41 20z\"/>\n",
       "  </svg>\n",
       "      </button>\n",
       "      \n",
       "  <style>\n",
       "    .colab-df-container {\n",
       "      display:flex;\n",
       "      flex-wrap:wrap;\n",
       "      gap: 12px;\n",
       "    }\n",
       "\n",
       "    .colab-df-convert {\n",
       "      background-color: #E8F0FE;\n",
       "      border: none;\n",
       "      border-radius: 50%;\n",
       "      cursor: pointer;\n",
       "      display: none;\n",
       "      fill: #1967D2;\n",
       "      height: 32px;\n",
       "      padding: 0 0 0 0;\n",
       "      width: 32px;\n",
       "    }\n",
       "\n",
       "    .colab-df-convert:hover {\n",
       "      background-color: #E2EBFA;\n",
       "      box-shadow: 0px 1px 2px rgba(60, 64, 67, 0.3), 0px 1px 3px 1px rgba(60, 64, 67, 0.15);\n",
       "      fill: #174EA6;\n",
       "    }\n",
       "\n",
       "    [theme=dark] .colab-df-convert {\n",
       "      background-color: #3B4455;\n",
       "      fill: #D2E3FC;\n",
       "    }\n",
       "\n",
       "    [theme=dark] .colab-df-convert:hover {\n",
       "      background-color: #434B5C;\n",
       "      box-shadow: 0px 1px 3px 1px rgba(0, 0, 0, 0.15);\n",
       "      filter: drop-shadow(0px 1px 2px rgba(0, 0, 0, 0.3));\n",
       "      fill: #FFFFFF;\n",
       "    }\n",
       "  </style>\n",
       "\n",
       "      <script>\n",
       "        const buttonEl =\n",
       "          document.querySelector('#df-8800210e-e608-4d67-9e8d-68f9e45a6e06 button.colab-df-convert');\n",
       "        buttonEl.style.display =\n",
       "          google.colab.kernel.accessAllowed ? 'block' : 'none';\n",
       "\n",
       "        async function convertToInteractive(key) {\n",
       "          const element = document.querySelector('#df-8800210e-e608-4d67-9e8d-68f9e45a6e06');\n",
       "          const dataTable =\n",
       "            await google.colab.kernel.invokeFunction('convertToInteractive',\n",
       "                                                     [key], {});\n",
       "          if (!dataTable) return;\n",
       "\n",
       "          const docLinkHtml = 'Like what you see? Visit the ' +\n",
       "            '<a target=\"_blank\" href=https://colab.research.google.com/notebooks/data_table.ipynb>data table notebook</a>'\n",
       "            + ' to learn more about interactive tables.';\n",
       "          element.innerHTML = '';\n",
       "          dataTable['output_type'] = 'display_data';\n",
       "          await google.colab.output.renderOutput(dataTable, element);\n",
       "          const docLink = document.createElement('div');\n",
       "          docLink.innerHTML = docLinkHtml;\n",
       "          element.appendChild(docLink);\n",
       "        }\n",
       "      </script>\n",
       "    </div>\n",
       "  </div>\n",
       "  "
      ],
      "text/plain": [
       "                                                link  \\\n",
       "0  https://www.huffpost.com/entry/covid-boosters-...   \n",
       "1  https://www.huffpost.com/entry/american-airlin...   \n",
       "2  https://www.huffpost.com/entry/funniest-tweets...   \n",
       "3  https://www.huffpost.com/entry/funniest-parent...   \n",
       "4  https://www.huffpost.com/entry/amy-cooper-lose...   \n",
       "\n",
       "                                            headline   category  \\\n",
       "0  Over 4 Million Americans Roll Up Sleeves For O...  U.S. NEWS   \n",
       "1  American Airlines Flyer Charged, Banned For Li...  U.S. NEWS   \n",
       "2  23 Of The Funniest Tweets About Cats And Dogs ...     COMEDY   \n",
       "3  The Funniest Tweets From Parents This Week (Se...  PARENTING   \n",
       "4  Woman Who Called Cops On Black Bird-Watcher Lo...  U.S. NEWS   \n",
       "\n",
       "                                   short_description               authors  \\\n",
       "0  Health experts said it is too early to predict...  Carla K. Johnson, AP   \n",
       "1  He was subdued by passengers and crew when he ...        Mary Papenfuss   \n",
       "2  \"Until you have a dog you don't understand wha...         Elyse Wanshel   \n",
       "3  \"Accidentally put grown-up toothpaste on my to...      Caroline Bologna   \n",
       "4  Amy Cooper accused investment firm Franklin Te...        Nina Golgowski   \n",
       "\n",
       "        date  \n",
       "0 2022-09-23  \n",
       "1 2022-09-23  \n",
       "2 2022-09-23  \n",
       "3 2022-09-23  \n",
       "4 2022-09-22  "
      ]
     },
     "execution_count": 3,
     "metadata": {},
     "output_type": "execute_result"
    }
   ],
   "source": [
    "import pandas as pd\n",
    "import numpy as np\n",
    "\n",
    "df = pd.read_json('drive/MyDrive/News_Category_Dataset_v3.json', lines=True)\n",
    "df.head()"
   ]
  },
  {
   "cell_type": "markdown",
   "id": "61bddfd9-1d77-4490-930d-49873b91ac11",
   "metadata": {
    "id": "61bddfd9-1d77-4490-930d-49873b91ac11"
   },
   "source": [
    "Set a random seed here."
   ]
  },
  {
   "cell_type": "code",
   "execution_count": 4,
   "id": "2f8c5d37-0588-4ef0-8be0-5c4ce719c950",
   "metadata": {
    "id": "2f8c5d37-0588-4ef0-8be0-5c4ce719c950"
   },
   "outputs": [],
   "source": [
    "np.random.seed(2)"
   ]
  },
  {
   "cell_type": "markdown",
   "id": "44e902d3-01db-410c-9f0d-92c32f628f35",
   "metadata": {
    "id": "44e902d3-01db-410c-9f0d-92c32f628f35"
   },
   "source": [
    "## Part 1: Data Preprocessing\n",
    "### Choose top-10 category\n",
    "I will only keep top-10 most category in this dataset. "
   ]
  },
  {
   "cell_type": "code",
   "execution_count": 5,
   "id": "fed133cd-e378-416f-ac75-351eaa743ee4",
   "metadata": {
    "colab": {
     "base_uri": "https://localhost:8080/"
    },
    "id": "fed133cd-e378-416f-ac75-351eaa743ee4",
    "outputId": "91bf6ec3-af1f-4f02-e3b3-8f22dd934515"
   },
   "outputs": [
    {
     "data": {
      "text/plain": [
       "['POLITICS',\n",
       " 'WELLNESS',\n",
       " 'ENTERTAINMENT',\n",
       " 'TRAVEL',\n",
       " 'STYLE & BEAUTY',\n",
       " 'PARENTING',\n",
       " 'HEALTHY LIVING',\n",
       " 'QUEER VOICES',\n",
       " 'FOOD & DRINK',\n",
       " 'BUSINESS']"
      ]
     },
     "execution_count": 5,
     "metadata": {},
     "output_type": "execute_result"
    }
   ],
   "source": [
    "counts = df['category'].value_counts()\n",
    "top_10_categories = counts.head(10).index.tolist()\n",
    "top_10_categories"
   ]
  },
  {
   "cell_type": "code",
   "execution_count": 6,
   "id": "2e697842-484b-447f-b497-52d1bc273e65",
   "metadata": {
    "colab": {
     "base_uri": "https://localhost:8080/"
    },
    "id": "2e697842-484b-447f-b497-52d1bc273e65",
    "outputId": "3ec6a1ca-319c-4ac7-80e4-fa47a7d73cfe",
    "tags": []
   },
   "outputs": [
    {
     "data": {
      "text/plain": [
       "POLITICS          35602\n",
       "WELLNESS          17945\n",
       "ENTERTAINMENT     17362\n",
       "TRAVEL             9900\n",
       "STYLE & BEAUTY     9814\n",
       "PARENTING          8791\n",
       "HEALTHY LIVING     6694\n",
       "QUEER VOICES       6347\n",
       "FOOD & DRINK       6340\n",
       "BUSINESS           5992\n",
       "Name: category, dtype: int64"
      ]
     },
     "execution_count": 6,
     "metadata": {},
     "output_type": "execute_result"
    }
   ],
   "source": [
    "# Create a Boolean mask indicating which rows belong to one of the top 10 categories\n",
    "mask = df['category'].isin(top_10_categories)\n",
    "\n",
    "# Filter the DataFrame using the Boolean mask\n",
    "data = df[mask]\n",
    "data['category'].value_counts()"
   ]
  },
  {
   "cell_type": "markdown",
   "id": "0f2e9850-d90f-415b-96bd-6e725c23e314",
   "metadata": {
    "id": "0f2e9850-d90f-415b-96bd-6e725c23e314"
   },
   "source": [
    "### Random sampling, while remain the distribution of `category`\n",
    "The dataset, even after we select only top 10 categories, have over 10,0000 samples."
   ]
  },
  {
   "cell_type": "code",
   "execution_count": 7,
   "id": "5b971301-af1f-41c7-ad2f-a7164ce48abe",
   "metadata": {
    "colab": {
     "base_uri": "https://localhost:8080/"
    },
    "id": "5b971301-af1f-41c7-ad2f-a7164ce48abe",
    "outputId": "6b1812cc-51d3-4484-ee5e-6da11664ad66"
   },
   "outputs": [
    {
     "data": {
      "text/plain": [
       "(124787, 6)"
      ]
     },
     "execution_count": 7,
     "metadata": {},
     "output_type": "execute_result"
    }
   ],
   "source": [
    "data.shape"
   ]
  },
  {
   "cell_type": "markdown",
   "id": "d5e2aed0-df74-4018-801b-c99581886705",
   "metadata": {
    "id": "d5e2aed0-df74-4018-801b-c99581886705"
   },
   "source": [
    "Now, we will reduce the sample size to 10,000, and keeping the same data distribution."
   ]
  },
  {
   "cell_type": "code",
   "execution_count": 8,
   "id": "a473bb28-b613-469e-aa12-97b60643d4a0",
   "metadata": {
    "colab": {
     "base_uri": "https://localhost:8080/"
    },
    "id": "a473bb28-b613-469e-aa12-97b60643d4a0",
    "outputId": "3c4183b9-497a-4145-88a1-373541d5bf69"
   },
   "outputs": [
    {
     "data": {
      "text/plain": [
       "POLITICS          2853\n",
       "WELLNESS          1438\n",
       "ENTERTAINMENT     1391\n",
       "TRAVEL             793\n",
       "STYLE & BEAUTY     787\n",
       "PARENTING          705\n",
       "HEALTHY LIVING     536\n",
       "QUEER VOICES       509\n",
       "FOOD & DRINK       508\n",
       "BUSINESS           480\n",
       "Name: category, dtype: int64"
      ]
     },
     "execution_count": 8,
     "metadata": {},
     "output_type": "execute_result"
    }
   ],
   "source": [
    "from sklearn.model_selection import StratifiedShuffleSplit\n",
    "\n",
    "# Set the number of samples to take\n",
    "n_samples = 10000\n",
    "\n",
    "# Use stratified sampling to select samples from each category\n",
    "splitter = StratifiedShuffleSplit(n_splits=1, test_size=n_samples, random_state=8)\n",
    "sample_indices = []\n",
    "for _, indices in splitter.split(data, data['category']):\n",
    "    sample_indices = indices[:n_samples]\n",
    "\n",
    "# Select the samples from the original dataframe using the sample indices\n",
    "sample_data = data.iloc[sample_indices].reset_index(drop=True)\n",
    "\n",
    "sample_data['category'].value_counts()"
   ]
  },
  {
   "cell_type": "markdown",
   "id": "2d9c2f6c-d390-42ce-ab08-5c2386f5d876",
   "metadata": {
    "id": "2d9c2f6c-d390-42ce-ab08-5c2386f5d876"
   },
   "source": [
    "### Feature Selection\n",
    "Because we want to do text classification, so we only need to keep the text field, and remove other fields.\n",
    "\n",
    "By observing the dataset, useful text column are `headline` and `short_description`, so we will combine the two columns, and remove the rest(except category)."
   ]
  },
  {
   "cell_type": "code",
   "execution_count": 9,
   "id": "c69eebe0-b20d-4b74-968d-5f4c103bb14c",
   "metadata": {
    "colab": {
     "base_uri": "https://localhost:8080/",
     "height": 753
    },
    "id": "c69eebe0-b20d-4b74-968d-5f4c103bb14c",
    "outputId": "46ff28f2-5133-4047-9ee9-c1a7fe9f2fa6"
   },
   "outputs": [
    {
     "data": {
      "text/html": [
       "\n",
       "  <div id=\"df-e7b232e9-4429-4151-a66b-6c656caf8f69\">\n",
       "    <div class=\"colab-df-container\">\n",
       "      <div>\n",
       "<style scoped>\n",
       "    .dataframe tbody tr th:only-of-type {\n",
       "        vertical-align: middle;\n",
       "    }\n",
       "\n",
       "    .dataframe tbody tr th {\n",
       "        vertical-align: top;\n",
       "    }\n",
       "\n",
       "    .dataframe thead th {\n",
       "        text-align: right;\n",
       "    }\n",
       "</style>\n",
       "<table border=\"1\" class=\"dataframe\">\n",
       "  <thead>\n",
       "    <tr style=\"text-align: right;\">\n",
       "      <th></th>\n",
       "      <th>link</th>\n",
       "      <th>headline</th>\n",
       "      <th>category</th>\n",
       "      <th>short_description</th>\n",
       "      <th>authors</th>\n",
       "      <th>date</th>\n",
       "      <th>text</th>\n",
       "    </tr>\n",
       "  </thead>\n",
       "  <tbody>\n",
       "    <tr>\n",
       "      <th>0</th>\n",
       "      <td>https://www.huffingtonpost.com/entry/behind-th...</td>\n",
       "      <td>Behind the Scenes With the Trump Family</td>\n",
       "      <td>STYLE &amp; BEAUTY</td>\n",
       "      <td>For those of you who are forever wondering, I ...</td>\n",
       "      <td>Nicole Bryl, Contributor\\nCelebrity Makeup Art...</td>\n",
       "      <td>2012-04-20</td>\n",
       "      <td>Behind the Scenes With the Trump Family For th...</td>\n",
       "    </tr>\n",
       "    <tr>\n",
       "      <th>1</th>\n",
       "      <td>https://www.huffingtonpost.com/entry/jewish-an...</td>\n",
       "      <td>Jewish And Queer?</td>\n",
       "      <td>QUEER VOICES</td>\n",
       "      <td>This article was written by Livvy K., an Essex...</td>\n",
       "      <td>Youth Voices in the New Year, ContributorEssex...</td>\n",
       "      <td>2017-01-22</td>\n",
       "      <td>Jewish And Queer? This article was written by ...</td>\n",
       "    </tr>\n",
       "    <tr>\n",
       "      <th>2</th>\n",
       "      <td>https://www.huffingtonpost.com/entry/weekly-ro...</td>\n",
       "      <td>Weekly Roundup of eBay Vintage Clothing Finds</td>\n",
       "      <td>STYLE &amp; BEAUTY</td>\n",
       "      <td>This eclectic mix of designer and non-designer...</td>\n",
       "      <td>Mary Kincaid, Contributor\\nFounder and Editor ...</td>\n",
       "      <td>2013-11-05</td>\n",
       "      <td>Weekly Roundup of eBay Vintage Clothing Finds ...</td>\n",
       "    </tr>\n",
       "    <tr>\n",
       "      <th>3</th>\n",
       "      <td>https://www.huffingtonpost.com/entry/kim-davis...</td>\n",
       "      <td>Kim Davis Loses Latest Gay Marriage Appeal</td>\n",
       "      <td>POLITICS</td>\n",
       "      <td>Davis stopped issuing marriage licenses after ...</td>\n",
       "      <td></td>\n",
       "      <td>2015-11-06</td>\n",
       "      <td>Kim Davis Loses Latest Gay Marriage Appeal Dav...</td>\n",
       "    </tr>\n",
       "    <tr>\n",
       "      <th>4</th>\n",
       "      <td>https://www.huffingtonpost.com/entry/stephen-c...</td>\n",
       "      <td>Stephen Colbert Is Game To Headline Trump's Wh...</td>\n",
       "      <td>ENTERTAINMENT</td>\n",
       "      <td>The \"Late Show\" host's scathing roast of Georg...</td>\n",
       "      <td>Stephanie Marcus</td>\n",
       "      <td>2017-02-07</td>\n",
       "      <td>Stephen Colbert Is Game To Headline Trump's Wh...</td>\n",
       "    </tr>\n",
       "  </tbody>\n",
       "</table>\n",
       "</div>\n",
       "      <button class=\"colab-df-convert\" onclick=\"convertToInteractive('df-e7b232e9-4429-4151-a66b-6c656caf8f69')\"\n",
       "              title=\"Convert this dataframe to an interactive table.\"\n",
       "              style=\"display:none;\">\n",
       "        \n",
       "  <svg xmlns=\"http://www.w3.org/2000/svg\" height=\"24px\"viewBox=\"0 0 24 24\"\n",
       "       width=\"24px\">\n",
       "    <path d=\"M0 0h24v24H0V0z\" fill=\"none\"/>\n",
       "    <path d=\"M18.56 5.44l.94 2.06.94-2.06 2.06-.94-2.06-.94-.94-2.06-.94 2.06-2.06.94zm-11 1L8.5 8.5l.94-2.06 2.06-.94-2.06-.94L8.5 2.5l-.94 2.06-2.06.94zm10 10l.94 2.06.94-2.06 2.06-.94-2.06-.94-.94-2.06-.94 2.06-2.06.94z\"/><path d=\"M17.41 7.96l-1.37-1.37c-.4-.4-.92-.59-1.43-.59-.52 0-1.04.2-1.43.59L10.3 9.45l-7.72 7.72c-.78.78-.78 2.05 0 2.83L4 21.41c.39.39.9.59 1.41.59.51 0 1.02-.2 1.41-.59l7.78-7.78 2.81-2.81c.8-.78.8-2.07 0-2.86zM5.41 20L4 18.59l7.72-7.72 1.47 1.35L5.41 20z\"/>\n",
       "  </svg>\n",
       "      </button>\n",
       "      \n",
       "  <style>\n",
       "    .colab-df-container {\n",
       "      display:flex;\n",
       "      flex-wrap:wrap;\n",
       "      gap: 12px;\n",
       "    }\n",
       "\n",
       "    .colab-df-convert {\n",
       "      background-color: #E8F0FE;\n",
       "      border: none;\n",
       "      border-radius: 50%;\n",
       "      cursor: pointer;\n",
       "      display: none;\n",
       "      fill: #1967D2;\n",
       "      height: 32px;\n",
       "      padding: 0 0 0 0;\n",
       "      width: 32px;\n",
       "    }\n",
       "\n",
       "    .colab-df-convert:hover {\n",
       "      background-color: #E2EBFA;\n",
       "      box-shadow: 0px 1px 2px rgba(60, 64, 67, 0.3), 0px 1px 3px 1px rgba(60, 64, 67, 0.15);\n",
       "      fill: #174EA6;\n",
       "    }\n",
       "\n",
       "    [theme=dark] .colab-df-convert {\n",
       "      background-color: #3B4455;\n",
       "      fill: #D2E3FC;\n",
       "    }\n",
       "\n",
       "    [theme=dark] .colab-df-convert:hover {\n",
       "      background-color: #434B5C;\n",
       "      box-shadow: 0px 1px 3px 1px rgba(0, 0, 0, 0.15);\n",
       "      filter: drop-shadow(0px 1px 2px rgba(0, 0, 0, 0.3));\n",
       "      fill: #FFFFFF;\n",
       "    }\n",
       "  </style>\n",
       "\n",
       "      <script>\n",
       "        const buttonEl =\n",
       "          document.querySelector('#df-e7b232e9-4429-4151-a66b-6c656caf8f69 button.colab-df-convert');\n",
       "        buttonEl.style.display =\n",
       "          google.colab.kernel.accessAllowed ? 'block' : 'none';\n",
       "\n",
       "        async function convertToInteractive(key) {\n",
       "          const element = document.querySelector('#df-e7b232e9-4429-4151-a66b-6c656caf8f69');\n",
       "          const dataTable =\n",
       "            await google.colab.kernel.invokeFunction('convertToInteractive',\n",
       "                                                     [key], {});\n",
       "          if (!dataTable) return;\n",
       "\n",
       "          const docLinkHtml = 'Like what you see? Visit the ' +\n",
       "            '<a target=\"_blank\" href=https://colab.research.google.com/notebooks/data_table.ipynb>data table notebook</a>'\n",
       "            + ' to learn more about interactive tables.';\n",
       "          element.innerHTML = '';\n",
       "          dataTable['output_type'] = 'display_data';\n",
       "          await google.colab.output.renderOutput(dataTable, element);\n",
       "          const docLink = document.createElement('div');\n",
       "          docLink.innerHTML = docLinkHtml;\n",
       "          element.appendChild(docLink);\n",
       "        }\n",
       "      </script>\n",
       "    </div>\n",
       "  </div>\n",
       "  "
      ],
      "text/plain": [
       "                                                link  \\\n",
       "0  https://www.huffingtonpost.com/entry/behind-th...   \n",
       "1  https://www.huffingtonpost.com/entry/jewish-an...   \n",
       "2  https://www.huffingtonpost.com/entry/weekly-ro...   \n",
       "3  https://www.huffingtonpost.com/entry/kim-davis...   \n",
       "4  https://www.huffingtonpost.com/entry/stephen-c...   \n",
       "\n",
       "                                            headline        category  \\\n",
       "0            Behind the Scenes With the Trump Family  STYLE & BEAUTY   \n",
       "1                                  Jewish And Queer?    QUEER VOICES   \n",
       "2      Weekly Roundup of eBay Vintage Clothing Finds  STYLE & BEAUTY   \n",
       "3         Kim Davis Loses Latest Gay Marriage Appeal        POLITICS   \n",
       "4  Stephen Colbert Is Game To Headline Trump's Wh...   ENTERTAINMENT   \n",
       "\n",
       "                                   short_description  \\\n",
       "0  For those of you who are forever wondering, I ...   \n",
       "1  This article was written by Livvy K., an Essex...   \n",
       "2  This eclectic mix of designer and non-designer...   \n",
       "3  Davis stopped issuing marriage licenses after ...   \n",
       "4  The \"Late Show\" host's scathing roast of Georg...   \n",
       "\n",
       "                                             authors       date  \\\n",
       "0  Nicole Bryl, Contributor\\nCelebrity Makeup Art... 2012-04-20   \n",
       "1  Youth Voices in the New Year, ContributorEssex... 2017-01-22   \n",
       "2  Mary Kincaid, Contributor\\nFounder and Editor ... 2013-11-05   \n",
       "3                                                    2015-11-06   \n",
       "4                                   Stephanie Marcus 2017-02-07   \n",
       "\n",
       "                                                text  \n",
       "0  Behind the Scenes With the Trump Family For th...  \n",
       "1  Jewish And Queer? This article was written by ...  \n",
       "2  Weekly Roundup of eBay Vintage Clothing Finds ...  \n",
       "3  Kim Davis Loses Latest Gay Marriage Appeal Dav...  \n",
       "4  Stephen Colbert Is Game To Headline Trump's Wh...  "
      ]
     },
     "execution_count": 9,
     "metadata": {},
     "output_type": "execute_result"
    }
   ],
   "source": [
    "sample_data['text'] = sample_data['headline'] + ' ' + sample_data['short_description']\n",
    "sample_data.head()"
   ]
  },
  {
   "cell_type": "code",
   "execution_count": 10,
   "id": "0579f86f-5f9e-4e47-9148-5cb958709f98",
   "metadata": {
    "colab": {
     "base_uri": "https://localhost:8080/",
     "height": 206
    },
    "id": "0579f86f-5f9e-4e47-9148-5cb958709f98",
    "outputId": "f0a034b1-7fa2-4a80-b9c1-84180bc4837e"
   },
   "outputs": [
    {
     "data": {
      "text/html": [
       "\n",
       "  <div id=\"df-dd8f8709-a4c4-4655-a523-fa48538f719e\">\n",
       "    <div class=\"colab-df-container\">\n",
       "      <div>\n",
       "<style scoped>\n",
       "    .dataframe tbody tr th:only-of-type {\n",
       "        vertical-align: middle;\n",
       "    }\n",
       "\n",
       "    .dataframe tbody tr th {\n",
       "        vertical-align: top;\n",
       "    }\n",
       "\n",
       "    .dataframe thead th {\n",
       "        text-align: right;\n",
       "    }\n",
       "</style>\n",
       "<table border=\"1\" class=\"dataframe\">\n",
       "  <thead>\n",
       "    <tr style=\"text-align: right;\">\n",
       "      <th></th>\n",
       "      <th>text</th>\n",
       "      <th>category</th>\n",
       "    </tr>\n",
       "  </thead>\n",
       "  <tbody>\n",
       "    <tr>\n",
       "      <th>0</th>\n",
       "      <td>Behind the Scenes With the Trump Family For th...</td>\n",
       "      <td>STYLE &amp; BEAUTY</td>\n",
       "    </tr>\n",
       "    <tr>\n",
       "      <th>1</th>\n",
       "      <td>Jewish And Queer? This article was written by ...</td>\n",
       "      <td>QUEER VOICES</td>\n",
       "    </tr>\n",
       "    <tr>\n",
       "      <th>2</th>\n",
       "      <td>Weekly Roundup of eBay Vintage Clothing Finds ...</td>\n",
       "      <td>STYLE &amp; BEAUTY</td>\n",
       "    </tr>\n",
       "    <tr>\n",
       "      <th>3</th>\n",
       "      <td>Kim Davis Loses Latest Gay Marriage Appeal Dav...</td>\n",
       "      <td>POLITICS</td>\n",
       "    </tr>\n",
       "    <tr>\n",
       "      <th>4</th>\n",
       "      <td>Stephen Colbert Is Game To Headline Trump's Wh...</td>\n",
       "      <td>ENTERTAINMENT</td>\n",
       "    </tr>\n",
       "  </tbody>\n",
       "</table>\n",
       "</div>\n",
       "      <button class=\"colab-df-convert\" onclick=\"convertToInteractive('df-dd8f8709-a4c4-4655-a523-fa48538f719e')\"\n",
       "              title=\"Convert this dataframe to an interactive table.\"\n",
       "              style=\"display:none;\">\n",
       "        \n",
       "  <svg xmlns=\"http://www.w3.org/2000/svg\" height=\"24px\"viewBox=\"0 0 24 24\"\n",
       "       width=\"24px\">\n",
       "    <path d=\"M0 0h24v24H0V0z\" fill=\"none\"/>\n",
       "    <path d=\"M18.56 5.44l.94 2.06.94-2.06 2.06-.94-2.06-.94-.94-2.06-.94 2.06-2.06.94zm-11 1L8.5 8.5l.94-2.06 2.06-.94-2.06-.94L8.5 2.5l-.94 2.06-2.06.94zm10 10l.94 2.06.94-2.06 2.06-.94-2.06-.94-.94-2.06-.94 2.06-2.06.94z\"/><path d=\"M17.41 7.96l-1.37-1.37c-.4-.4-.92-.59-1.43-.59-.52 0-1.04.2-1.43.59L10.3 9.45l-7.72 7.72c-.78.78-.78 2.05 0 2.83L4 21.41c.39.39.9.59 1.41.59.51 0 1.02-.2 1.41-.59l7.78-7.78 2.81-2.81c.8-.78.8-2.07 0-2.86zM5.41 20L4 18.59l7.72-7.72 1.47 1.35L5.41 20z\"/>\n",
       "  </svg>\n",
       "      </button>\n",
       "      \n",
       "  <style>\n",
       "    .colab-df-container {\n",
       "      display:flex;\n",
       "      flex-wrap:wrap;\n",
       "      gap: 12px;\n",
       "    }\n",
       "\n",
       "    .colab-df-convert {\n",
       "      background-color: #E8F0FE;\n",
       "      border: none;\n",
       "      border-radius: 50%;\n",
       "      cursor: pointer;\n",
       "      display: none;\n",
       "      fill: #1967D2;\n",
       "      height: 32px;\n",
       "      padding: 0 0 0 0;\n",
       "      width: 32px;\n",
       "    }\n",
       "\n",
       "    .colab-df-convert:hover {\n",
       "      background-color: #E2EBFA;\n",
       "      box-shadow: 0px 1px 2px rgba(60, 64, 67, 0.3), 0px 1px 3px 1px rgba(60, 64, 67, 0.15);\n",
       "      fill: #174EA6;\n",
       "    }\n",
       "\n",
       "    [theme=dark] .colab-df-convert {\n",
       "      background-color: #3B4455;\n",
       "      fill: #D2E3FC;\n",
       "    }\n",
       "\n",
       "    [theme=dark] .colab-df-convert:hover {\n",
       "      background-color: #434B5C;\n",
       "      box-shadow: 0px 1px 3px 1px rgba(0, 0, 0, 0.15);\n",
       "      filter: drop-shadow(0px 1px 2px rgba(0, 0, 0, 0.3));\n",
       "      fill: #FFFFFF;\n",
       "    }\n",
       "  </style>\n",
       "\n",
       "      <script>\n",
       "        const buttonEl =\n",
       "          document.querySelector('#df-dd8f8709-a4c4-4655-a523-fa48538f719e button.colab-df-convert');\n",
       "        buttonEl.style.display =\n",
       "          google.colab.kernel.accessAllowed ? 'block' : 'none';\n",
       "\n",
       "        async function convertToInteractive(key) {\n",
       "          const element = document.querySelector('#df-dd8f8709-a4c4-4655-a523-fa48538f719e');\n",
       "          const dataTable =\n",
       "            await google.colab.kernel.invokeFunction('convertToInteractive',\n",
       "                                                     [key], {});\n",
       "          if (!dataTable) return;\n",
       "\n",
       "          const docLinkHtml = 'Like what you see? Visit the ' +\n",
       "            '<a target=\"_blank\" href=https://colab.research.google.com/notebooks/data_table.ipynb>data table notebook</a>'\n",
       "            + ' to learn more about interactive tables.';\n",
       "          element.innerHTML = '';\n",
       "          dataTable['output_type'] = 'display_data';\n",
       "          await google.colab.output.renderOutput(dataTable, element);\n",
       "          const docLink = document.createElement('div');\n",
       "          docLink.innerHTML = docLinkHtml;\n",
       "          element.appendChild(docLink);\n",
       "        }\n",
       "      </script>\n",
       "    </div>\n",
       "  </div>\n",
       "  "
      ],
      "text/plain": [
       "                                                text        category\n",
       "0  Behind the Scenes With the Trump Family For th...  STYLE & BEAUTY\n",
       "1  Jewish And Queer? This article was written by ...    QUEER VOICES\n",
       "2  Weekly Roundup of eBay Vintage Clothing Finds ...  STYLE & BEAUTY\n",
       "3  Kim Davis Loses Latest Gay Marriage Appeal Dav...        POLITICS\n",
       "4  Stephen Colbert Is Game To Headline Trump's Wh...   ENTERTAINMENT"
      ]
     },
     "execution_count": 10,
     "metadata": {},
     "output_type": "execute_result"
    }
   ],
   "source": [
    "data_filter = sample_data[['text', 'category']].copy()\n",
    "data_filter.head()"
   ]
  },
  {
   "cell_type": "markdown",
   "id": "69983ca6-567e-49dc-b4f9-fb75e6fdcf35",
   "metadata": {
    "id": "69983ca6-567e-49dc-b4f9-fb75e6fdcf35"
   },
   "source": [
    "Check if there are null values"
   ]
  },
  {
   "cell_type": "code",
   "execution_count": 11,
   "id": "0ab83ed4-e359-4da0-a12c-c5bd78c303a4",
   "metadata": {
    "colab": {
     "base_uri": "https://localhost:8080/"
    },
    "id": "0ab83ed4-e359-4da0-a12c-c5bd78c303a4",
    "outputId": "508da7d2-0eb5-4997-8931-466965545a03"
   },
   "outputs": [
    {
     "data": {
      "text/plain": [
       "text        0\n",
       "category    0\n",
       "dtype: int64"
      ]
     },
     "execution_count": 11,
     "metadata": {},
     "output_type": "execute_result"
    }
   ],
   "source": [
    "data_filter = data_filter.dropna()\n",
    "data_filter.isnull().sum()"
   ]
  },
  {
   "cell_type": "markdown",
   "id": "2fa28515-dcb1-4551-849f-7d377228c347",
   "metadata": {
    "id": "2fa28515-dcb1-4551-849f-7d377228c347"
   },
   "source": [
    "Next, let's convert category into labels!"
   ]
  },
  {
   "cell_type": "code",
   "execution_count": 12,
   "id": "676dd156-37d3-4f25-addb-3c7ae29ec51f",
   "metadata": {
    "colab": {
     "base_uri": "https://localhost:8080/"
    },
    "id": "676dd156-37d3-4f25-addb-3c7ae29ec51f",
    "outputId": "00f72929-c179-4bb0-c9f7-cf2cf5b2135e"
   },
   "outputs": [
    {
     "data": {
      "text/plain": [
       "0    2853\n",
       "1    1438\n",
       "2    1391\n",
       "3     793\n",
       "4     787\n",
       "5     705\n",
       "6     536\n",
       "7     509\n",
       "8     508\n",
       "9     480\n",
       "Name: label, dtype: int64"
      ]
     },
     "execution_count": 12,
     "metadata": {},
     "output_type": "execute_result"
    }
   ],
   "source": [
    "mapping = {'POLITICS': 0,         \n",
    "    'WELLNESS': 1,\n",
    "    'ENTERTAINMENT': 2,\n",
    "    'TRAVEL': 3,  \n",
    "    'STYLE & BEAUTY': 4,\n",
    "    'PARENTING': 5,\n",
    "    'HEALTHY LIVING': 6,\n",
    "    'QUEER VOICES': 7, \n",
    "    'FOOD & DRINK': 8,   \n",
    "    'BUSINESS': 9\n",
    "}\n",
    "\n",
    "# used when find category name\n",
    "reversed_mapping = {v: k for k, v in mapping.items()}\n",
    "\n",
    "data_filter['label'] = data_filter['category'].map(mapping)\n",
    "data_filter['label'].value_counts()"
   ]
  },
  {
   "cell_type": "markdown",
   "id": "34159c0a-499c-4bab-9e5d-7eedc70caa02",
   "metadata": {
    "id": "34159c0a-499c-4bab-9e5d-7eedc70caa02"
   },
   "source": [
    "### Dataset Spliting\n",
    "Now that we have a pre-processed dataset, we will split the dataset into train, validation and test set.\n",
    "\n",
    "First, let's saperate feature and label."
   ]
  },
  {
   "cell_type": "code",
   "execution_count": 13,
   "id": "f51a8e04-954e-4f90-ba3f-8877e0d77c0c",
   "metadata": {
    "colab": {
     "base_uri": "https://localhost:8080/"
    },
    "id": "f51a8e04-954e-4f90-ba3f-8877e0d77c0c",
    "outputId": "16e8851f-4fe2-4a1c-fd8c-5673e699a173"
   },
   "outputs": [
    {
     "name": "stdout",
     "output_type": "stream",
     "text": [
      "(10000,) (10000,)\n"
     ]
    }
   ],
   "source": [
    "X, y = data_filter['text'].copy(), data_filter['label'].copy()\n",
    "print(X.shape, y.shape)"
   ]
  },
  {
   "cell_type": "markdown",
   "id": "37dd0e4c-2336-4d18-94f1-121f8fbd4ebc",
   "metadata": {
    "id": "37dd0e4c-2336-4d18-94f1-121f8fbd4ebc"
   },
   "source": [
    "split the data."
   ]
  },
  {
   "cell_type": "code",
   "execution_count": 14,
   "id": "942098d4-6ade-4e41-8fb9-d9b32c15e7c8",
   "metadata": {
    "id": "942098d4-6ade-4e41-8fb9-d9b32c15e7c8"
   },
   "outputs": [],
   "source": [
    "from sklearn.model_selection import train_test_split\n",
    "\n",
    "# Split the dataset into train and test sets\n",
    "X_train, X_test, y_train, y_test = train_test_split(X, y, test_size=0.4, random_state=1)\n",
    "\n",
    "# Split the test set into validation and test sets\n",
    "X_valid, X_test, y_valid, y_test = train_test_split(X_test, y_test, test_size=0.5, random_state=1)"
   ]
  },
  {
   "cell_type": "code",
   "execution_count": 15,
   "id": "0DQNDUY71ywH",
   "metadata": {
    "colab": {
     "base_uri": "https://localhost:8080/",
     "height": 222
    },
    "id": "0DQNDUY71ywH",
    "outputId": "cf36551a-1a95-4655-b996-cb0e352e3da6"
   },
   "outputs": [
    {
     "data": {
      "text/html": [
       "\n",
       "  <div id=\"df-cb418a21-557b-4702-8617-df688873821e\">\n",
       "    <div class=\"colab-df-container\">\n",
       "      <div>\n",
       "<style scoped>\n",
       "    .dataframe tbody tr th:only-of-type {\n",
       "        vertical-align: middle;\n",
       "    }\n",
       "\n",
       "    .dataframe tbody tr th {\n",
       "        vertical-align: top;\n",
       "    }\n",
       "\n",
       "    .dataframe thead th {\n",
       "        text-align: right;\n",
       "    }\n",
       "</style>\n",
       "<table border=\"1\" class=\"dataframe\">\n",
       "  <thead>\n",
       "    <tr style=\"text-align: right;\">\n",
       "      <th></th>\n",
       "      <th>POLITICS</th>\n",
       "      <th>WELLNESS</th>\n",
       "      <th>ENTERTAINMENT</th>\n",
       "      <th>TRAVEL</th>\n",
       "      <th>STYLE &amp; BEAUTY</th>\n",
       "      <th>PARENTING</th>\n",
       "      <th>HEALTHY LIVING</th>\n",
       "      <th>QUEER VOICES</th>\n",
       "      <th>FOOD &amp; DRINK</th>\n",
       "      <th>BUSINESS</th>\n",
       "    </tr>\n",
       "  </thead>\n",
       "  <tbody>\n",
       "    <tr>\n",
       "      <th>training set</th>\n",
       "      <td>1714</td>\n",
       "      <td>881</td>\n",
       "      <td>813</td>\n",
       "      <td>490</td>\n",
       "      <td>476</td>\n",
       "      <td>402</td>\n",
       "      <td>316</td>\n",
       "      <td>312</td>\n",
       "      <td>311</td>\n",
       "      <td>285</td>\n",
       "    </tr>\n",
       "    <tr>\n",
       "      <th>validation set</th>\n",
       "      <td>562</td>\n",
       "      <td>290</td>\n",
       "      <td>289</td>\n",
       "      <td>162</td>\n",
       "      <td>153</td>\n",
       "      <td>142</td>\n",
       "      <td>104</td>\n",
       "      <td>102</td>\n",
       "      <td>100</td>\n",
       "      <td>96</td>\n",
       "    </tr>\n",
       "    <tr>\n",
       "      <th>test set</th>\n",
       "      <td>577</td>\n",
       "      <td>288</td>\n",
       "      <td>268</td>\n",
       "      <td>161</td>\n",
       "      <td>150</td>\n",
       "      <td>149</td>\n",
       "      <td>116</td>\n",
       "      <td>102</td>\n",
       "      <td>95</td>\n",
       "      <td>94</td>\n",
       "    </tr>\n",
       "  </tbody>\n",
       "</table>\n",
       "</div>\n",
       "      <button class=\"colab-df-convert\" onclick=\"convertToInteractive('df-cb418a21-557b-4702-8617-df688873821e')\"\n",
       "              title=\"Convert this dataframe to an interactive table.\"\n",
       "              style=\"display:none;\">\n",
       "        \n",
       "  <svg xmlns=\"http://www.w3.org/2000/svg\" height=\"24px\"viewBox=\"0 0 24 24\"\n",
       "       width=\"24px\">\n",
       "    <path d=\"M0 0h24v24H0V0z\" fill=\"none\"/>\n",
       "    <path d=\"M18.56 5.44l.94 2.06.94-2.06 2.06-.94-2.06-.94-.94-2.06-.94 2.06-2.06.94zm-11 1L8.5 8.5l.94-2.06 2.06-.94-2.06-.94L8.5 2.5l-.94 2.06-2.06.94zm10 10l.94 2.06.94-2.06 2.06-.94-2.06-.94-.94-2.06-.94 2.06-2.06.94z\"/><path d=\"M17.41 7.96l-1.37-1.37c-.4-.4-.92-.59-1.43-.59-.52 0-1.04.2-1.43.59L10.3 9.45l-7.72 7.72c-.78.78-.78 2.05 0 2.83L4 21.41c.39.39.9.59 1.41.59.51 0 1.02-.2 1.41-.59l7.78-7.78 2.81-2.81c.8-.78.8-2.07 0-2.86zM5.41 20L4 18.59l7.72-7.72 1.47 1.35L5.41 20z\"/>\n",
       "  </svg>\n",
       "      </button>\n",
       "      \n",
       "  <style>\n",
       "    .colab-df-container {\n",
       "      display:flex;\n",
       "      flex-wrap:wrap;\n",
       "      gap: 12px;\n",
       "    }\n",
       "\n",
       "    .colab-df-convert {\n",
       "      background-color: #E8F0FE;\n",
       "      border: none;\n",
       "      border-radius: 50%;\n",
       "      cursor: pointer;\n",
       "      display: none;\n",
       "      fill: #1967D2;\n",
       "      height: 32px;\n",
       "      padding: 0 0 0 0;\n",
       "      width: 32px;\n",
       "    }\n",
       "\n",
       "    .colab-df-convert:hover {\n",
       "      background-color: #E2EBFA;\n",
       "      box-shadow: 0px 1px 2px rgba(60, 64, 67, 0.3), 0px 1px 3px 1px rgba(60, 64, 67, 0.15);\n",
       "      fill: #174EA6;\n",
       "    }\n",
       "\n",
       "    [theme=dark] .colab-df-convert {\n",
       "      background-color: #3B4455;\n",
       "      fill: #D2E3FC;\n",
       "    }\n",
       "\n",
       "    [theme=dark] .colab-df-convert:hover {\n",
       "      background-color: #434B5C;\n",
       "      box-shadow: 0px 1px 3px 1px rgba(0, 0, 0, 0.15);\n",
       "      filter: drop-shadow(0px 1px 2px rgba(0, 0, 0, 0.3));\n",
       "      fill: #FFFFFF;\n",
       "    }\n",
       "  </style>\n",
       "\n",
       "      <script>\n",
       "        const buttonEl =\n",
       "          document.querySelector('#df-cb418a21-557b-4702-8617-df688873821e button.colab-df-convert');\n",
       "        buttonEl.style.display =\n",
       "          google.colab.kernel.accessAllowed ? 'block' : 'none';\n",
       "\n",
       "        async function convertToInteractive(key) {\n",
       "          const element = document.querySelector('#df-cb418a21-557b-4702-8617-df688873821e');\n",
       "          const dataTable =\n",
       "            await google.colab.kernel.invokeFunction('convertToInteractive',\n",
       "                                                     [key], {});\n",
       "          if (!dataTable) return;\n",
       "\n",
       "          const docLinkHtml = 'Like what you see? Visit the ' +\n",
       "            '<a target=\"_blank\" href=https://colab.research.google.com/notebooks/data_table.ipynb>data table notebook</a>'\n",
       "            + ' to learn more about interactive tables.';\n",
       "          element.innerHTML = '';\n",
       "          dataTable['output_type'] = 'display_data';\n",
       "          await google.colab.output.renderOutput(dataTable, element);\n",
       "          const docLink = document.createElement('div');\n",
       "          docLink.innerHTML = docLinkHtml;\n",
       "          element.appendChild(docLink);\n",
       "        }\n",
       "      </script>\n",
       "    </div>\n",
       "  </div>\n",
       "  "
      ],
      "text/plain": [
       "                POLITICS  WELLNESS  ENTERTAINMENT  TRAVEL  STYLE & BEAUTY  \\\n",
       "training set        1714       881            813     490             476   \n",
       "validation set       562       290            289     162             153   \n",
       "test set             577       288            268     161             150   \n",
       "\n",
       "                PARENTING  HEALTHY LIVING  QUEER VOICES  FOOD & DRINK  \\\n",
       "training set          402             316           312           311   \n",
       "validation set        142             104           102           100   \n",
       "test set              149             116           102            95   \n",
       "\n",
       "                BUSINESS  \n",
       "training set         285  \n",
       "validation set        96  \n",
       "test set              94  "
      ]
     },
     "execution_count": 15,
     "metadata": {},
     "output_type": "execute_result"
    }
   ],
   "source": [
    "label_count = dict()\n",
    "label_count['training set'] = y_train.value_counts().values\n",
    "label_count['validation set'] = y_valid.value_counts().values\n",
    "label_count['test set'] = y_test.value_counts().values\n",
    "\n",
    "table = pd.DataFrame.from_dict(label_count, orient='index', columns=mapping.keys())\n",
    "table"
   ]
  },
  {
   "cell_type": "markdown",
   "id": "02305117-54f3-423c-8a27-5628d8062c03",
   "metadata": {
    "id": "02305117-54f3-423c-8a27-5628d8062c03"
   },
   "source": [
    "## Part 2: K-means Clustering"
   ]
  },
  {
   "cell_type": "markdown",
   "id": "bc8934c9-1dc3-4c1d-bc22-db7f57b5cc49",
   "metadata": {
    "id": "bc8934c9-1dc3-4c1d-bc22-db7f57b5cc49"
   },
   "source": [
    "### Model Building\n",
    "We will perform a clustering algorithm on the dataset. In our case, we will use **K-Means**.\n",
    "\n",
    "Let's start by vectorizing the texts."
   ]
  },
  {
   "cell_type": "code",
   "execution_count": 16,
   "id": "a7eb049c-d375-445e-a798-21c2feece0c1",
   "metadata": {
    "colab": {
     "base_uri": "https://localhost:8080/"
    },
    "id": "a7eb049c-d375-445e-a798-21c2feece0c1",
    "outputId": "8be98d6d-fb54-4fde-98dc-8b6ed2793c29"
   },
   "outputs": [
    {
     "name": "stdout",
     "output_type": "stream",
     "text": [
      "(6000, 14570)\n",
      "(2000, 14570)\n"
     ]
    }
   ],
   "source": [
    "from sklearn.feature_extraction.text import TfidfVectorizer\n",
    "import spacy\n",
    "import warnings\n",
    "\n",
    "# Disable the UserWarning about 'token_pattern'\n",
    "warnings.filterwarnings('ignore', message=\"The parameter 'token_pattern' will not be used since 'tokenizer' is not None'\")\n",
    "\n",
    "nlp = spacy.load('en_core_web_sm')\n",
    "\n",
    "def text_pipeline_spacy(text):\n",
    "    tokens = []\n",
    "    doc = nlp(text)\n",
    "    for t in doc:\n",
    "        if not t.is_stop and not t.is_punct and not t.is_space:\n",
    "            tokens.append(t.lemma_.lower())\n",
    "    return tokens\n",
    "\n",
    "vectorizer = TfidfVectorizer(tokenizer=text_pipeline_spacy)\n",
    "X_train_vec = vectorizer.fit_transform(X_train).toarray()\n",
    "X_valid_vec = vectorizer.transform(X_valid).toarray()\n",
    "vocab = vectorizer.vocabulary_\n",
    "\n",
    "print(X_train_vec.shape)\n",
    "print(X_valid_vec.shape)"
   ]
  },
  {
   "cell_type": "markdown",
   "id": "5bbf83b2-67dd-4f4d-8b7d-c7404c5a6ee2",
   "metadata": {
    "id": "5bbf83b2-67dd-4f4d-8b7d-c7404c5a6ee2"
   },
   "source": [
    "Then we will start the main logic of K-means. Starting by create few helper function!"
   ]
  },
  {
   "cell_type": "code",
   "execution_count": 17,
   "id": "cb616fcd-85f5-4c71-90e5-35cd04ea22d8",
   "metadata": {
    "id": "cb616fcd-85f5-4c71-90e5-35cd04ea22d8"
   },
   "outputs": [],
   "source": [
    "def kMeans_init_centroids(X, K):\n",
    "    \"\"\"\n",
    "    This function initializes K centroids that are to be \n",
    "    used in K-Means on the dataset X\n",
    "    \n",
    "    Args:\n",
    "        X (ndarray): Input data points \n",
    "        K (int):     number of centroids/clusters\n",
    "    \n",
    "    Returns:\n",
    "        centroids (ndarray): Initialized centroids\n",
    "    \"\"\"\n",
    "    \n",
    "    # Randomly reorder the indices of examples\n",
    "    randidx = np.random.permutation(X.shape[0])\n",
    "    \n",
    "    # Take the first K examples as centroids\n",
    "    centroids = X[randidx[:K]]\n",
    "    \n",
    "    return centroids"
   ]
  },
  {
   "cell_type": "code",
   "execution_count": 18,
   "id": "12830300-3ce7-454f-bc89-8e9661130325",
   "metadata": {
    "id": "12830300-3ce7-454f-bc89-8e9661130325"
   },
   "outputs": [],
   "source": [
    "def find_closest_centroids(X, centroids):\n",
    "    \"\"\"\n",
    "    Computes the closest centroid for every example\n",
    "    \n",
    "    Args:\n",
    "        X (ndarray): Input data points      \n",
    "        centroids (ndarray): k centroids\n",
    "    \n",
    "    Returns:\n",
    "        idx (array_like): closest centroids (With index)\n",
    "    \"\"\"\n",
    "\n",
    "    # Set K\n",
    "    K = centroids.shape[0]\n",
    "\n",
    "    # closest centroid to every row, store by index\n",
    "#     idx = np.zeros(X.shape[0], dtype=int)\n",
    "\n",
    "#     for i in range(X.shape[0]):\n",
    "#         mini = float('inf')\n",
    "#         c = 0\n",
    "#         for j in range(centroids.shape[0]):\n",
    "#             dist = np.linalg.norm(centroids[j] - X[i])\n",
    "#             if dist < mini:\n",
    "#                 mini = dist\n",
    "#                 c = j\n",
    "#         idx[i] = c\n",
    "    \n",
    "#     return idx\n",
    "\n",
    "    dists = []\n",
    "    for i in range(centroids.shape[0]):\n",
    "        dist = np.sum((X - centroids[i])**2, axis=1)\n",
    "        dists.append(dist)\n",
    "        \n",
    "    dists = np.array(dists).T  # Convert to a (N, K) array\n",
    "\n",
    "    # Find the index of the closest centroid for each example\n",
    "    idx = np.argmin(dists, axis=1)\n",
    "    \n",
    "    return idx"
   ]
  },
  {
   "cell_type": "code",
   "execution_count": 19,
   "id": "2abe9307-1a4d-4933-b135-fcda1c58bbc5",
   "metadata": {
    "id": "2abe9307-1a4d-4933-b135-fcda1c58bbc5"
   },
   "outputs": [],
   "source": [
    "def compute_centroids(X, idx, K):\n",
    "    \"\"\"\n",
    "    Returns the new centroids by computing the means of the \n",
    "    data points assigned to each centroid.\n",
    "    \n",
    "    Args:\n",
    "        X (ndarray):   Input data points\n",
    "        idx (ndarray): Array containing index of closest centroid for each \n",
    "                       example in X.\n",
    "        K (int):       number of centroids\n",
    "    \n",
    "    Returns:\n",
    "        centroids (ndarray): New centroids computed\n",
    "    \"\"\"\n",
    "    \n",
    "    m, n = X.shape\n",
    "    \n",
    "    centroids = np.zeros((K, n))\n",
    "    \n",
    "    for i in range(K):\n",
    "        X_sub = X[idx == i]\n",
    "        new_c = np.mean(X_sub, axis=0)\n",
    "        centroids[i] = new_c\n",
    "    \n",
    "    return centroids"
   ]
  },
  {
   "cell_type": "markdown",
   "id": "aab4e5ba-a7eb-4b3d-afe8-374f2f830af0",
   "metadata": {
    "id": "aab4e5ba-a7eb-4b3d-afe8-374f2f830af0"
   },
   "source": [
    "Now that We have everything needed, We can create our custom K-means model. Steps are as followed:\n",
    "- Step 1: Pick k random \"centroids\"\n",
    "- Step 2: Assign each vector to its closest centroid\n",
    "- Step 3: Recalculate the centroids based on the closest vectors\n",
    "- [Repeat Steps 2 and 3 until the model converges]"
   ]
  },
  {
   "cell_type": "code",
   "execution_count": 20,
   "id": "0bb32bfe-da6a-4901-b68d-837e1a3949d0",
   "metadata": {
    "id": "0bb32bfe-da6a-4901-b68d-837e1a3949d0"
   },
   "outputs": [],
   "source": [
    "class My_kmeans:\n",
    "    def __init__(self, K, max_iters=100):\n",
    "        self.K = K\n",
    "        self.max_iters = max_iters\n",
    "        \n",
    "    \n",
    "    def fit(self, X):\n",
    "        \"\"\"\n",
    "        Returns result centroids of k-means model.\n",
    "\n",
    "        Args:\n",
    "            X (ndarray):     Input data points\n",
    "            K (int):         number of centroids\n",
    "            max_iters (int): Max iteration, prevent running for too long \n",
    "\n",
    "        Returns:\n",
    "            centroids (ndarray): the result centroids\n",
    "            idx: (ndarray):      result array containing index of closest centroid for each \n",
    "                                 example in X\n",
    "        \"\"\"\n",
    "\n",
    "        # Initialize values\n",
    "        m, n = X.shape\n",
    "        centroids = kMeans_init_centroids(X, self.K)\n",
    "        prev_centroids = None\n",
    "        previous_centroids = centroids\n",
    "        idx = np.zeros(m)\n",
    "\n",
    "        # Run K-Means\n",
    "        for i in range(self.max_iters):\n",
    "            #Output progress\n",
    "            if i % 10 == 0:\n",
    "                print(\"K-Means iteration %d/%d\" % (i, self.max_iters-1))\n",
    "\n",
    "            # For each example in X, assign it to the closest centroid\n",
    "            idx = find_closest_centroids(X, centroids)\n",
    "\n",
    "            # mark previous centroids\n",
    "            prev_centroids = centroids.copy()\n",
    "\n",
    "            # Given the members, compute new centroids\n",
    "            centroids = compute_centroids(X, idx, self.K)\n",
    "\n",
    "            # Check if the centroids have converged\n",
    "            if np.allclose(centroids, prev_centroids):\n",
    "                break\n",
    "\n",
    "        print('Done!')\n",
    "        self.centroids = centroids\n",
    "        self.idx = idx\n",
    "        return centroids, idx\n",
    "    \n",
    "    \n",
    "    def predict(self, X):\n",
    "        \"\"\"\n",
    "        Predict the closest centroid for each example in X using the final centroids obtained during training.\n",
    "\n",
    "        Args:\n",
    "            X (ndarray): Input data points\n",
    "\n",
    "        Returns:\n",
    "            idx (ndarray): Array containing the index of the closest centroid for each example in X\n",
    "        \"\"\"\n",
    "\n",
    "        # Use the final centroids obtained during training\n",
    "        centroids = self.centroids\n",
    "\n",
    "        # Find the closest centroid for each example in X\n",
    "        idx = find_closest_centroids(X, centroids)\n",
    "\n",
    "        return idx"
   ]
  },
  {
   "cell_type": "markdown",
   "id": "1eec8a48-a755-4261-aec9-f1fe102829b7",
   "metadata": {
    "id": "1eec8a48-a755-4261-aec9-f1fe102829b7"
   },
   "source": [
    "### Results inspection\n",
    "We will use k = 5 to analyze the result."
   ]
  },
  {
   "cell_type": "code",
   "execution_count": 21,
   "id": "72b91ad6-32ce-4615-8ab4-3f5201fe687a",
   "metadata": {
    "colab": {
     "base_uri": "https://localhost:8080/"
    },
    "id": "72b91ad6-32ce-4615-8ab4-3f5201fe687a",
    "outputId": "a2a001f3-8923-455b-879d-8296fbdc0c3f"
   },
   "outputs": [
    {
     "name": "stdout",
     "output_type": "stream",
     "text": [
      "K-Means iteration 0/99\n",
      "K-Means iteration 10/99\n",
      "Done!\n"
     ]
    }
   ],
   "source": [
    "model = My_kmeans(K=5)\n",
    "result = model.fit(X_train_vec)"
   ]
  },
  {
   "cell_type": "code",
   "execution_count": 22,
   "id": "0c95f084-aae2-4a40-a05c-0a5511c445a7",
   "metadata": {
    "colab": {
     "base_uri": "https://localhost:8080/"
    },
    "id": "0c95f084-aae2-4a40-a05c-0a5511c445a7",
    "outputId": "5f4462f5-42af-4884-c877-59a0d3cdca32"
   },
   "outputs": [
    {
     "name": "stdout",
     "output_type": "stream",
     "text": [
      ">>>>>>>>>>>>>>>>>>>>>>>>>>>>>>>>>>\n",
      "Top 5 tokens for centroid number 1 is: \n",
      "['new', 'photo', 'day', 'year', 'like']\n",
      "\n",
      "\n",
      "Random documents in this cluster: \n",
      "9516    We Tried It: Jump Rope Workout Growing up, I w...\n",
      "1486    A Change in Hair Care That's Easy to Make For ...\n",
      "7787    Are You a Victim or a Leader? Your Choice! We ...\n",
      "2849    Baby's 10-Minute Makeover Mom leaves Dad alone...\n",
      "8247    Drones and Discrimination: Kick the Habit On D...\n",
      "1335    Sowing Smaller Government, Reaping... Salmonel...\n",
      "5666    'Girls' Adds To The Muddle On HPV Testing The ...\n",
      "5900    Diamond Diana: Diana Ross Forever Shining Dian...\n",
      "7237    Russia Rewords Olympic Truce Amid Criticism Of...\n",
      "7127    Are You Ready to Have Babies? Take the Test Bu...\n",
      "Name: text, dtype: object\n",
      "\n",
      "\n",
      "9516          WELLNESS\n",
      "1486    STYLE & BEAUTY\n",
      "7787         PARENTING\n",
      "2849         PARENTING\n",
      "8247          POLITICS\n",
      "1335          WELLNESS\n",
      "5666          WELLNESS\n",
      "5900     ENTERTAINMENT\n",
      "7237      QUEER VOICES\n",
      "7127         PARENTING\n",
      "Name: label, dtype: object\n",
      ">>>>>>>>>>>>>>>>>>>>>>>>>>>>>>>>>>\n",
      "\n",
      "\n",
      ">>>>>>>>>>>>>>>>>>>>>>>>>>>>>>>>>>\n",
      "Top 5 tokens for centroid number 2 is: \n",
      "['say', 'trump', 'donald', 'president', 'republican']\n",
      "\n",
      "\n",
      "Random documents in this cluster: \n",
      "1314    Trump Org: You Can't Expect Us To Turn Over AL...\n",
      "7481    Coal Executive Admits Donald Trump Can't Singl...\n",
      "9676    Donald Trump Cabinet Picks Steven Mnuchin And ...\n",
      "7250    A Message For Muslims About Donald Trump's Ele...\n",
      "6422    Trump's D.C. Hotel Permanently Bans Forbes Rep...\n",
      "9350    Voters Find Hillary Clinton Less Trustworthy A...\n",
      "6353    Trump Would Have Lost To Bernie Not only did B...\n",
      "7577    Trump Follows China's Lead On Press Freedom, D...\n",
      "3560    Most Americans Think Donald Trump Shouldn't Ha...\n",
      "429     Donald Trump Says He Would Prioritize Resettli...\n",
      "Name: text, dtype: object\n",
      "\n",
      "\n",
      "1314    POLITICS\n",
      "7481    POLITICS\n",
      "9676    POLITICS\n",
      "7250    POLITICS\n",
      "6422    POLITICS\n",
      "9350    POLITICS\n",
      "6353    POLITICS\n",
      "7577    POLITICS\n",
      "3560    POLITICS\n",
      "429     POLITICS\n",
      "Name: label, dtype: object\n",
      ">>>>>>>>>>>>>>>>>>>>>>>>>>>>>>>>>>\n",
      "\n",
      "\n",
      ">>>>>>>>>>>>>>>>>>>>>>>>>>>>>>>>>>\n",
      "Top 5 tokens for centroid number 3 is: \n",
      "['study', 'say', 'woman', 'cancer', 'sleep']\n",
      "\n",
      "\n",
      "Random documents in this cluster: \n",
      "3155    Miracle Zero Carb Cranberry Juice: American He...\n",
      "4933    To Sleep, Perchance to Dream, That Is the Medi...\n",
      "5016    Teens Who Hide Their Sexuality Have Higher Sui...\n",
      "646     Rob Lowe Says You May Not Have Seen The Last O...\n",
      "1672    Blastomycosis Outbreak: Source Of Fungal Infec...\n",
      "6612    Dallas Ebola Patient Not Receiving Experimenta...\n",
      "8719    Child Abuse Injuries, Deaths On The Rise, Stud...\n",
      "849     An Elite Consulting Firm Said 'Black Lives Mat...\n",
      "1398    Virgin Atlantic's New Uniforms Designed By Viv...\n",
      "9125    Parents, Kids and OCD \"You'd think they would ...\n",
      "Name: text, dtype: object\n",
      "\n",
      "\n",
      "3155          WELLNESS\n",
      "4933          WELLNESS\n",
      "5016      QUEER VOICES\n",
      "646      ENTERTAINMENT\n",
      "1672          WELLNESS\n",
      "6612    HEALTHY LIVING\n",
      "8719         PARENTING\n",
      "849           BUSINESS\n",
      "1398            TRAVEL\n",
      "9125         PARENTING\n",
      "Name: label, dtype: object\n",
      ">>>>>>>>>>>>>>>>>>>>>>>>>>>>>>>>>>\n",
      "\n",
      "\n",
      ">>>>>>>>>>>>>>>>>>>>>>>>>>>>>>>>>>\n",
      "Top 5 tokens for centroid number 4 is: \n",
      "['good', 'way', 'time', 'want', 'travel']\n",
      "\n",
      "\n",
      "Random documents in this cluster: \n",
      "5940       Lena Dunham's 'Scandal' Episode Looks So Good \n",
      "4929    This Baby Is Probably Better At Basketball Tha...\n",
      "1805    15 Habits That Could Be Hurting Your Business ...\n",
      "1118    Someone Spotted A New Pixar Easter Egg From 'T...\n",
      "1115    9 Ways To Boost Your Metabolism Bonus: They're...\n",
      "2988    Why Don't Lesbians Hook Up Online? Ever since ...\n",
      "6907    Want To Stop Snoring? Here's What Works (And W...\n",
      "9153    30 Ways To Get Even More Nutella In Your Mouth...\n",
      "7125    Notes From the Couch: 'Twas the Week After New...\n",
      "4884    Do You Want to Loosen the Grip of Fear? If you...\n",
      "Name: text, dtype: object\n",
      "\n",
      "\n",
      "5940     ENTERTAINMENT\n",
      "4929         PARENTING\n",
      "1805          BUSINESS\n",
      "1118     ENTERTAINMENT\n",
      "1115    HEALTHY LIVING\n",
      "2988      QUEER VOICES\n",
      "6907    HEALTHY LIVING\n",
      "9153      FOOD & DRINK\n",
      "7125          WELLNESS\n",
      "4884          WELLNESS\n",
      "Name: label, dtype: object\n",
      ">>>>>>>>>>>>>>>>>>>>>>>>>>>>>>>>>>\n",
      "\n",
      "\n",
      ">>>>>>>>>>>>>>>>>>>>>>>>>>>>>>>>>>\n",
      "Top 5 tokens for centroid number 5 is: \n",
      "['health', 'care', 'bill', 'gop', 'court']\n",
      "\n",
      "\n",
      "Random documents in this cluster: \n",
      "193     Jerry Brown Got Joe Biden Really Riled Up At A...\n",
      "2972    A New Way to Look at Parenting: Why Parents Mu...\n",
      "8474    Bill Nye The Science Guy Is Suing Disney For B...\n",
      "9406    HBO Has No Plans To Fire Bill Maher After On-A...\n",
      "9846    50 Activists Fighting For LGBTQ Rights in 50 S...\n",
      "9026    Democratic Lawmakers Consider Fleeing Texas To...\n",
      "6492    Lawmakers Don’t Have To Disclose Federal Loans...\n",
      "9262    New Ferguson Judge Is Finally Doing Something ...\n",
      "7330    Republicans Support Outsider Presidential Cand...\n",
      "4171    Going Out on a Limb: Will the Democrats Hold O...\n",
      "Name: text, dtype: object\n",
      "\n",
      "\n",
      "193          POLITICS\n",
      "2972        PARENTING\n",
      "8474    ENTERTAINMENT\n",
      "9406    ENTERTAINMENT\n",
      "9846     QUEER VOICES\n",
      "9026         POLITICS\n",
      "6492         POLITICS\n",
      "9262         POLITICS\n",
      "7330         POLITICS\n",
      "4171         POLITICS\n",
      "Name: label, dtype: object\n",
      ">>>>>>>>>>>>>>>>>>>>>>>>>>>>>>>>>>\n",
      "\n",
      "\n"
     ]
    }
   ],
   "source": [
    "centroids = model.centroids\n",
    "labels = model.predict(X_train_vec)\n",
    "centroid_map = dict()\n",
    "\n",
    "# store 10 random documents for each centroids\n",
    "for i, c in enumerate(centroids):\n",
    "    print('>>>>>>>>>>>>>>>>>>>>>>>>>>>>>>>>>>')\n",
    "    # First, get the top 5 tokens with the highest magnitude\n",
    "    sorted_indices = np.argsort(c)\n",
    "    top_5_indices = sorted_indices[-5:]\n",
    "    print('Top 5 tokens for centroid number ' + str(i+1) + ' is: ')\n",
    "    print([ k for k, v in vocab.items() if v in top_5_indices ])\n",
    "    \n",
    "    # Next, random sampling some documents and their corresponding truth label(category)\n",
    "    X_cur = X_train[labels == i]\n",
    "    y_cur = y_train[labels == i]\n",
    "    sample_indices = np.random.choice(X_cur.shape[0], size=10, replace=False)\n",
    "    sample_X_train = X_cur.iloc[sample_indices]\n",
    "    sample_y_train = y_cur.iloc[sample_indices]\n",
    "    print('\\n')\n",
    "    print('Random documents in this cluster: ')\n",
    "    print(sample_X_train)\n",
    "    print('\\n')\n",
    "    print(sample_y_train.apply(lambda x: reversed_mapping[x]))\n",
    "    \n",
    "    print('>>>>>>>>>>>>>>>>>>>>>>>>>>>>>>>>>>')\n",
    "    print('\\n')"
   ]
  },
  {
   "cell_type": "markdown",
   "id": "d6dc8fe0-18a3-4fd6-b699-05dab509bf36",
   "metadata": {
    "id": "d6dc8fe0-18a3-4fd6-b699-05dab509bf36"
   },
   "source": [
    "## Part 3: Comparing classifier\n",
    "In this section, I will use several classifiers to classify my data, and assess the performence.\n",
    "\n",
    "First, import some packages for use, and create a overall training and evaluating function."
   ]
  },
  {
   "cell_type": "code",
   "execution_count": 24,
   "id": "745ff753-7960-46ca-b81e-71c3baf732bd",
   "metadata": {
    "id": "745ff753-7960-46ca-b81e-71c3baf732bd"
   },
   "outputs": [],
   "source": [
    "from sklearn.dummy import DummyClassifier\n",
    "from sklearn.linear_model import LogisticRegression\n",
    "from sklearn.svm import SVC\n",
    "from sklearn.pipeline import Pipeline\n",
    "\n",
    "from sklearn.feature_extraction.text import TfidfVectorizer\n",
    "from sklearn.feature_extraction.text import CountVectorizer\n",
    "from sklearn.metrics import accuracy_score\n",
    "from sklearn.metrics import precision_recall_fscore_support\n",
    "\n",
    "train_map = dict()\n",
    "valid_map = dict()\n",
    "test_map = dict()"
   ]
  },
  {
   "cell_type": "code",
   "execution_count": 25,
   "id": "e7bad713-3dcf-4c67-89c0-859a4c657963",
   "metadata": {
    "id": "e7bad713-3dcf-4c67-89c0-859a4c657963"
   },
   "outputs": [],
   "source": [
    "def train_and_test(name, model):\n",
    "    model.fit(X_train, y_train)\n",
    "    \n",
    "    # test on training set\n",
    "    y_pred = model.predict(X_train)\n",
    "    accu = accuracy_score(y_train, y_pred)\n",
    "    precision, recall, f1, _ = precision_recall_fscore_support(y_train, y_pred, average='macro', zero_division=0)\n",
    "    train_map[name] = (accu, precision, recall, f1)\n",
    "    \n",
    "    # test on valid set\n",
    "    y_pred = model.predict(X_valid)\n",
    "    accu = accuracy_score(y_valid, y_pred)\n",
    "    precision, recall, f1, _ = precision_recall_fscore_support(y_valid, y_pred, average='macro', zero_division=0)\n",
    "    valid_map[name] = (accu, precision, recall, f1)\n",
    "    \n",
    "    # test on test set\n",
    "    y_pred = model.predict(X_test)\n",
    "    accu = accuracy_score(y_test, y_pred)\n",
    "    precision, recall, f1, _ = precision_recall_fscore_support(y_test, y_pred, average='macro', zero_division=0)\n",
    "    test_map[name] = (accu, precision, recall, f1)"
   ]
  },
  {
   "cell_type": "markdown",
   "id": "b9368200-a7aa-4424-9372-c8368a3127d6",
   "metadata": {
    "id": "b9368200-a7aa-4424-9372-c8368a3127d6"
   },
   "source": [
    "### Dummy Classifier with strategy=\"most_frequent\""
   ]
  },
  {
   "cell_type": "code",
   "execution_count": 26,
   "id": "5da09f93-3ddd-47dd-aa7e-3ebcc9b9ba8a",
   "metadata": {
    "id": "5da09f93-3ddd-47dd-aa7e-3ebcc9b9ba8a"
   },
   "outputs": [],
   "source": [
    "dummy_clf_freq = DummyClassifier(strategy=\"most_frequent\")\n",
    "\n",
    "train_and_test('dummy with most_frequent', dummy_clf_freq)"
   ]
  },
  {
   "cell_type": "markdown",
   "id": "0160fd16-b53b-41cb-83a6-97b1a27e424c",
   "metadata": {
    "id": "0160fd16-b53b-41cb-83a6-97b1a27e424c"
   },
   "source": [
    "### Dummy Classifier with strategy=\"stratified\""
   ]
  },
  {
   "cell_type": "code",
   "execution_count": 27,
   "id": "12867392-ee19-4b0e-a4bb-cb0bed0e0ca3",
   "metadata": {
    "id": "12867392-ee19-4b0e-a4bb-cb0bed0e0ca3"
   },
   "outputs": [],
   "source": [
    "dummy_clf_stra = DummyClassifier(strategy=\"stratified\")\n",
    "\n",
    "train_and_test('dummy with stratified', dummy_clf_stra)"
   ]
  },
  {
   "cell_type": "markdown",
   "id": "3d136e33-6266-4190-a22e-60a784def7ad",
   "metadata": {
    "id": "3d136e33-6266-4190-a22e-60a784def7ad"
   },
   "source": [
    "### LogisticRegression with One-hot vectorization"
   ]
  },
  {
   "cell_type": "code",
   "execution_count": 28,
   "id": "2d3d507a-732d-4b57-bb4d-4c66ba853cde",
   "metadata": {
    "id": "2d3d507a-732d-4b57-bb4d-4c66ba853cde"
   },
   "outputs": [],
   "source": [
    "# create a CountVectorizer to convert the text to one-hot vectors\n",
    "count_vectorizer = CountVectorizer(tokenizer=text_pipeline_spacy)\n",
    "log_clf = LogisticRegression()\n",
    "# create a pipeline to combine the vectorizer and classifier\n",
    "pipeline_log_oh = Pipeline([('vectorizer', count_vectorizer), ('clf', log_clf)])\n",
    "\n",
    "train_and_test('logistic with one-hot', pipeline_log_oh)"
   ]
  },
  {
   "cell_type": "markdown",
   "id": "cde602fb-fdc9-4996-96f8-9530f7d3111f",
   "metadata": {
    "id": "cde602fb-fdc9-4996-96f8-9530f7d3111f"
   },
   "source": [
    "### LogisticRegression with TF-IDF vectorization"
   ]
  },
  {
   "cell_type": "code",
   "execution_count": 29,
   "id": "a9a16c81-eb33-421a-8d58-fd42e2b500e8",
   "metadata": {
    "id": "a9a16c81-eb33-421a-8d58-fd42e2b500e8"
   },
   "outputs": [],
   "source": [
    "tfidf_vectorizer = TfidfVectorizer(tokenizer=text_pipeline_spacy)\n",
    "log_clf = LogisticRegression()\n",
    "# create a pipeline to combine the vectorizer and classifier\n",
    "pipeline_log_tfidf = Pipeline([('vectorizer', tfidf_vectorizer), ('clf', log_clf)])\n",
    "\n",
    "train_and_test('logistic with tfidf', pipeline_log_tfidf)"
   ]
  },
  {
   "cell_type": "markdown",
   "id": "c76f48ef-fce8-46e0-9b9f-b0773c6d9eda",
   "metadata": {
    "id": "c76f48ef-fce8-46e0-9b9f-b0773c6d9eda"
   },
   "source": [
    "### SVC Classifier with One-hot vectorization"
   ]
  },
  {
   "cell_type": "code",
   "execution_count": 30,
   "id": "81d1e3a3-29f9-4bd7-a485-06469883c099",
   "metadata": {
    "id": "81d1e3a3-29f9-4bd7-a485-06469883c099"
   },
   "outputs": [],
   "source": [
    "svc_clf = SVC(kernel='rbf')\n",
    "# create a pipeline to combine the vectorizer and classifier\n",
    "pipeline_svc = Pipeline([('vectorizer', count_vectorizer), ('clf', svc_clf)])\n",
    "\n",
    "train_and_test('SVC with RBF', pipeline_svc)"
   ]
  },
  {
   "cell_type": "markdown",
   "id": "992d97a5-2e68-4182-b29d-6d4f634564f0",
   "metadata": {
    "id": "992d97a5-2e68-4182-b29d-6d4f634564f0"
   },
   "source": [
    "### Assess and Compare\n",
    "#### Training set"
   ]
  },
  {
   "cell_type": "code",
   "execution_count": 31,
   "id": "109379df-2f35-4eb5-bad1-bd4a03aa3ace",
   "metadata": {
    "colab": {
     "base_uri": "https://localhost:8080/",
     "height": 206
    },
    "id": "109379df-2f35-4eb5-bad1-bd4a03aa3ace",
    "outputId": "6b1d7b64-aab9-42e2-a8ce-edcea058a034"
   },
   "outputs": [
    {
     "data": {
      "text/html": [
       "<style type=\"text/css\">\n",
       "#T_e2f95_row2_col0, #T_e2f95_row2_col1, #T_e2f95_row2_col2, #T_e2f95_row2_col3 {\n",
       "  background-color: lightgreen;\n",
       "}\n",
       "</style>\n",
       "<table id=\"T_e2f95\" class=\"dataframe\">\n",
       "  <thead>\n",
       "    <tr>\n",
       "      <th class=\"blank level0\" >&nbsp;</th>\n",
       "      <th id=\"T_e2f95_level0_col0\" class=\"col_heading level0 col0\" >Accuracy</th>\n",
       "      <th id=\"T_e2f95_level0_col1\" class=\"col_heading level0 col1\" >Precision</th>\n",
       "      <th id=\"T_e2f95_level0_col2\" class=\"col_heading level0 col2\" >Recall</th>\n",
       "      <th id=\"T_e2f95_level0_col3\" class=\"col_heading level0 col3\" >F1 score</th>\n",
       "    </tr>\n",
       "  </thead>\n",
       "  <tbody>\n",
       "    <tr>\n",
       "      <th id=\"T_e2f95_level0_row0\" class=\"row_heading level0 row0\" >dummy with most_frequent</th>\n",
       "      <td id=\"T_e2f95_row0_col0\" class=\"data row0 col0\" >0.285667</td>\n",
       "      <td id=\"T_e2f95_row0_col1\" class=\"data row0 col1\" >0.028567</td>\n",
       "      <td id=\"T_e2f95_row0_col2\" class=\"data row0 col2\" >0.100000</td>\n",
       "      <td id=\"T_e2f95_row0_col3\" class=\"data row0 col3\" >0.044439</td>\n",
       "    </tr>\n",
       "    <tr>\n",
       "      <th id=\"T_e2f95_level0_row1\" class=\"row_heading level0 row1\" >dummy with stratified</th>\n",
       "      <td id=\"T_e2f95_row1_col0\" class=\"data row1 col0\" >0.151333</td>\n",
       "      <td id=\"T_e2f95_row1_col1\" class=\"data row1 col1\" >0.097930</td>\n",
       "      <td id=\"T_e2f95_row1_col2\" class=\"data row1 col2\" >0.097873</td>\n",
       "      <td id=\"T_e2f95_row1_col3\" class=\"data row1 col3\" >0.097838</td>\n",
       "    </tr>\n",
       "    <tr>\n",
       "      <th id=\"T_e2f95_level0_row2\" class=\"row_heading level0 row2\" >logistic with one-hot</th>\n",
       "      <td id=\"T_e2f95_row2_col0\" class=\"data row2 col0\" >0.997500</td>\n",
       "      <td id=\"T_e2f95_row2_col1\" class=\"data row2 col1\" >0.997919</td>\n",
       "      <td id=\"T_e2f95_row2_col2\" class=\"data row2 col2\" >0.996067</td>\n",
       "      <td id=\"T_e2f95_row2_col3\" class=\"data row2 col3\" >0.996984</td>\n",
       "    </tr>\n",
       "    <tr>\n",
       "      <th id=\"T_e2f95_level0_row3\" class=\"row_heading level0 row3\" >logistic with tfidf</th>\n",
       "      <td id=\"T_e2f95_row3_col0\" class=\"data row3 col0\" >0.858500</td>\n",
       "      <td id=\"T_e2f95_row3_col1\" class=\"data row3 col1\" >0.913407</td>\n",
       "      <td id=\"T_e2f95_row3_col2\" class=\"data row3 col2\" >0.765090</td>\n",
       "      <td id=\"T_e2f95_row3_col3\" class=\"data row3 col3\" >0.800947</td>\n",
       "    </tr>\n",
       "    <tr>\n",
       "      <th id=\"T_e2f95_level0_row4\" class=\"row_heading level0 row4\" >SVC with RBF</th>\n",
       "      <td id=\"T_e2f95_row4_col0\" class=\"data row4 col0\" >0.941167</td>\n",
       "      <td id=\"T_e2f95_row4_col1\" class=\"data row4 col1\" >0.965051</td>\n",
       "      <td id=\"T_e2f95_row4_col2\" class=\"data row4 col2\" >0.899003</td>\n",
       "      <td id=\"T_e2f95_row4_col3\" class=\"data row4 col3\" >0.923334</td>\n",
       "    </tr>\n",
       "  </tbody>\n",
       "</table>\n"
      ],
      "text/plain": [
       "<pandas.io.formats.style.Styler at 0x7f05f20b2760>"
      ]
     },
     "execution_count": 31,
     "metadata": {},
     "output_type": "execute_result"
    }
   ],
   "source": [
    "table = pd.DataFrame.from_dict(train_map, orient='index', columns=['Accuracy', 'Precision', 'Recall', 'F1 score'])\n",
    "table = table.style.highlight_max(color = 'lightgreen', axis = 0)\n",
    "table"
   ]
  },
  {
   "cell_type": "markdown",
   "id": "7124bda9-9fac-4d2f-88ad-069949e4ec47",
   "metadata": {
    "id": "7124bda9-9fac-4d2f-88ad-069949e4ec47"
   },
   "source": [
    "#### Validation set"
   ]
  },
  {
   "cell_type": "code",
   "execution_count": 32,
   "id": "79627582-2520-4696-9f57-e422d236d956",
   "metadata": {
    "colab": {
     "base_uri": "https://localhost:8080/",
     "height": 206
    },
    "id": "79627582-2520-4696-9f57-e422d236d956",
    "outputId": "e755558b-9ccc-40e3-94bc-77b008beb857"
   },
   "outputs": [
    {
     "data": {
      "text/html": [
       "<style type=\"text/css\">\n",
       "#T_f2c6a_row2_col0, #T_f2c6a_row2_col2, #T_f2c6a_row2_col3, #T_f2c6a_row3_col1 {\n",
       "  background-color: lightgreen;\n",
       "}\n",
       "</style>\n",
       "<table id=\"T_f2c6a\" class=\"dataframe\">\n",
       "  <thead>\n",
       "    <tr>\n",
       "      <th class=\"blank level0\" >&nbsp;</th>\n",
       "      <th id=\"T_f2c6a_level0_col0\" class=\"col_heading level0 col0\" >Accuracy</th>\n",
       "      <th id=\"T_f2c6a_level0_col1\" class=\"col_heading level0 col1\" >Precision</th>\n",
       "      <th id=\"T_f2c6a_level0_col2\" class=\"col_heading level0 col2\" >Recall</th>\n",
       "      <th id=\"T_f2c6a_level0_col3\" class=\"col_heading level0 col3\" >F1 score</th>\n",
       "    </tr>\n",
       "  </thead>\n",
       "  <tbody>\n",
       "    <tr>\n",
       "      <th id=\"T_f2c6a_level0_row0\" class=\"row_heading level0 row0\" >dummy with most_frequent</th>\n",
       "      <td id=\"T_f2c6a_row0_col0\" class=\"data row0 col0\" >0.281000</td>\n",
       "      <td id=\"T_f2c6a_row0_col1\" class=\"data row0 col1\" >0.028100</td>\n",
       "      <td id=\"T_f2c6a_row0_col2\" class=\"data row0 col2\" >0.100000</td>\n",
       "      <td id=\"T_f2c6a_row0_col3\" class=\"data row0 col3\" >0.043872</td>\n",
       "    </tr>\n",
       "    <tr>\n",
       "      <th id=\"T_f2c6a_level0_row1\" class=\"row_heading level0 row1\" >dummy with stratified</th>\n",
       "      <td id=\"T_f2c6a_row1_col0\" class=\"data row1 col0\" >0.147500</td>\n",
       "      <td id=\"T_f2c6a_row1_col1\" class=\"data row1 col1\" >0.095373</td>\n",
       "      <td id=\"T_f2c6a_row1_col2\" class=\"data row1 col2\" >0.095572</td>\n",
       "      <td id=\"T_f2c6a_row1_col3\" class=\"data row1 col3\" >0.095303</td>\n",
       "    </tr>\n",
       "    <tr>\n",
       "      <th id=\"T_f2c6a_level0_row2\" class=\"row_heading level0 row2\" >logistic with one-hot</th>\n",
       "      <td id=\"T_f2c6a_row2_col0\" class=\"data row2 col0\" >0.706000</td>\n",
       "      <td id=\"T_f2c6a_row2_col1\" class=\"data row2 col1\" >0.674796</td>\n",
       "      <td id=\"T_f2c6a_row2_col2\" class=\"data row2 col2\" >0.616974</td>\n",
       "      <td id=\"T_f2c6a_row2_col3\" class=\"data row2 col3\" >0.639592</td>\n",
       "    </tr>\n",
       "    <tr>\n",
       "      <th id=\"T_f2c6a_level0_row3\" class=\"row_heading level0 row3\" >logistic with tfidf</th>\n",
       "      <td id=\"T_f2c6a_row3_col0\" class=\"data row3 col0\" >0.683000</td>\n",
       "      <td id=\"T_f2c6a_row3_col1\" class=\"data row3 col1\" >0.759318</td>\n",
       "      <td id=\"T_f2c6a_row3_col2\" class=\"data row3 col2\" >0.539566</td>\n",
       "      <td id=\"T_f2c6a_row3_col3\" class=\"data row3 col3\" >0.567933</td>\n",
       "    </tr>\n",
       "    <tr>\n",
       "      <th id=\"T_f2c6a_level0_row4\" class=\"row_heading level0 row4\" >SVC with RBF</th>\n",
       "      <td id=\"T_f2c6a_row4_col0\" class=\"data row4 col0\" >0.647500</td>\n",
       "      <td id=\"T_f2c6a_row4_col1\" class=\"data row4 col1\" >0.752455</td>\n",
       "      <td id=\"T_f2c6a_row4_col2\" class=\"data row4 col2\" >0.498642</td>\n",
       "      <td id=\"T_f2c6a_row4_col3\" class=\"data row4 col3\" >0.531013</td>\n",
       "    </tr>\n",
       "  </tbody>\n",
       "</table>\n"
      ],
      "text/plain": [
       "<pandas.io.formats.style.Styler at 0x7f05f20b2a60>"
      ]
     },
     "execution_count": 32,
     "metadata": {},
     "output_type": "execute_result"
    }
   ],
   "source": [
    "table = pd.DataFrame.from_dict(valid_map, orient='index', columns=['Accuracy', 'Precision', 'Recall', 'F1 score'])\n",
    "table = table.style.highlight_max(color = 'lightgreen', axis = 0)\n",
    "table"
   ]
  },
  {
   "cell_type": "markdown",
   "id": "78d7a709-ac77-4045-984d-5d80e598edd9",
   "metadata": {
    "id": "78d7a709-ac77-4045-984d-5d80e598edd9"
   },
   "source": [
    "#### Test set"
   ]
  },
  {
   "cell_type": "code",
   "execution_count": 33,
   "id": "4e22f33d-e881-4e6b-a7de-ffb0ff8ee477",
   "metadata": {
    "colab": {
     "base_uri": "https://localhost:8080/",
     "height": 206
    },
    "id": "4e22f33d-e881-4e6b-a7de-ffb0ff8ee477",
    "outputId": "ba95a7e1-dccb-4114-b52e-cc9c4f74c12a"
   },
   "outputs": [
    {
     "data": {
      "text/html": [
       "\n",
       "  <div id=\"df-fc4c7db6-2457-4746-9d2c-f7393f8e0e5a\">\n",
       "    <div class=\"colab-df-container\">\n",
       "      <div>\n",
       "<style scoped>\n",
       "    .dataframe tbody tr th:only-of-type {\n",
       "        vertical-align: middle;\n",
       "    }\n",
       "\n",
       "    .dataframe tbody tr th {\n",
       "        vertical-align: top;\n",
       "    }\n",
       "\n",
       "    .dataframe thead th {\n",
       "        text-align: right;\n",
       "    }\n",
       "</style>\n",
       "<table border=\"1\" class=\"dataframe\">\n",
       "  <thead>\n",
       "    <tr style=\"text-align: right;\">\n",
       "      <th></th>\n",
       "      <th>Accuracy</th>\n",
       "      <th>Precision</th>\n",
       "      <th>Recall</th>\n",
       "      <th>F1 score</th>\n",
       "    </tr>\n",
       "  </thead>\n",
       "  <tbody>\n",
       "    <tr>\n",
       "      <th>dummy with most_frequent</th>\n",
       "      <td>0.2885</td>\n",
       "      <td>0.028850</td>\n",
       "      <td>0.100000</td>\n",
       "      <td>0.044781</td>\n",
       "    </tr>\n",
       "    <tr>\n",
       "      <th>dummy with stratified</th>\n",
       "      <td>0.1390</td>\n",
       "      <td>0.093683</td>\n",
       "      <td>0.093956</td>\n",
       "      <td>0.093597</td>\n",
       "    </tr>\n",
       "    <tr>\n",
       "      <th>logistic with one-hot</th>\n",
       "      <td>0.7090</td>\n",
       "      <td>0.666411</td>\n",
       "      <td>0.618573</td>\n",
       "      <td>0.636255</td>\n",
       "    </tr>\n",
       "    <tr>\n",
       "      <th>logistic with tfidf</th>\n",
       "      <td>0.6920</td>\n",
       "      <td>0.714695</td>\n",
       "      <td>0.551795</td>\n",
       "      <td>0.570489</td>\n",
       "    </tr>\n",
       "    <tr>\n",
       "      <th>SVC with RBF</th>\n",
       "      <td>0.6605</td>\n",
       "      <td>0.734992</td>\n",
       "      <td>0.519810</td>\n",
       "      <td>0.546680</td>\n",
       "    </tr>\n",
       "  </tbody>\n",
       "</table>\n",
       "</div>\n",
       "      <button class=\"colab-df-convert\" onclick=\"convertToInteractive('df-fc4c7db6-2457-4746-9d2c-f7393f8e0e5a')\"\n",
       "              title=\"Convert this dataframe to an interactive table.\"\n",
       "              style=\"display:none;\">\n",
       "        \n",
       "  <svg xmlns=\"http://www.w3.org/2000/svg\" height=\"24px\"viewBox=\"0 0 24 24\"\n",
       "       width=\"24px\">\n",
       "    <path d=\"M0 0h24v24H0V0z\" fill=\"none\"/>\n",
       "    <path d=\"M18.56 5.44l.94 2.06.94-2.06 2.06-.94-2.06-.94-.94-2.06-.94 2.06-2.06.94zm-11 1L8.5 8.5l.94-2.06 2.06-.94-2.06-.94L8.5 2.5l-.94 2.06-2.06.94zm10 10l.94 2.06.94-2.06 2.06-.94-2.06-.94-.94-2.06-.94 2.06-2.06.94z\"/><path d=\"M17.41 7.96l-1.37-1.37c-.4-.4-.92-.59-1.43-.59-.52 0-1.04.2-1.43.59L10.3 9.45l-7.72 7.72c-.78.78-.78 2.05 0 2.83L4 21.41c.39.39.9.59 1.41.59.51 0 1.02-.2 1.41-.59l7.78-7.78 2.81-2.81c.8-.78.8-2.07 0-2.86zM5.41 20L4 18.59l7.72-7.72 1.47 1.35L5.41 20z\"/>\n",
       "  </svg>\n",
       "      </button>\n",
       "      \n",
       "  <style>\n",
       "    .colab-df-container {\n",
       "      display:flex;\n",
       "      flex-wrap:wrap;\n",
       "      gap: 12px;\n",
       "    }\n",
       "\n",
       "    .colab-df-convert {\n",
       "      background-color: #E8F0FE;\n",
       "      border: none;\n",
       "      border-radius: 50%;\n",
       "      cursor: pointer;\n",
       "      display: none;\n",
       "      fill: #1967D2;\n",
       "      height: 32px;\n",
       "      padding: 0 0 0 0;\n",
       "      width: 32px;\n",
       "    }\n",
       "\n",
       "    .colab-df-convert:hover {\n",
       "      background-color: #E2EBFA;\n",
       "      box-shadow: 0px 1px 2px rgba(60, 64, 67, 0.3), 0px 1px 3px 1px rgba(60, 64, 67, 0.15);\n",
       "      fill: #174EA6;\n",
       "    }\n",
       "\n",
       "    [theme=dark] .colab-df-convert {\n",
       "      background-color: #3B4455;\n",
       "      fill: #D2E3FC;\n",
       "    }\n",
       "\n",
       "    [theme=dark] .colab-df-convert:hover {\n",
       "      background-color: #434B5C;\n",
       "      box-shadow: 0px 1px 3px 1px rgba(0, 0, 0, 0.15);\n",
       "      filter: drop-shadow(0px 1px 2px rgba(0, 0, 0, 0.3));\n",
       "      fill: #FFFFFF;\n",
       "    }\n",
       "  </style>\n",
       "\n",
       "      <script>\n",
       "        const buttonEl =\n",
       "          document.querySelector('#df-fc4c7db6-2457-4746-9d2c-f7393f8e0e5a button.colab-df-convert');\n",
       "        buttonEl.style.display =\n",
       "          google.colab.kernel.accessAllowed ? 'block' : 'none';\n",
       "\n",
       "        async function convertToInteractive(key) {\n",
       "          const element = document.querySelector('#df-fc4c7db6-2457-4746-9d2c-f7393f8e0e5a');\n",
       "          const dataTable =\n",
       "            await google.colab.kernel.invokeFunction('convertToInteractive',\n",
       "                                                     [key], {});\n",
       "          if (!dataTable) return;\n",
       "\n",
       "          const docLinkHtml = 'Like what you see? Visit the ' +\n",
       "            '<a target=\"_blank\" href=https://colab.research.google.com/notebooks/data_table.ipynb>data table notebook</a>'\n",
       "            + ' to learn more about interactive tables.';\n",
       "          element.innerHTML = '';\n",
       "          dataTable['output_type'] = 'display_data';\n",
       "          await google.colab.output.renderOutput(dataTable, element);\n",
       "          const docLink = document.createElement('div');\n",
       "          docLink.innerHTML = docLinkHtml;\n",
       "          element.appendChild(docLink);\n",
       "        }\n",
       "      </script>\n",
       "    </div>\n",
       "  </div>\n",
       "  "
      ],
      "text/plain": [
       "                          Accuracy  Precision    Recall  F1 score\n",
       "dummy with most_frequent    0.2885   0.028850  0.100000  0.044781\n",
       "dummy with stratified       0.1390   0.093683  0.093956  0.093597\n",
       "logistic with one-hot       0.7090   0.666411  0.618573  0.636255\n",
       "logistic with tfidf         0.6920   0.714695  0.551795  0.570489\n",
       "SVC with RBF                0.6605   0.734992  0.519810  0.546680"
      ]
     },
     "execution_count": 33,
     "metadata": {},
     "output_type": "execute_result"
    }
   ],
   "source": [
    "table = pd.DataFrame.from_dict(test_map, orient='index', columns=['Accuracy', 'Precision', 'Recall', 'F1 score'])\n",
    "table"
   ]
  },
  {
   "cell_type": "markdown",
   "id": "563df373-22cd-438e-b58d-267c72b8ddff",
   "metadata": {
    "id": "563df373-22cd-438e-b58d-267c72b8ddff"
   },
   "source": [
    "By inspecting result on different datasets, we can clearly see that all model have the problem of **overfitting**, in that the performance for training set is much better than that of validation and test set.\n",
    "\n"
   ]
  },
  {
   "cell_type": "markdown",
   "id": "9f7b6fa9-4d73-487f-b23f-8252ff6ec11c",
   "metadata": {
    "id": "9f7b6fa9-4d73-487f-b23f-8252ff6ec11c"
   },
   "source": [
    "Judging from **validation set**, the model with best performance is **LogisticRegression with one-hot vectorizer**(by F1 score).\n",
    "\n",
    "Let's plot the F1 score for each class for this model on validation set."
   ]
  },
  {
   "cell_type": "code",
   "execution_count": 34,
   "id": "77e023ed-fc9e-4e5f-bc9a-484a9500a8e4",
   "metadata": {
    "colab": {
     "base_uri": "https://localhost:8080/",
     "height": 386
    },
    "id": "77e023ed-fc9e-4e5f-bc9a-484a9500a8e4",
    "outputId": "b5299b01-d59e-4c90-a513-7dbc5d172575"
   },
   "outputs": [
    {
     "data": {
      "text/plain": [
       "Text(0.5, 1.0, 'F1 Scores for Each Class')"
      ]
     },
     "execution_count": 34,
     "metadata": {},
     "output_type": "execute_result"
    },
    {
     "data": {
      "image/png": "[encoded data removed]",
      "text/plain": [
       "<Figure size 432x288 with 1 Axes>"
      ]
     },
     "metadata": {
      "needs_background": "light"
     },
     "output_type": "display_data"
    }
   ],
   "source": [
    "y_pred = pipeline_log_oh.predict(X_valid)\n",
    "_, _, f1, _ = precision_recall_fscore_support(y_valid, y_pred, zero_division=0)\n",
    "\n",
    "# Create a bar chart\n",
    "plt.bar([ reversed_mapping[i] for i in range(10) ], f1)\n",
    "\n",
    "plt.xlabel('Class')\n",
    "plt.ylabel('F1 Score')\n",
    "plt.xticks(rotation=90)\n",
    "plt.title('F1 Scores for Each Class')"
   ]
  },
  {
   "cell_type": "markdown",
   "id": "278b06ce-cca7-4eae-ac2e-8fa6716135f1",
   "metadata": {
    "id": "278b06ce-cca7-4eae-ac2e-8fa6716135f1"
   },
   "source": [
    "### train model based on above result"
   ]
  },
  {
   "cell_type": "markdown",
   "id": "ea06da86-6ec9-4eee-bbc8-e8748fe7227c",
   "metadata": {
    "id": "ea06da86-6ec9-4eee-bbc8-e8748fe7227c"
   },
   "source": [
    "Based on above result, we got several conclusions:\n",
    "* Regardless of dataset, the dataset performs the best when using LogisticRegression with One-hot vectorizer\n",
    "* Regulization is needed, in that overfit problem is severe, and clearly the default l2 is not working well.\n",
    "\n",
    "Let's try another approach!"
   ]
  },
  {
   "cell_type": "code",
   "execution_count": 35,
   "id": "bae3ad83-c334-4272-acc9-304c66584f9b",
   "metadata": {
    "id": "bae3ad83-c334-4272-acc9-304c66584f9b"
   },
   "outputs": [],
   "source": [
    "from sklearn.svm import LinearSVC\n",
    "\n",
    "count_vectorizer = TfidfVectorizer(tokenizer=text_pipeline_spacy)\n",
    "my_model = LinearSVC()\n",
    "pipeline_my = Pipeline([('vectorizer', count_vectorizer), ('clf', my_model)])\n",
    "\n",
    "train_and_test('my model', pipeline_my)"
   ]
  },
  {
   "cell_type": "code",
   "execution_count": 36,
   "id": "1786165d-80f8-43c5-aef4-c4f67b003a6b",
   "metadata": {
    "colab": {
     "base_uri": "https://localhost:8080/",
     "height": 237
    },
    "id": "1786165d-80f8-43c5-aef4-c4f67b003a6b",
    "outputId": "6418b4c2-b782-40f7-c605-4091d3ab4307"
   },
   "outputs": [
    {
     "data": {
      "text/html": [
       "\n",
       "  <div id=\"df-66e1be19-a1f5-4a0b-a300-f179cd1a4bad\">\n",
       "    <div class=\"colab-df-container\">\n",
       "      <div>\n",
       "<style scoped>\n",
       "    .dataframe tbody tr th:only-of-type {\n",
       "        vertical-align: middle;\n",
       "    }\n",
       "\n",
       "    .dataframe tbody tr th {\n",
       "        vertical-align: top;\n",
       "    }\n",
       "\n",
       "    .dataframe thead th {\n",
       "        text-align: right;\n",
       "    }\n",
       "</style>\n",
       "<table border=\"1\" class=\"dataframe\">\n",
       "  <thead>\n",
       "    <tr style=\"text-align: right;\">\n",
       "      <th></th>\n",
       "      <th>Accuracy</th>\n",
       "      <th>Precision</th>\n",
       "      <th>Recall</th>\n",
       "      <th>F1 score</th>\n",
       "    </tr>\n",
       "  </thead>\n",
       "  <tbody>\n",
       "    <tr>\n",
       "      <th>dummy with most_frequent</th>\n",
       "      <td>0.2810</td>\n",
       "      <td>0.028100</td>\n",
       "      <td>0.100000</td>\n",
       "      <td>0.043872</td>\n",
       "    </tr>\n",
       "    <tr>\n",
       "      <th>dummy with stratified</th>\n",
       "      <td>0.1475</td>\n",
       "      <td>0.095373</td>\n",
       "      <td>0.095572</td>\n",
       "      <td>0.095303</td>\n",
       "    </tr>\n",
       "    <tr>\n",
       "      <th>logistic with one-hot</th>\n",
       "      <td>0.7060</td>\n",
       "      <td>0.674796</td>\n",
       "      <td>0.616974</td>\n",
       "      <td>0.639592</td>\n",
       "    </tr>\n",
       "    <tr>\n",
       "      <th>logistic with tfidf</th>\n",
       "      <td>0.6830</td>\n",
       "      <td>0.759318</td>\n",
       "      <td>0.539566</td>\n",
       "      <td>0.567933</td>\n",
       "    </tr>\n",
       "    <tr>\n",
       "      <th>SVC with RBF</th>\n",
       "      <td>0.6475</td>\n",
       "      <td>0.752455</td>\n",
       "      <td>0.498642</td>\n",
       "      <td>0.531013</td>\n",
       "    </tr>\n",
       "    <tr>\n",
       "      <th>my model</th>\n",
       "      <td>0.7270</td>\n",
       "      <td>0.686123</td>\n",
       "      <td>0.642892</td>\n",
       "      <td>0.656157</td>\n",
       "    </tr>\n",
       "  </tbody>\n",
       "</table>\n",
       "</div>\n",
       "      <button class=\"colab-df-convert\" onclick=\"convertToInteractive('df-66e1be19-a1f5-4a0b-a300-f179cd1a4bad')\"\n",
       "              title=\"Convert this dataframe to an interactive table.\"\n",
       "              style=\"display:none;\">\n",
       "        \n",
       "  <svg xmlns=\"http://www.w3.org/2000/svg\" height=\"24px\"viewBox=\"0 0 24 24\"\n",
       "       width=\"24px\">\n",
       "    <path d=\"M0 0h24v24H0V0z\" fill=\"none\"/>\n",
       "    <path d=\"M18.56 5.44l.94 2.06.94-2.06 2.06-.94-2.06-.94-.94-2.06-.94 2.06-2.06.94zm-11 1L8.5 8.5l.94-2.06 2.06-.94-2.06-.94L8.5 2.5l-.94 2.06-2.06.94zm10 10l.94 2.06.94-2.06 2.06-.94-2.06-.94-.94-2.06-.94 2.06-2.06.94z\"/><path d=\"M17.41 7.96l-1.37-1.37c-.4-.4-.92-.59-1.43-.59-.52 0-1.04.2-1.43.59L10.3 9.45l-7.72 7.72c-.78.78-.78 2.05 0 2.83L4 21.41c.39.39.9.59 1.41.59.51 0 1.02-.2 1.41-.59l7.78-7.78 2.81-2.81c.8-.78.8-2.07 0-2.86zM5.41 20L4 18.59l7.72-7.72 1.47 1.35L5.41 20z\"/>\n",
       "  </svg>\n",
       "      </button>\n",
       "      \n",
       "  <style>\n",
       "    .colab-df-container {\n",
       "      display:flex;\n",
       "      flex-wrap:wrap;\n",
       "      gap: 12px;\n",
       "    }\n",
       "\n",
       "    .colab-df-convert {\n",
       "      background-color: #E8F0FE;\n",
       "      border: none;\n",
       "      border-radius: 50%;\n",
       "      cursor: pointer;\n",
       "      display: none;\n",
       "      fill: #1967D2;\n",
       "      height: 32px;\n",
       "      padding: 0 0 0 0;\n",
       "      width: 32px;\n",
       "    }\n",
       "\n",
       "    .colab-df-convert:hover {\n",
       "      background-color: #E2EBFA;\n",
       "      box-shadow: 0px 1px 2px rgba(60, 64, 67, 0.3), 0px 1px 3px 1px rgba(60, 64, 67, 0.15);\n",
       "      fill: #174EA6;\n",
       "    }\n",
       "\n",
       "    [theme=dark] .colab-df-convert {\n",
       "      background-color: #3B4455;\n",
       "      fill: #D2E3FC;\n",
       "    }\n",
       "\n",
       "    [theme=dark] .colab-df-convert:hover {\n",
       "      background-color: #434B5C;\n",
       "      box-shadow: 0px 1px 3px 1px rgba(0, 0, 0, 0.15);\n",
       "      filter: drop-shadow(0px 1px 2px rgba(0, 0, 0, 0.3));\n",
       "      fill: #FFFFFF;\n",
       "    }\n",
       "  </style>\n",
       "\n",
       "      <script>\n",
       "        const buttonEl =\n",
       "          document.querySelector('#df-66e1be19-a1f5-4a0b-a300-f179cd1a4bad button.colab-df-convert');\n",
       "        buttonEl.style.display =\n",
       "          google.colab.kernel.accessAllowed ? 'block' : 'none';\n",
       "\n",
       "        async function convertToInteractive(key) {\n",
       "          const element = document.querySelector('#df-66e1be19-a1f5-4a0b-a300-f179cd1a4bad');\n",
       "          const dataTable =\n",
       "            await google.colab.kernel.invokeFunction('convertToInteractive',\n",
       "                                                     [key], {});\n",
       "          if (!dataTable) return;\n",
       "\n",
       "          const docLinkHtml = 'Like what you see? Visit the ' +\n",
       "            '<a target=\"_blank\" href=https://colab.research.google.com/notebooks/data_table.ipynb>data table notebook</a>'\n",
       "            + ' to learn more about interactive tables.';\n",
       "          element.innerHTML = '';\n",
       "          dataTable['output_type'] = 'display_data';\n",
       "          await google.colab.output.renderOutput(dataTable, element);\n",
       "          const docLink = document.createElement('div');\n",
       "          docLink.innerHTML = docLinkHtml;\n",
       "          element.appendChild(docLink);\n",
       "        }\n",
       "      </script>\n",
       "    </div>\n",
       "  </div>\n",
       "  "
      ],
      "text/plain": [
       "                          Accuracy  Precision    Recall  F1 score\n",
       "dummy with most_frequent    0.2810   0.028100  0.100000  0.043872\n",
       "dummy with stratified       0.1475   0.095373  0.095572  0.095303\n",
       "logistic with one-hot       0.7060   0.674796  0.616974  0.639592\n",
       "logistic with tfidf         0.6830   0.759318  0.539566  0.567933\n",
       "SVC with RBF                0.6475   0.752455  0.498642  0.531013\n",
       "my model                    0.7270   0.686123  0.642892  0.656157"
      ]
     },
     "execution_count": 36,
     "metadata": {},
     "output_type": "execute_result"
    }
   ],
   "source": [
    "table = pd.DataFrame.from_dict(valid_map, orient='index', columns=['Accuracy', 'Precision', 'Recall', 'F1 score'])\n",
    "table"
   ]
  },
  {
   "cell_type": "code",
   "execution_count": 37,
   "id": "a14601ed-694c-43d5-b8cd-b7189ec957d5",
   "metadata": {
    "colab": {
     "base_uri": "https://localhost:8080/",
     "height": 237
    },
    "id": "a14601ed-694c-43d5-b8cd-b7189ec957d5",
    "outputId": "4b4baf50-a704-4b0c-ca19-ae8cdb9d9674"
   },
   "outputs": [
    {
     "data": {
      "text/html": [
       "\n",
       "  <div id=\"df-b7ba62d3-39a9-457d-9cd0-d8653d74fb6f\">\n",
       "    <div class=\"colab-df-container\">\n",
       "      <div>\n",
       "<style scoped>\n",
       "    .dataframe tbody tr th:only-of-type {\n",
       "        vertical-align: middle;\n",
       "    }\n",
       "\n",
       "    .dataframe tbody tr th {\n",
       "        vertical-align: top;\n",
       "    }\n",
       "\n",
       "    .dataframe thead th {\n",
       "        text-align: right;\n",
       "    }\n",
       "</style>\n",
       "<table border=\"1\" class=\"dataframe\">\n",
       "  <thead>\n",
       "    <tr style=\"text-align: right;\">\n",
       "      <th></th>\n",
       "      <th>Accuracy</th>\n",
       "      <th>Precision</th>\n",
       "      <th>Recall</th>\n",
       "      <th>F1 score</th>\n",
       "    </tr>\n",
       "  </thead>\n",
       "  <tbody>\n",
       "    <tr>\n",
       "      <th>dummy with most_frequent</th>\n",
       "      <td>0.285667</td>\n",
       "      <td>0.028567</td>\n",
       "      <td>0.100000</td>\n",
       "      <td>0.044439</td>\n",
       "    </tr>\n",
       "    <tr>\n",
       "      <th>dummy with stratified</th>\n",
       "      <td>0.151333</td>\n",
       "      <td>0.097930</td>\n",
       "      <td>0.097873</td>\n",
       "      <td>0.097838</td>\n",
       "    </tr>\n",
       "    <tr>\n",
       "      <th>logistic with one-hot</th>\n",
       "      <td>0.997500</td>\n",
       "      <td>0.997919</td>\n",
       "      <td>0.996067</td>\n",
       "      <td>0.996984</td>\n",
       "    </tr>\n",
       "    <tr>\n",
       "      <th>logistic with tfidf</th>\n",
       "      <td>0.858500</td>\n",
       "      <td>0.913407</td>\n",
       "      <td>0.765090</td>\n",
       "      <td>0.800947</td>\n",
       "    </tr>\n",
       "    <tr>\n",
       "      <th>SVC with RBF</th>\n",
       "      <td>0.941167</td>\n",
       "      <td>0.965051</td>\n",
       "      <td>0.899003</td>\n",
       "      <td>0.923334</td>\n",
       "    </tr>\n",
       "    <tr>\n",
       "      <th>my model</th>\n",
       "      <td>0.996500</td>\n",
       "      <td>0.996940</td>\n",
       "      <td>0.994700</td>\n",
       "      <td>0.995792</td>\n",
       "    </tr>\n",
       "  </tbody>\n",
       "</table>\n",
       "</div>\n",
       "      <button class=\"colab-df-convert\" onclick=\"convertToInteractive('df-b7ba62d3-39a9-457d-9cd0-d8653d74fb6f')\"\n",
       "              title=\"Convert this dataframe to an interactive table.\"\n",
       "              style=\"display:none;\">\n",
       "        \n",
       "  <svg xmlns=\"http://www.w3.org/2000/svg\" height=\"24px\"viewBox=\"0 0 24 24\"\n",
       "       width=\"24px\">\n",
       "    <path d=\"M0 0h24v24H0V0z\" fill=\"none\"/>\n",
       "    <path d=\"M18.56 5.44l.94 2.06.94-2.06 2.06-.94-2.06-.94-.94-2.06-.94 2.06-2.06.94zm-11 1L8.5 8.5l.94-2.06 2.06-.94-2.06-.94L8.5 2.5l-.94 2.06-2.06.94zm10 10l.94 2.06.94-2.06 2.06-.94-2.06-.94-.94-2.06-.94 2.06-2.06.94z\"/><path d=\"M17.41 7.96l-1.37-1.37c-.4-.4-.92-.59-1.43-.59-.52 0-1.04.2-1.43.59L10.3 9.45l-7.72 7.72c-.78.78-.78 2.05 0 2.83L4 21.41c.39.39.9.59 1.41.59.51 0 1.02-.2 1.41-.59l7.78-7.78 2.81-2.81c.8-.78.8-2.07 0-2.86zM5.41 20L4 18.59l7.72-7.72 1.47 1.35L5.41 20z\"/>\n",
       "  </svg>\n",
       "      </button>\n",
       "      \n",
       "  <style>\n",
       "    .colab-df-container {\n",
       "      display:flex;\n",
       "      flex-wrap:wrap;\n",
       "      gap: 12px;\n",
       "    }\n",
       "\n",
       "    .colab-df-convert {\n",
       "      background-color: #E8F0FE;\n",
       "      border: none;\n",
       "      border-radius: 50%;\n",
       "      cursor: pointer;\n",
       "      display: none;\n",
       "      fill: #1967D2;\n",
       "      height: 32px;\n",
       "      padding: 0 0 0 0;\n",
       "      width: 32px;\n",
       "    }\n",
       "\n",
       "    .colab-df-convert:hover {\n",
       "      background-color: #E2EBFA;\n",
       "      box-shadow: 0px 1px 2px rgba(60, 64, 67, 0.3), 0px 1px 3px 1px rgba(60, 64, 67, 0.15);\n",
       "      fill: #174EA6;\n",
       "    }\n",
       "\n",
       "    [theme=dark] .colab-df-convert {\n",
       "      background-color: #3B4455;\n",
       "      fill: #D2E3FC;\n",
       "    }\n",
       "\n",
       "    [theme=dark] .colab-df-convert:hover {\n",
       "      background-color: #434B5C;\n",
       "      box-shadow: 0px 1px 3px 1px rgba(0, 0, 0, 0.15);\n",
       "      filter: drop-shadow(0px 1px 2px rgba(0, 0, 0, 0.3));\n",
       "      fill: #FFFFFF;\n",
       "    }\n",
       "  </style>\n",
       "\n",
       "      <script>\n",
       "        const buttonEl =\n",
       "          document.querySelector('#df-b7ba62d3-39a9-457d-9cd0-d8653d74fb6f button.colab-df-convert');\n",
       "        buttonEl.style.display =\n",
       "          google.colab.kernel.accessAllowed ? 'block' : 'none';\n",
       "\n",
       "        async function convertToInteractive(key) {\n",
       "          const element = document.querySelector('#df-b7ba62d3-39a9-457d-9cd0-d8653d74fb6f');\n",
       "          const dataTable =\n",
       "            await google.colab.kernel.invokeFunction('convertToInteractive',\n",
       "                                                     [key], {});\n",
       "          if (!dataTable) return;\n",
       "\n",
       "          const docLinkHtml = 'Like what you see? Visit the ' +\n",
       "            '<a target=\"_blank\" href=https://colab.research.google.com/notebooks/data_table.ipynb>data table notebook</a>'\n",
       "            + ' to learn more about interactive tables.';\n",
       "          element.innerHTML = '';\n",
       "          dataTable['output_type'] = 'display_data';\n",
       "          await google.colab.output.renderOutput(dataTable, element);\n",
       "          const docLink = document.createElement('div');\n",
       "          docLink.innerHTML = docLinkHtml;\n",
       "          element.appendChild(docLink);\n",
       "        }\n",
       "      </script>\n",
       "    </div>\n",
       "  </div>\n",
       "  "
      ],
      "text/plain": [
       "                          Accuracy  Precision    Recall  F1 score\n",
       "dummy with most_frequent  0.285667   0.028567  0.100000  0.044439\n",
       "dummy with stratified     0.151333   0.097930  0.097873  0.097838\n",
       "logistic with one-hot     0.997500   0.997919  0.996067  0.996984\n",
       "logistic with tfidf       0.858500   0.913407  0.765090  0.800947\n",
       "SVC with RBF              0.941167   0.965051  0.899003  0.923334\n",
       "my model                  0.996500   0.996940  0.994700  0.995792"
      ]
     },
     "execution_count": 37,
     "metadata": {},
     "output_type": "execute_result"
    }
   ],
   "source": [
    "table = pd.DataFrame.from_dict(train_map, orient='index', columns=['Accuracy', 'Precision', 'Recall', 'F1 score'])\n",
    "table"
   ]
  },
  {
   "cell_type": "markdown",
   "id": "6dbd86d8-d320-46ec-8143-7c2c1b56dd01",
   "metadata": {
    "id": "6dbd86d8-d320-46ec-8143-7c2c1b56dd01"
   },
   "source": [
    "## Part 4: Parameter Tuning"
   ]
  },
  {
   "cell_type": "markdown",
   "id": "afd8bcc8-6f73-4628-9fc9-bdd1cb98ea7b",
   "metadata": {
    "id": "afd8bcc8-6f73-4628-9fc9-bdd1cb98ea7b"
   },
   "source": [
    "We will improve the effectiveness of the **LogisticRegression with TF-IDF vectorisation** from above!"
   ]
  },
  {
   "cell_type": "code",
   "execution_count": 38,
   "id": "55860986-bff4-48de-84ae-0498ca745d8f",
   "metadata": {
    "colab": {
     "base_uri": "https://localhost:8080/"
    },
    "id": "55860986-bff4-48de-84ae-0498ca745d8f",
    "outputId": "a0632c99-c5ce-4c05-92c4-61165f849116"
   },
   "outputs": [
    {
     "name": "stdout",
     "output_type": "stream",
     "text": [
      "Fitting 3 folds for each of 5 candidates, totalling 15 fits\n",
      "[CV] END .......................................clf__C=0.001; total time=  59.4s\n",
      "[CV] END .......................................clf__C=0.001; total time=  59.5s\n",
      "[CV] END .......................................clf__C=0.001; total time=  59.4s\n",
      "[CV] END ........................................clf__C=0.01; total time=  59.5s\n",
      "[CV] END ........................................clf__C=0.01; total time=  59.6s\n",
      "[CV] END ........................................clf__C=0.01; total time=  59.4s\n",
      "[CV] END .........................................clf__C=0.1; total time=  60.0s\n",
      "[CV] END .........................................clf__C=0.1; total time= 1.0min\n",
      "[CV] END .........................................clf__C=0.1; total time=  59.9s\n",
      "[CV] END ...........................................clf__C=1; total time= 1.0min\n",
      "[CV] END ...........................................clf__C=1; total time= 1.0min\n",
      "[CV] END ...........................................clf__C=1; total time= 1.0min\n"
     ]
    },
    {
     "name": "stderr",
     "output_type": "stream",
     "text": [
      "/usr/local/lib/python3.9/dist-packages/sklearn/linear_model/_logistic.py:458: ConvergenceWarning: lbfgs failed to converge (status=1):\n",
      "STOP: TOTAL NO. of ITERATIONS REACHED LIMIT.\n",
      "\n",
      "Increase the number of iterations (max_iter) or scale the data as shown in:\n",
      "    https://scikit-learn.org/stable/modules/preprocessing.html\n",
      "Please also refer to the documentation for alternative solver options:\n",
      "    https://scikit-learn.org/stable/modules/linear_model.html#logistic-regression\n",
      "  n_iter_i = _check_optimize_result(\n"
     ]
    },
    {
     "name": "stdout",
     "output_type": "stream",
     "text": [
      "[CV] END ...........................................clf__C=5; total time= 1.0min\n"
     ]
    },
    {
     "name": "stderr",
     "output_type": "stream",
     "text": [
      "/usr/local/lib/python3.9/dist-packages/sklearn/linear_model/_logistic.py:458: ConvergenceWarning: lbfgs failed to converge (status=1):\n",
      "STOP: TOTAL NO. of ITERATIONS REACHED LIMIT.\n",
      "\n",
      "Increase the number of iterations (max_iter) or scale the data as shown in:\n",
      "    https://scikit-learn.org/stable/modules/preprocessing.html\n",
      "Please also refer to the documentation for alternative solver options:\n",
      "    https://scikit-learn.org/stable/modules/linear_model.html#logistic-regression\n",
      "  n_iter_i = _check_optimize_result(\n"
     ]
    },
    {
     "name": "stdout",
     "output_type": "stream",
     "text": [
      "[CV] END ...........................................clf__C=5; total time= 1.0min\n"
     ]
    },
    {
     "name": "stderr",
     "output_type": "stream",
     "text": [
      "/usr/local/lib/python3.9/dist-packages/sklearn/linear_model/_logistic.py:458: ConvergenceWarning: lbfgs failed to converge (status=1):\n",
      "STOP: TOTAL NO. of ITERATIONS REACHED LIMIT.\n",
      "\n",
      "Increase the number of iterations (max_iter) or scale the data as shown in:\n",
      "    https://scikit-learn.org/stable/modules/preprocessing.html\n",
      "Please also refer to the documentation for alternative solver options:\n",
      "    https://scikit-learn.org/stable/modules/linear_model.html#logistic-regression\n",
      "  n_iter_i = _check_optimize_result(\n"
     ]
    },
    {
     "name": "stdout",
     "output_type": "stream",
     "text": [
      "[CV] END ...........................................clf__C=5; total time= 1.0min\n"
     ]
    },
    {
     "name": "stderr",
     "output_type": "stream",
     "text": [
      "/usr/local/lib/python3.9/dist-packages/sklearn/linear_model/_logistic.py:458: ConvergenceWarning: lbfgs failed to converge (status=1):\n",
      "STOP: TOTAL NO. of ITERATIONS REACHED LIMIT.\n",
      "\n",
      "Increase the number of iterations (max_iter) or scale the data as shown in:\n",
      "    https://scikit-learn.org/stable/modules/preprocessing.html\n",
      "Please also refer to the documentation for alternative solver options:\n",
      "    https://scikit-learn.org/stable/modules/linear_model.html#logistic-regression\n",
      "  n_iter_i = _check_optimize_result(\n"
     ]
    },
    {
     "name": "stdout",
     "output_type": "stream",
     "text": [
      "Best parameters:  {'clf__C': 5}\n",
      "Best score:  0.7094999999999999\n",
      "\n",
      "\n",
      "Fitting 3 folds for each of 2 candidates, totalling 6 fits\n",
      "[CV] END .............................vec__sublinear_tf=True; total time= 1.0min\n",
      "[CV] END .............................vec__sublinear_tf=True; total time= 1.0min\n",
      "[CV] END .............................vec__sublinear_tf=True; total time= 1.0min\n",
      "[CV] END ............................vec__sublinear_tf=False; total time= 1.0min\n",
      "[CV] END ............................vec__sublinear_tf=False; total time= 1.0min\n",
      "[CV] END ............................vec__sublinear_tf=False; total time= 1.0min\n",
      "Best parameters:  {'vec__sublinear_tf': True}\n",
      "Best score:  0.6678333333333333\n",
      "\n",
      "\n",
      "Fitting 3 folds for each of 5 candidates, totalling 15 fits\n",
      "[CV] END .............................vec__max_features=None; total time= 1.1min\n",
      "[CV] END .............................vec__max_features=None; total time= 1.0min\n",
      "[CV] END .............................vec__max_features=None; total time= 1.1min\n",
      "[CV] END .............................vec__max_features=1000; total time=  59.0s\n",
      "[CV] END .............................vec__max_features=1000; total time=  58.7s\n",
      "[CV] END .............................vec__max_features=1000; total time=  59.1s\n",
      "[CV] END .............................vec__max_features=5000; total time= 1.0min\n",
      "[CV] END .............................vec__max_features=5000; total time= 1.0min\n",
      "[CV] END .............................vec__max_features=5000; total time= 1.0min\n",
      "[CV] END ............................vec__max_features=10000; total time= 1.0min\n",
      "[CV] END ............................vec__max_features=10000; total time= 1.0min\n",
      "[CV] END ............................vec__max_features=10000; total time= 1.0min\n",
      "[CV] END ............................vec__max_features=50000; total time= 1.0min\n",
      "[CV] END ............................vec__max_features=50000; total time= 1.0min\n",
      "[CV] END ............................vec__max_features=50000; total time= 1.0min\n",
      "Best parameters:  {'vec__max_features': 5000}\n",
      "Best score:  0.6758333333333334\n",
      "\n",
      "\n",
      "Fitting 3 folds for each of 3 candidates, totalling 9 fits\n",
      "[CV] END ..................................clf__solver=lbfgs; total time= 1.0min\n",
      "[CV] END ..................................clf__solver=lbfgs; total time= 1.0min\n",
      "[CV] END ..................................clf__solver=lbfgs; total time= 1.0min\n",
      "[CV] END ...................................clf__solver=saga; total time=  58.6s\n",
      "[CV] END ...................................clf__solver=saga; total time=  58.8s\n",
      "[CV] END ...................................clf__solver=saga; total time=  58.7s\n",
      "[CV] END ..............................clf__solver=newton-cg; total time=  59.1s\n",
      "[CV] END ..............................clf__solver=newton-cg; total time=  59.0s\n",
      "[CV] END ..............................clf__solver=newton-cg; total time=  59.1s\n",
      "Best parameters:  {'clf__solver': 'saga'}\n",
      "Best score:  0.6678333333333333\n",
      "\n",
      "\n"
     ]
    }
   ],
   "source": [
    "from sklearn.model_selection import GridSearchCV\n",
    "\n",
    "pipeline = Pipeline([\n",
    "    ('vec', TfidfVectorizer(tokenizer=text_pipeline_spacy)),\n",
    "    ('clf', LogisticRegression())\n",
    "])\n",
    "\n",
    "param_grid = {\n",
    "    # no C larger than 5 for now because the model won't converge\n",
    "    'clf__C': [0.001, 0.01, 0.1, 1, 5],\n",
    "    'vec__sublinear_tf': [True, False],\n",
    "    'vec__max_features': [None, 1000, 5000, 10000, 50000],\n",
    "    'clf__solver': ['lbfgs', 'saga', 'newton-cg']\n",
    "}\n",
    "\n",
    "\n",
    "# We will use sequential searching in that gridsearch is too time-consuming\n",
    "def my_search(key, value):\n",
    "    grid = {key: value}\n",
    "    grid_search = GridSearchCV(pipeline, param_grid=grid, cv=3, error_score='raise', verbose=2)\n",
    "    grid_search.fit(X_train, y_train)\n",
    "    print(\"Best parameters: \", grid_search.best_params_)\n",
    "    print(\"Best score: \", grid_search.best_score_)\n",
    "    print(\"\\n\")\n",
    "    \n",
    "    \n",
    "for k, v in param_grid.items():\n",
    "    my_search(k, v)"
   ]
  },
  {
   "cell_type": "markdown",
   "id": "501afaa5-efe0-4f28-81ae-a032253e202e",
   "metadata": {
    "id": "501afaa5-efe0-4f28-81ae-a032253e202e"
   },
   "source": [
    "As the result shown above, we can get several conclusions:\n",
    "1. The best parameter set appears to be: \n",
    "    * {'clf__C': 5}\n",
    "    * {'vec__sublinear_tf': True}\n",
    "    * {'vec__max_features': 5000}\n",
    "    * {'clf__solver': 'saga'}\n",
    "2. Although C = 5 cause the model not converging, but it still got the best results, indicates that strong regulization is required for the model.\n",
    "\n",
    "Therefore, we will try bigger C value, and meanwhile increase`max_iter`, so that hopefully the model will converge even the C is big."
   ]
  },
  {
   "cell_type": "code",
   "execution_count": 39,
   "id": "ab3014b3-f314-4f5b-b2db-b9ef98432fe3",
   "metadata": {
    "colab": {
     "base_uri": "https://localhost:8080/"
    },
    "id": "ab3014b3-f314-4f5b-b2db-b9ef98432fe3",
    "outputId": "ae532414-0469-4d10-d141-6852ca043dd7"
   },
   "outputs": [
    {
     "name": "stdout",
     "output_type": "stream",
     "text": [
      "Fitting 3 folds for each of 6 candidates, totalling 18 fits\n",
      "[CV] END ...........................................clf__C=5; total time= 1.0min\n",
      "[CV] END ...........................................clf__C=5; total time= 1.0min\n",
      "[CV] END ...........................................clf__C=5; total time= 1.0min\n",
      "[CV] END ..........................................clf__C=10; total time= 1.0min\n",
      "[CV] END ..........................................clf__C=10; total time= 1.0min\n",
      "[CV] END ..........................................clf__C=10; total time= 1.0min\n",
      "[CV] END .........................................clf__C=100; total time= 1.1min\n",
      "[CV] END .........................................clf__C=100; total time= 1.1min\n",
      "[CV] END .........................................clf__C=100; total time= 1.1min\n",
      "[CV] END ........................................clf__C=1000; total time= 1.1min\n",
      "[CV] END ........................................clf__C=1000; total time= 1.1min\n",
      "[CV] END ........................................clf__C=1000; total time= 1.1min\n",
      "[CV] END .......................................clf__C=10000; total time= 1.1min\n",
      "[CV] END .......................................clf__C=10000; total time= 1.1min\n",
      "[CV] END .......................................clf__C=10000; total time= 1.0min\n",
      "[CV] END ......................................clf__C=100000; total time= 1.1min\n",
      "[CV] END ......................................clf__C=100000; total time= 1.1min\n",
      "[CV] END ......................................clf__C=100000; total time= 1.1min\n",
      "Best parameters:  {'clf__C': 10}\n",
      "Best score:  0.7086666666666668\n",
      "\n",
      "\n"
     ]
    }
   ],
   "source": [
    "param_grid_1 = {\n",
    "    'clf__C': [5, 10, 100, 1000, 10000, 100000],\n",
    "}\n",
    "\n",
    "pipeline = Pipeline([\n",
    "    ('vec', TfidfVectorizer(tokenizer=text_pipeline_spacy, max_features=5000, sublinear_tf=True)),\n",
    "    ('clf', LogisticRegression(max_iter=1000))\n",
    "])\n",
    "\n",
    "for k, v in param_grid_1.items():\n",
    "    my_search(k, v)"
   ]
  },
  {
   "cell_type": "markdown",
   "id": "987324d2-1034-4fc6-9888-b483c501d72b",
   "metadata": {
    "id": "987324d2-1034-4fc6-9888-b483c501d72b"
   },
   "source": [
    "So set `max_iter` to 1000 is enough! Now we have our best model!"
   ]
  },
  {
   "cell_type": "code",
   "execution_count": 41,
   "id": "7ca11a3c-0118-42ff-a1ce-1a61fcc92b27",
   "metadata": {
    "id": "7ca11a3c-0118-42ff-a1ce-1a61fcc92b27"
   },
   "outputs": [],
   "source": [
    "best_model = Pipeline([\n",
    "    ('vec', TfidfVectorizer(tokenizer=text_pipeline_spacy, max_features=5000, sublinear_tf=True)),\n",
    "    ('clf', LogisticRegression(C=10, max_iter=1000, solver='saga'))\n",
    "])\n",
    "\n",
    "best_model.fit(X_train, y_train)\n",
    "y_pred = best_model.predict(X_valid)\n",
    "accu = accuracy_score(y_valid, y_pred)\n",
    "precision, recall, f1, _ = precision_recall_fscore_support(y_valid, y_pred, average='macro', zero_division=0)\n",
    "valid_map['best_log'] = (accu, precision, recall, f1)"
   ]
  },
  {
   "cell_type": "code",
   "execution_count": 42,
   "id": "c2a369e3-0bf8-4e39-acc4-4805a5aeeb34",
   "metadata": {
    "colab": {
     "base_uri": "https://localhost:8080/",
     "height": 112
    },
    "id": "c2a369e3-0bf8-4e39-acc4-4805a5aeeb34",
    "outputId": "2e77d89e-0a47-455d-ecbd-7b3460b49120"
   },
   "outputs": [
    {
     "data": {
      "text/html": [
       "\n",
       "  <div id=\"df-1df47235-aa22-4d1b-948c-daf39f922f18\">\n",
       "    <div class=\"colab-df-container\">\n",
       "      <div>\n",
       "<style scoped>\n",
       "    .dataframe tbody tr th:only-of-type {\n",
       "        vertical-align: middle;\n",
       "    }\n",
       "\n",
       "    .dataframe tbody tr th {\n",
       "        vertical-align: top;\n",
       "    }\n",
       "\n",
       "    .dataframe thead th {\n",
       "        text-align: right;\n",
       "    }\n",
       "</style>\n",
       "<table border=\"1\" class=\"dataframe\">\n",
       "  <thead>\n",
       "    <tr style=\"text-align: right;\">\n",
       "      <th></th>\n",
       "      <th>Accuracy</th>\n",
       "      <th>Precision</th>\n",
       "      <th>Recall</th>\n",
       "      <th>F1 score</th>\n",
       "    </tr>\n",
       "  </thead>\n",
       "  <tbody>\n",
       "    <tr>\n",
       "      <th>logistic with tfidf</th>\n",
       "      <td>0.6830</td>\n",
       "      <td>0.759318</td>\n",
       "      <td>0.539566</td>\n",
       "      <td>0.567933</td>\n",
       "    </tr>\n",
       "    <tr>\n",
       "      <th>best_log</th>\n",
       "      <td>0.7075</td>\n",
       "      <td>0.670246</td>\n",
       "      <td>0.616111</td>\n",
       "      <td>0.635276</td>\n",
       "    </tr>\n",
       "  </tbody>\n",
       "</table>\n",
       "</div>\n",
       "      <button class=\"colab-df-convert\" onclick=\"convertToInteractive('df-1df47235-aa22-4d1b-948c-daf39f922f18')\"\n",
       "              title=\"Convert this dataframe to an interactive table.\"\n",
       "              style=\"display:none;\">\n",
       "        \n",
       "  <svg xmlns=\"http://www.w3.org/2000/svg\" height=\"24px\"viewBox=\"0 0 24 24\"\n",
       "       width=\"24px\">\n",
       "    <path d=\"M0 0h24v24H0V0z\" fill=\"none\"/>\n",
       "    <path d=\"M18.56 5.44l.94 2.06.94-2.06 2.06-.94-2.06-.94-.94-2.06-.94 2.06-2.06.94zm-11 1L8.5 8.5l.94-2.06 2.06-.94-2.06-.94L8.5 2.5l-.94 2.06-2.06.94zm10 10l.94 2.06.94-2.06 2.06-.94-2.06-.94-.94-2.06-.94 2.06-2.06.94z\"/><path d=\"M17.41 7.96l-1.37-1.37c-.4-.4-.92-.59-1.43-.59-.52 0-1.04.2-1.43.59L10.3 9.45l-7.72 7.72c-.78.78-.78 2.05 0 2.83L4 21.41c.39.39.9.59 1.41.59.51 0 1.02-.2 1.41-.59l7.78-7.78 2.81-2.81c.8-.78.8-2.07 0-2.86zM5.41 20L4 18.59l7.72-7.72 1.47 1.35L5.41 20z\"/>\n",
       "  </svg>\n",
       "      </button>\n",
       "      \n",
       "  <style>\n",
       "    .colab-df-container {\n",
       "      display:flex;\n",
       "      flex-wrap:wrap;\n",
       "      gap: 12px;\n",
       "    }\n",
       "\n",
       "    .colab-df-convert {\n",
       "      background-color: #E8F0FE;\n",
       "      border: none;\n",
       "      border-radius: 50%;\n",
       "      cursor: pointer;\n",
       "      display: none;\n",
       "      fill: #1967D2;\n",
       "      height: 32px;\n",
       "      padding: 0 0 0 0;\n",
       "      width: 32px;\n",
       "    }\n",
       "\n",
       "    .colab-df-convert:hover {\n",
       "      background-color: #E2EBFA;\n",
       "      box-shadow: 0px 1px 2px rgba(60, 64, 67, 0.3), 0px 1px 3px 1px rgba(60, 64, 67, 0.15);\n",
       "      fill: #174EA6;\n",
       "    }\n",
       "\n",
       "    [theme=dark] .colab-df-convert {\n",
       "      background-color: #3B4455;\n",
       "      fill: #D2E3FC;\n",
       "    }\n",
       "\n",
       "    [theme=dark] .colab-df-convert:hover {\n",
       "      background-color: #434B5C;\n",
       "      box-shadow: 0px 1px 3px 1px rgba(0, 0, 0, 0.15);\n",
       "      filter: drop-shadow(0px 1px 2px rgba(0, 0, 0, 0.3));\n",
       "      fill: #FFFFFF;\n",
       "    }\n",
       "  </style>\n",
       "\n",
       "      <script>\n",
       "        const buttonEl =\n",
       "          document.querySelector('#df-1df47235-aa22-4d1b-948c-daf39f922f18 button.colab-df-convert');\n",
       "        buttonEl.style.display =\n",
       "          google.colab.kernel.accessAllowed ? 'block' : 'none';\n",
       "\n",
       "        async function convertToInteractive(key) {\n",
       "          const element = document.querySelector('#df-1df47235-aa22-4d1b-948c-daf39f922f18');\n",
       "          const dataTable =\n",
       "            await google.colab.kernel.invokeFunction('convertToInteractive',\n",
       "                                                     [key], {});\n",
       "          if (!dataTable) return;\n",
       "\n",
       "          const docLinkHtml = 'Like what you see? Visit the ' +\n",
       "            '<a target=\"_blank\" href=https://colab.research.google.com/notebooks/data_table.ipynb>data table notebook</a>'\n",
       "            + ' to learn more about interactive tables.';\n",
       "          element.innerHTML = '';\n",
       "          dataTable['output_type'] = 'display_data';\n",
       "          await google.colab.output.renderOutput(dataTable, element);\n",
       "          const docLink = document.createElement('div');\n",
       "          docLink.innerHTML = docLinkHtml;\n",
       "          element.appendChild(docLink);\n",
       "        }\n",
       "      </script>\n",
       "    </div>\n",
       "  </div>\n",
       "  "
      ],
      "text/plain": [
       "                     Accuracy  Precision    Recall  F1 score\n",
       "logistic with tfidf    0.6830   0.759318  0.539566  0.567933\n",
       "best_log               0.7075   0.670246  0.616111  0.635276"
      ]
     },
     "execution_count": 42,
     "metadata": {},
     "output_type": "execute_result"
    }
   ],
   "source": [
    "table = pd.DataFrame.from_dict(valid_map, orient='index', columns=['Accuracy', 'Precision', 'Recall', 'F1 score'])\n",
    "table.loc[['logistic with tfidf', 'best_log']]"
   ]
  },
  {
   "cell_type": "markdown",
   "id": "6901061e-b448-4fba-a531-e14ccab5a0c4",
   "metadata": {
    "id": "6901061e-b448-4fba-a531-e14ccab5a0c4"
   },
   "source": [
    "## Part 5: Context vectors using BERT"
   ]
  },
  {
   "cell_type": "markdown",
   "id": "d3c405a6-e0be-4ca4-a52f-67293a88f4c8",
   "metadata": {
    "id": "d3c405a6-e0be-4ca4-a52f-67293a88f4c8"
   },
   "source": [
    "After using several classification model, it's time to see if a deep learning-based approach can improve the performance compared to the earlier\n",
    "more traditional approaches."
   ]
  },
  {
   "cell_type": "markdown",
   "id": "dfecdec3-9b55-413c-a6f5-2a9514034e57",
   "metadata": {
    "id": "dfecdec3-9b55-413c-a6f5-2a9514034e57"
   },
   "source": [
    "### A"
   ]
  },
  {
   "cell_type": "code",
   "execution_count": 43,
   "id": "9e75e1a1-1579-4717-acb0-022af7977bc9",
   "metadata": {
    "colab": {
     "base_uri": "https://localhost:8080/",
     "height": 249,
     "referenced_widgets": [
      "a8d81084e2f04dabab5815f01fec73be",
      "9ef8a7c3ac1640be80813324baccbd22",
      "eb33f052ed0c49ca95a0021ded4b0cc9",
      "6b809675ea5244a3b392dad6fbb9e6eb",
      "a871fbb769904370a535d9b732c6a3e7",
      "63a7293e0b454d9a86043c1b8bf364c5",
      "13e9a9acb087475fbcf8a07c29581c94",
      "496acc31f26a4755837d6ce8bcd789c0",
      "a6d191affb414dd78ef6e9c9897e5763",
      "291262522e174b95b63c10d20ee3a0e4",
      "e3d11146f66e47c2a572b8de8f5e5239",
      "f85107e1b2b84cf79fc52d95c7f09fe4",
      "8309a558934a4368ba148b512386b640",
      "0a58c0a8241c435f8417668ada19aee4",
      "2755fcd81cbd42b5b8b21d87b10c7524",
      "d8116fae1f5a4d06bd4e2ac5e8048a1b",
      "7dff070aa4094d9480e2526bc305532f",
      "104a459e4eeb440dbc93e410a72ca7f4",
      "ee64a5e0ea1441ae98ec5765fefd27b0",
      "5d2650d04e7c4df981841b416a9fd646",
      "00800b3c6eb545008255845fb1faac20",
      "b07d97b7379a44b19ccec250ed45c1dd",
      "1fb53da764ce4b99b07ec07de93cfc1f",
      "d4436e29eb764b169383bdc3eb29e541",
      "7e17d5bb66f241f49945589878cdadef",
      "aa8abb1b7d5044e5a5b75cd7b0ec90ee",
      "06d8be264bd741e0ad556e8aeceadf5e",
      "e14557da4bde48c28b9a5426500b2b59",
      "b06700654ab84fe2b87dcdbf9b0777ee",
      "395c1eda57784a2c9657d40363e80174",
      "814c9d8a438d461594f28ff9fe4019ed",
      "1d5c3238dd41452f8be330ec456de9de",
      "9ea121f510444615bb13b16de46c290e",
      "9b1b2913d51845ed8b9135b90668d15a",
      "31ce8133b1f34d6cb9e2cbaf66041038",
      "05993e4e00da4ceda105d742d7b3f463",
      "748f0166f693442bbe947a3e07ae8a1f",
      "93ab37d75c5143ce9efaba4c32490b88",
      "7eac332e29134133b94665f44bd48550",
      "dc3e325600f54d76a20057fe47593a59",
      "076600a03fc044a2ad05ec5723017cfc",
      "d9059833294141b1af60764aa78dfee2",
      "5b2108dc979446128b5fafa1f2e92ac6",
      "e6d62400f70a4096996031dc916b6408",
      "8658de74163b4976a8dff8ea5077a5b1",
      "d664dd7bcd2b418395e5b722aff46eb7",
      "e96e2536e749419db2bf2b22cb68d4bd",
      "34c6165323f3422cb0bb573f9844d398",
      "4fdedd6e29b643de882048f6b41c3b97",
      "f66c0e6a76ee493b93bfba6ccea7beaa",
      "a0fba056a7994d39b8822443f8a55e4d",
      "d4208fb1409947c7b72555e4d0c3fe0c",
      "7cdfa678da094d8e9a413b3e4a34167b",
      "bd4756e368c145a19decf55c14583c84",
      "dc61361779884747b3ae8d35e126a4a1"
     ]
    },
    "id": "9e75e1a1-1579-4717-acb0-022af7977bc9",
    "outputId": "e10aca7e-badc-44df-b7c1-8984ce5e644a"
   },
   "outputs": [
    {
     "data": {
      "application/vnd.jupyter.widget-view+json": {
       "model_id": "a8d81084e2f04dabab5815f01fec73be",
       "version_major": 2,
       "version_minor": 0
      },
      "text/plain": [
       "Downloading (…)lve/main/config.json:   0%|          | 0.00/481 [00:00<?, ?B/s]"
      ]
     },
     "metadata": {},
     "output_type": "display_data"
    },
    {
     "data": {
      "application/vnd.jupyter.widget-view+json": {
       "model_id": "f85107e1b2b84cf79fc52d95c7f09fe4",
       "version_major": 2,
       "version_minor": 0
      },
      "text/plain": [
       "Downloading pytorch_model.bin:   0%|          | 0.00/501M [00:00<?, ?B/s]"
      ]
     },
     "metadata": {},
     "output_type": "display_data"
    },
    {
     "name": "stderr",
     "output_type": "stream",
     "text": [
      "Some weights of the model checkpoint at roberta-base were not used when initializing RobertaModel: ['lm_head.layer_norm.bias', 'lm_head.dense.bias', 'lm_head.layer_norm.weight', 'lm_head.dense.weight', 'lm_head.bias', 'lm_head.decoder.weight']\n",
      "- This IS expected if you are initializing RobertaModel from the checkpoint of a model trained on another task or with another architecture (e.g. initializing a BertForSequenceClassification model from a BertForPreTraining model).\n",
      "- This IS NOT expected if you are initializing RobertaModel from the checkpoint of a model that you expect to be exactly identical (initializing a BertForSequenceClassification model from a BertForSequenceClassification model).\n"
     ]
    },
    {
     "data": {
      "application/vnd.jupyter.widget-view+json": {
       "model_id": "1fb53da764ce4b99b07ec07de93cfc1f",
       "version_major": 2,
       "version_minor": 0
      },
      "text/plain": [
       "Downloading (…)olve/main/vocab.json:   0%|          | 0.00/899k [00:00<?, ?B/s]"
      ]
     },
     "metadata": {},
     "output_type": "display_data"
    },
    {
     "data": {
      "application/vnd.jupyter.widget-view+json": {
       "model_id": "9b1b2913d51845ed8b9135b90668d15a",
       "version_major": 2,
       "version_minor": 0
      },
      "text/plain": [
       "Downloading (…)olve/main/merges.txt:   0%|          | 0.00/456k [00:00<?, ?B/s]"
      ]
     },
     "metadata": {},
     "output_type": "display_data"
    },
    {
     "data": {
      "application/vnd.jupyter.widget-view+json": {
       "model_id": "8658de74163b4976a8dff8ea5077a5b1",
       "version_major": 2,
       "version_minor": 0
      },
      "text/plain": [
       "Downloading (…)/main/tokenizer.json:   0%|          | 0.00/1.36M [00:00<?, ?B/s]"
      ]
     },
     "metadata": {},
     "output_type": "display_data"
    }
   ],
   "source": [
    "from transformers import pipeline\n",
    "from transformers import RobertaTokenizer, TFRobertaModel\n",
    "from tqdm import tqdm\n",
    "\n",
    "nlp_features = pipeline('feature-extraction', model=\"roberta-base\")\n",
    "eval_map = dict()"
   ]
  },
  {
   "cell_type": "code",
   "execution_count": 44,
   "id": "3ddf9155-a4c7-4ee9-a94e-743fc3553b41",
   "metadata": {
    "colab": {
     "base_uri": "https://localhost:8080/"
    },
    "id": "3ddf9155-a4c7-4ee9-a94e-743fc3553b41",
    "outputId": "6fb3ff14-0a1e-4672-cc19-98140acb3a80"
   },
   "outputs": [
    {
     "name": "stderr",
     "output_type": "stream",
     "text": [
      "100%|██████████| 6000/6000 [04:53<00:00, 20.43it/s]\n"
     ]
    }
   ],
   "source": [
    "X_train_encoded_list = []\n",
    "for doc in tqdm(X_train):\n",
    "    output = nlp_features(doc)\n",
    "    output = np.array(output)\n",
    "    vec = output[0][0]\n",
    "    X_train_encoded_list.append(vec)"
   ]
  },
  {
   "cell_type": "code",
   "execution_count": 45,
   "id": "41fc9e72-5d2c-40df-9758-5903604e81e8",
   "metadata": {
    "id": "41fc9e72-5d2c-40df-9758-5903604e81e8"
   },
   "outputs": [],
   "source": [
    "X_train_encoded = np.array(X_train_encoded_list, dtype=np.ndarray)"
   ]
  },
  {
   "cell_type": "code",
   "execution_count": 46,
   "id": "f244e192-87ef-404b-834f-4c87fdc15553",
   "metadata": {
    "colab": {
     "base_uri": "https://localhost:8080/",
     "height": 75
    },
    "id": "f244e192-87ef-404b-834f-4c87fdc15553",
    "outputId": "5749a915-f962-4174-d299-5515d8d7d298"
   },
   "outputs": [
    {
     "data": {
      "text/html": [
       "<style>#sk-container-id-1 {color: black;background-color: white;}#sk-container-id-1 pre{padding: 0;}#sk-container-id-1 div.sk-toggleable {background-color: white;}#sk-container-id-1 label.sk-toggleable__label {cursor: pointer;display: block;width: 100%;margin-bottom: 0;padding: 0.3em;box-sizing: border-box;text-align: center;}#sk-container-id-1 label.sk-toggleable__label-arrow:before {content: \"▸\";float: left;margin-right: 0.25em;color: #696969;}#sk-container-id-1 label.sk-toggleable__label-arrow:hover:before {color: black;}#sk-container-id-1 div.sk-estimator:hover label.sk-toggleable__label-arrow:before {color: black;}#sk-container-id-1 div.sk-toggleable__content {max-height: 0;max-width: 0;overflow: hidden;text-align: left;background-color: #f0f8ff;}#sk-container-id-1 div.sk-toggleable__content pre {margin: 0.2em;color: black;border-radius: 0.25em;background-color: #f0f8ff;}#sk-container-id-1 input.sk-toggleable__control:checked~div.sk-toggleable__content {max-height: 200px;max-width: 100%;overflow: auto;}#sk-container-id-1 input.sk-toggleable__control:checked~label.sk-toggleable__label-arrow:before {content: \"▾\";}#sk-container-id-1 div.sk-estimator input.sk-toggleable__control:checked~label.sk-toggleable__label {background-color: #d4ebff;}#sk-container-id-1 div.sk-label input.sk-toggleable__control:checked~label.sk-toggleable__label {background-color: #d4ebff;}#sk-container-id-1 input.sk-hidden--visually {border: 0;clip: rect(1px 1px 1px 1px);clip: rect(1px, 1px, 1px, 1px);height: 1px;margin: -1px;overflow: hidden;padding: 0;position: absolute;width: 1px;}#sk-container-id-1 div.sk-estimator {font-family: monospace;background-color: #f0f8ff;border: 1px dotted black;border-radius: 0.25em;box-sizing: border-box;margin-bottom: 0.5em;}#sk-container-id-1 div.sk-estimator:hover {background-color: #d4ebff;}#sk-container-id-1 div.sk-parallel-item::after {content: \"\";width: 100%;border-bottom: 1px solid gray;flex-grow: 1;}#sk-container-id-1 div.sk-label:hover label.sk-toggleable__label {background-color: #d4ebff;}#sk-container-id-1 div.sk-serial::before {content: \"\";position: absolute;border-left: 1px solid gray;box-sizing: border-box;top: 0;bottom: 0;left: 50%;z-index: 0;}#sk-container-id-1 div.sk-serial {display: flex;flex-direction: column;align-items: center;background-color: white;padding-right: 0.2em;padding-left: 0.2em;position: relative;}#sk-container-id-1 div.sk-item {position: relative;z-index: 1;}#sk-container-id-1 div.sk-parallel {display: flex;align-items: stretch;justify-content: center;background-color: white;position: relative;}#sk-container-id-1 div.sk-item::before, #sk-container-id-1 div.sk-parallel-item::before {content: \"\";position: absolute;border-left: 1px solid gray;box-sizing: border-box;top: 0;bottom: 0;left: 50%;z-index: -1;}#sk-container-id-1 div.sk-parallel-item {display: flex;flex-direction: column;z-index: 1;position: relative;background-color: white;}#sk-container-id-1 div.sk-parallel-item:first-child::after {align-self: flex-end;width: 50%;}#sk-container-id-1 div.sk-parallel-item:last-child::after {align-self: flex-start;width: 50%;}#sk-container-id-1 div.sk-parallel-item:only-child::after {width: 0;}#sk-container-id-1 div.sk-dashed-wrapped {border: 1px dashed gray;margin: 0 0.4em 0.5em 0.4em;box-sizing: border-box;padding-bottom: 0.4em;background-color: white;}#sk-container-id-1 div.sk-label label {font-family: monospace;font-weight: bold;display: inline-block;line-height: 1.2em;}#sk-container-id-1 div.sk-label-container {text-align: center;}#sk-container-id-1 div.sk-container {/* jupyter's `normalize.less` sets `[hidden] { display: none; }` but bootstrap.min.css set `[hidden] { display: none !important; }` so we also need the `!important` here to be able to override the default hidden behavior on the sphinx rendered scikit-learn.org. See: https://github.com/scikit-learn/scikit-learn/issues/21755 */display: inline-block !important;position: relative;}#sk-container-id-1 div.sk-text-repr-fallback {display: none;}</style><div id=\"sk-container-id-1\" class=\"sk-top-container\"><div class=\"sk-text-repr-fallback\"><pre>LogisticRegression(max_iter=5000)</pre><b>In a Jupyter environment, please rerun this cell to show the HTML representation or trust the notebook. <br />On GitHub, the HTML representation is unable to render, please try loading this page with nbviewer.org.</b></div><div class=\"sk-container\" hidden><div class=\"sk-item\"><div class=\"sk-estimator sk-toggleable\"><input class=\"sk-toggleable__control sk-hidden--visually\" id=\"sk-estimator-id-1\" type=\"checkbox\" checked><label for=\"sk-estimator-id-1\" class=\"sk-toggleable__label sk-toggleable__label-arrow\">LogisticRegression</label><div class=\"sk-toggleable__content\"><pre>LogisticRegression(max_iter=5000)</pre></div></div></div></div></div>"
      ],
      "text/plain": [
       "LogisticRegression(max_iter=5000)"
      ]
     },
     "execution_count": 46,
     "metadata": {},
     "output_type": "execute_result"
    }
   ],
   "source": [
    "clf = LogisticRegression(max_iter=5000)\n",
    "clf.fit(X_train_encoded, y_train)"
   ]
  },
  {
   "cell_type": "code",
   "execution_count": 47,
   "id": "c76610ea-7124-427f-817d-293d4fc9ca82",
   "metadata": {
    "colab": {
     "base_uri": "https://localhost:8080/"
    },
    "id": "c76610ea-7124-427f-817d-293d4fc9ca82",
    "outputId": "a24a45c9-89df-4614-f98b-ce61c9046faa"
   },
   "outputs": [
    {
     "name": "stderr",
     "output_type": "stream",
     "text": [
      "100%|██████████| 2000/2000 [01:35<00:00, 20.98it/s]\n"
     ]
    }
   ],
   "source": [
    "X_valid_encoded_list = []\n",
    "for doc in tqdm(X_valid):\n",
    "    output = nlp_features(doc)\n",
    "    output = np.array(output)\n",
    "    vec = output[0][0]\n",
    "    X_valid_encoded_list.append(vec)"
   ]
  },
  {
   "cell_type": "code",
   "execution_count": 48,
   "id": "3a6b0634-eef1-41c6-a1c1-4b60be0c153f",
   "metadata": {
    "id": "3a6b0634-eef1-41c6-a1c1-4b60be0c153f"
   },
   "outputs": [],
   "source": [
    "X_valid_encoded = np.array(X_valid_encoded_list, dtype=np.ndarray)"
   ]
  },
  {
   "cell_type": "code",
   "execution_count": 49,
   "id": "7dae87b4-e6f4-474d-98cb-56d256c2de33",
   "metadata": {
    "id": "7dae87b4-e6f4-474d-98cb-56d256c2de33"
   },
   "outputs": [],
   "source": [
    "y_pred = clf.predict(X_valid_encoded)\n",
    "accu = accuracy_score(y_valid, y_pred)\n",
    "precision, recall, f1, _ = precision_recall_fscore_support(y_valid, y_pred, average='macro', zero_division=0)\n",
    "eval_map['model_a'] = (accu, precision, recall, f1)"
   ]
  },
  {
   "cell_type": "code",
   "execution_count": 50,
   "id": "af46b514-5555-4833-b07c-43faf8dfac29",
   "metadata": {
    "colab": {
     "base_uri": "https://localhost:8080/",
     "height": 81
    },
    "id": "af46b514-5555-4833-b07c-43faf8dfac29",
    "outputId": "d70a35d2-cfb9-4bf6-cae4-22ca2644d8eb"
   },
   "outputs": [
    {
     "data": {
      "text/html": [
       "\n",
       "  <div id=\"df-16b66cd8-c5b4-402b-990a-fc4066e88a53\">\n",
       "    <div class=\"colab-df-container\">\n",
       "      <div>\n",
       "<style scoped>\n",
       "    .dataframe tbody tr th:only-of-type {\n",
       "        vertical-align: middle;\n",
       "    }\n",
       "\n",
       "    .dataframe tbody tr th {\n",
       "        vertical-align: top;\n",
       "    }\n",
       "\n",
       "    .dataframe thead th {\n",
       "        text-align: right;\n",
       "    }\n",
       "</style>\n",
       "<table border=\"1\" class=\"dataframe\">\n",
       "  <thead>\n",
       "    <tr style=\"text-align: right;\">\n",
       "      <th></th>\n",
       "      <th>Accuracy</th>\n",
       "      <th>Precision</th>\n",
       "      <th>Recall</th>\n",
       "      <th>F1 score</th>\n",
       "    </tr>\n",
       "  </thead>\n",
       "  <tbody>\n",
       "    <tr>\n",
       "      <th>model_a</th>\n",
       "      <td>0.795</td>\n",
       "      <td>0.782504</td>\n",
       "      <td>0.706523</td>\n",
       "      <td>0.729139</td>\n",
       "    </tr>\n",
       "  </tbody>\n",
       "</table>\n",
       "</div>\n",
       "      <button class=\"colab-df-convert\" onclick=\"convertToInteractive('df-16b66cd8-c5b4-402b-990a-fc4066e88a53')\"\n",
       "              title=\"Convert this dataframe to an interactive table.\"\n",
       "              style=\"display:none;\">\n",
       "        \n",
       "  <svg xmlns=\"http://www.w3.org/2000/svg\" height=\"24px\"viewBox=\"0 0 24 24\"\n",
       "       width=\"24px\">\n",
       "    <path d=\"M0 0h24v24H0V0z\" fill=\"none\"/>\n",
       "    <path d=\"M18.56 5.44l.94 2.06.94-2.06 2.06-.94-2.06-.94-.94-2.06-.94 2.06-2.06.94zm-11 1L8.5 8.5l.94-2.06 2.06-.94-2.06-.94L8.5 2.5l-.94 2.06-2.06.94zm10 10l.94 2.06.94-2.06 2.06-.94-2.06-.94-.94-2.06-.94 2.06-2.06.94z\"/><path d=\"M17.41 7.96l-1.37-1.37c-.4-.4-.92-.59-1.43-.59-.52 0-1.04.2-1.43.59L10.3 9.45l-7.72 7.72c-.78.78-.78 2.05 0 2.83L4 21.41c.39.39.9.59 1.41.59.51 0 1.02-.2 1.41-.59l7.78-7.78 2.81-2.81c.8-.78.8-2.07 0-2.86zM5.41 20L4 18.59l7.72-7.72 1.47 1.35L5.41 20z\"/>\n",
       "  </svg>\n",
       "      </button>\n",
       "      \n",
       "  <style>\n",
       "    .colab-df-container {\n",
       "      display:flex;\n",
       "      flex-wrap:wrap;\n",
       "      gap: 12px;\n",
       "    }\n",
       "\n",
       "    .colab-df-convert {\n",
       "      background-color: #E8F0FE;\n",
       "      border: none;\n",
       "      border-radius: 50%;\n",
       "      cursor: pointer;\n",
       "      display: none;\n",
       "      fill: #1967D2;\n",
       "      height: 32px;\n",
       "      padding: 0 0 0 0;\n",
       "      width: 32px;\n",
       "    }\n",
       "\n",
       "    .colab-df-convert:hover {\n",
       "      background-color: #E2EBFA;\n",
       "      box-shadow: 0px 1px 2px rgba(60, 64, 67, 0.3), 0px 1px 3px 1px rgba(60, 64, 67, 0.15);\n",
       "      fill: #174EA6;\n",
       "    }\n",
       "\n",
       "    [theme=dark] .colab-df-convert {\n",
       "      background-color: #3B4455;\n",
       "      fill: #D2E3FC;\n",
       "    }\n",
       "\n",
       "    [theme=dark] .colab-df-convert:hover {\n",
       "      background-color: #434B5C;\n",
       "      box-shadow: 0px 1px 3px 1px rgba(0, 0, 0, 0.15);\n",
       "      filter: drop-shadow(0px 1px 2px rgba(0, 0, 0, 0.3));\n",
       "      fill: #FFFFFF;\n",
       "    }\n",
       "  </style>\n",
       "\n",
       "      <script>\n",
       "        const buttonEl =\n",
       "          document.querySelector('#df-16b66cd8-c5b4-402b-990a-fc4066e88a53 button.colab-df-convert');\n",
       "        buttonEl.style.display =\n",
       "          google.colab.kernel.accessAllowed ? 'block' : 'none';\n",
       "\n",
       "        async function convertToInteractive(key) {\n",
       "          const element = document.querySelector('#df-16b66cd8-c5b4-402b-990a-fc4066e88a53');\n",
       "          const dataTable =\n",
       "            await google.colab.kernel.invokeFunction('convertToInteractive',\n",
       "                                                     [key], {});\n",
       "          if (!dataTable) return;\n",
       "\n",
       "          const docLinkHtml = 'Like what you see? Visit the ' +\n",
       "            '<a target=\"_blank\" href=https://colab.research.google.com/notebooks/data_table.ipynb>data table notebook</a>'\n",
       "            + ' to learn more about interactive tables.';\n",
       "          element.innerHTML = '';\n",
       "          dataTable['output_type'] = 'display_data';\n",
       "          await google.colab.output.renderOutput(dataTable, element);\n",
       "          const docLink = document.createElement('div');\n",
       "          docLink.innerHTML = docLinkHtml;\n",
       "          element.appendChild(docLink);\n",
       "        }\n",
       "      </script>\n",
       "    </div>\n",
       "  </div>\n",
       "  "
      ],
      "text/plain": [
       "         Accuracy  Precision    Recall  F1 score\n",
       "model_a     0.795   0.782504  0.706523  0.729139"
      ]
     },
     "execution_count": 50,
     "metadata": {},
     "output_type": "execute_result"
    }
   ],
   "source": [
    "table = pd.DataFrame.from_dict(eval_map, orient='index', columns=['Accuracy', 'Precision', 'Recall', 'F1 score'])\n",
    "table"
   ]
  },
  {
   "cell_type": "markdown",
   "id": "d2cb2c9d-91b9-4928-80c4-a6423a110204",
   "metadata": {
    "id": "d2cb2c9d-91b9-4928-80c4-a6423a110204"
   },
   "source": [
    "### B"
   ]
  },
  {
   "cell_type": "code",
   "execution_count": 51,
   "id": "b3b005b4-50a2-4542-a3e0-06d5adce8e61",
   "metadata": {
    "colab": {
     "base_uri": "https://localhost:8080/"
    },
    "id": "b3b005b4-50a2-4542-a3e0-06d5adce8e61",
    "outputId": "4aed01ab-a845-419c-e680-1dd9a6bfe06b"
   },
   "outputs": [
    {
     "name": "stderr",
     "output_type": "stream",
     "text": [
      "Some weights of the model checkpoint at roberta-base were not used when initializing RobertaForSequenceClassification: ['roberta.pooler.dense.bias', 'lm_head.layer_norm.bias', 'roberta.pooler.dense.weight', 'lm_head.dense.bias', 'lm_head.layer_norm.weight', 'lm_head.dense.weight', 'lm_head.bias', 'lm_head.decoder.weight']\n",
      "- This IS expected if you are initializing RobertaForSequenceClassification from the checkpoint of a model trained on another task or with another architecture (e.g. initializing a BertForSequenceClassification model from a BertForPreTraining model).\n",
      "- This IS NOT expected if you are initializing RobertaForSequenceClassification from the checkpoint of a model that you expect to be exactly identical (initializing a BertForSequenceClassification model from a BertForSequenceClassification model).\n",
      "Some weights of RobertaForSequenceClassification were not initialized from the model checkpoint at roberta-base and are newly initialized: ['classifier.dense.bias', 'classifier.out_proj.bias', 'classifier.dense.weight', 'classifier.out_proj.weight']\n",
      "You should probably TRAIN this model on a down-stream task to be able to use it for predictions and inference.\n"
     ]
    }
   ],
   "source": [
    "from datasets import Dataset\n",
    "from transformers import set_seed, TrainingArguments, Trainer, RobertaModel, RobertaForSequenceClassification\n",
    "import torch\n",
    "\n",
    "tokenizer = RobertaTokenizer.from_pretrained(\"roberta-base\")\n",
    "model = RobertaForSequenceClassification.from_pretrained(\"roberta-base\", num_labels=10)"
   ]
  },
  {
   "cell_type": "code",
   "execution_count": 52,
   "id": "1fd67f7d-ebd0-4baa-9429-68d655f5c762",
   "metadata": {
    "id": "1fd67f7d-ebd0-4baa-9429-68d655f5c762"
   },
   "outputs": [],
   "source": [
    "train_encoded = tokenizer(X_train.values.tolist(), padding=True, truncation=True)\n",
    "valid_encoded = tokenizer(X_valid.values.tolist(), padding=True, truncation=True)"
   ]
  },
  {
   "cell_type": "code",
   "execution_count": 53,
   "id": "54adaf00-1e4b-4857-9c1e-d3814ba0ec4a",
   "metadata": {
    "id": "54adaf00-1e4b-4857-9c1e-d3814ba0ec4a"
   },
   "outputs": [],
   "source": [
    "class my_dataset(torch.utils.data.Dataset):\n",
    "    def __init__(self, encodings, labels):\n",
    "        self.encodings = encodings\n",
    "        self.labels = torch.tensor(labels)\n",
    "        \n",
    "    def __getitem__(self, idx):\n",
    "        item = {key: torch.tensor(val[idx]) for key, val in self.encodings.items()}\n",
    "        item['label'] = self.labels[idx].view(1)\n",
    "        return item\n",
    "    \n",
    "    def __len__(self):\n",
    "        return len(self.labels)\n",
    "    \n",
    "train_dataset = my_dataset(train_encoded, y_train.values.tolist())\n",
    "valid_dataset = my_dataset(valid_encoded, y_valid.values.tolist())"
   ]
  },
  {
   "cell_type": "code",
   "execution_count": 54,
   "id": "7f61ec3e-56ac-4d2a-9e53-f67830f6fa70",
   "metadata": {
    "id": "7f61ec3e-56ac-4d2a-9e53-f67830f6fa70"
   },
   "outputs": [],
   "source": [
    "set_seed(2)\n",
    "\n",
    "learning_rate = 1e-4\n",
    "batch_size = 16\n",
    "epochs = 1 "
   ]
  },
  {
   "cell_type": "code",
   "execution_count": 55,
   "id": "5019d02c-4223-4b79-9f3a-f92e1010da49",
   "metadata": {
    "id": "5019d02c-4223-4b79-9f3a-f92e1010da49"
   },
   "outputs": [],
   "source": [
    "training_args = TrainingArguments(\n",
    "    output_dir=\"my_model\",\n",
    "    learning_rate=learning_rate,\n",
    "    per_device_train_batch_size=batch_size,\n",
    "    per_device_eval_batch_size=batch_size,\n",
    "    num_train_epochs=epochs\n",
    ")"
   ]
  },
  {
   "cell_type": "code",
   "execution_count": 56,
   "id": "dd18d2eb-bb92-49f4-9fb7-8e5bf9838425",
   "metadata": {
    "colab": {
     "base_uri": "https://localhost:8080/",
     "height": 165
    },
    "id": "dd18d2eb-bb92-49f4-9fb7-8e5bf9838425",
    "outputId": "f81cd0b6-5b7c-403c-b833-95c7f048ec1f"
   },
   "outputs": [
    {
     "name": "stderr",
     "output_type": "stream",
     "text": [
      "/usr/local/lib/python3.9/dist-packages/transformers/optimization.py:391: FutureWarning: This implementation of AdamW is deprecated and will be removed in a future version. Use the PyTorch implementation torch.optim.AdamW instead, or set `no_deprecation_warning=True` to disable this warning\n",
      "  warnings.warn(\n"
     ]
    },
    {
     "data": {
      "text/html": [
       "\n",
       "    <div>\n",
       "      \n",
       "      <progress value='375' max='375' style='width:300px; height:20px; vertical-align: middle;'></progress>\n",
       "      [375/375 00:59, Epoch 1/1]\n",
       "    </div>\n",
       "    <table border=\"1\" class=\"dataframe\">\n",
       "  <thead>\n",
       " <tr style=\"text-align: left;\">\n",
       "      <th>Step</th>\n",
       "      <th>Training Loss</th>\n",
       "    </tr>\n",
       "  </thead>\n",
       "  <tbody>\n",
       "  </tbody>\n",
       "</table><p>"
      ],
      "text/plain": [
       "<IPython.core.display.HTML object>"
      ]
     },
     "metadata": {},
     "output_type": "display_data"
    },
    {
     "data": {
      "text/plain": [
       "TrainOutput(global_step=375, training_loss=0.9236368815104167, metrics={'train_runtime': 63.246, 'train_samples_per_second': 94.868, 'train_steps_per_second': 5.929, 'total_flos': 662964142680000.0, 'train_loss': 0.9236368815104167, 'epoch': 1.0})"
      ]
     },
     "execution_count": 56,
     "metadata": {},
     "output_type": "execute_result"
    }
   ],
   "source": [
    "trainer = Trainer(\n",
    "    model=model, # The model you want to train\n",
    "    args=training_args, # The various training arguments set up above\n",
    "    train_dataset=train_dataset, # The data to use to update the weights\n",
    "    eval_dataset=valid_dataset, # The data to use\n",
    "    tokenizer=tokenizer # The tokenizer used on the data\n",
    ")\n",
    "\n",
    "trainer.train()"
   ]
  },
  {
   "cell_type": "code",
   "execution_count": 57,
   "id": "unzjbLEV0VMn",
   "metadata": {
    "colab": {
     "base_uri": "https://localhost:8080/",
     "height": 17
    },
    "id": "unzjbLEV0VMn",
    "outputId": "b2ec63f5-79f1-4292-ca14-1bf68ab411bd"
   },
   "outputs": [
    {
     "data": {
      "text/html": [],
      "text/plain": [
       "<IPython.core.display.HTML object>"
      ]
     },
     "metadata": {},
     "output_type": "display_data"
    }
   ],
   "source": [
    "predictions, label_ids, metrics = trainer.predict(valid_dataset)"
   ]
  },
  {
   "cell_type": "code",
   "execution_count": 58,
   "id": "Zxqg8nEFC8vB",
   "metadata": {
    "colab": {
     "base_uri": "https://localhost:8080/"
    },
    "id": "Zxqg8nEFC8vB",
    "outputId": "c786724a-29e4-4d26-ebf3-d4080da373cb"
   },
   "outputs": [
    {
     "data": {
      "text/plain": [
       "{'test_loss': 0.6573421955108643,\n",
       " 'test_runtime': 5.7018,\n",
       " 'test_samples_per_second': 350.766,\n",
       " 'test_steps_per_second': 21.923}"
      ]
     },
     "execution_count": 58,
     "metadata": {},
     "output_type": "execute_result"
    }
   ],
   "source": [
    "metrics"
   ]
  },
  {
   "cell_type": "code",
   "execution_count": 59,
   "id": "1UJsmmAaDPsT",
   "metadata": {
    "id": "1UJsmmAaDPsT"
   },
   "outputs": [],
   "source": [
    "accu = accuracy_score(label_ids, predictions.argmax(axis=1))\n",
    "precision, recall, f1, _ = precision_recall_fscore_support(label_ids, predictions.argmax(axis=1), average='macro', zero_division=0)\n",
    "eval_map['model_b'] = (accu, precision, recall, f1)"
   ]
  },
  {
   "cell_type": "code",
   "execution_count": 60,
   "id": "QysALcqRD6BQ",
   "metadata": {
    "colab": {
     "base_uri": "https://localhost:8080/",
     "height": 112
    },
    "id": "QysALcqRD6BQ",
    "outputId": "bd5938ab-8918-45d3-cd1f-2b947847440d"
   },
   "outputs": [
    {
     "data": {
      "text/html": [
       "\n",
       "  <div id=\"df-33b2f53f-f32b-41f0-85a5-c972c998fb8b\">\n",
       "    <div class=\"colab-df-container\">\n",
       "      <div>\n",
       "<style scoped>\n",
       "    .dataframe tbody tr th:only-of-type {\n",
       "        vertical-align: middle;\n",
       "    }\n",
       "\n",
       "    .dataframe tbody tr th {\n",
       "        vertical-align: top;\n",
       "    }\n",
       "\n",
       "    .dataframe thead th {\n",
       "        text-align: right;\n",
       "    }\n",
       "</style>\n",
       "<table border=\"1\" class=\"dataframe\">\n",
       "  <thead>\n",
       "    <tr style=\"text-align: right;\">\n",
       "      <th></th>\n",
       "      <th>Accuracy</th>\n",
       "      <th>Precision</th>\n",
       "      <th>Recall</th>\n",
       "      <th>F1 score</th>\n",
       "    </tr>\n",
       "  </thead>\n",
       "  <tbody>\n",
       "    <tr>\n",
       "      <th>model_a</th>\n",
       "      <td>0.7950</td>\n",
       "      <td>0.782504</td>\n",
       "      <td>0.706523</td>\n",
       "      <td>0.729139</td>\n",
       "    </tr>\n",
       "    <tr>\n",
       "      <th>model_b</th>\n",
       "      <td>0.8075</td>\n",
       "      <td>0.794492</td>\n",
       "      <td>0.725050</td>\n",
       "      <td>0.736171</td>\n",
       "    </tr>\n",
       "  </tbody>\n",
       "</table>\n",
       "</div>\n",
       "      <button class=\"colab-df-convert\" onclick=\"convertToInteractive('df-33b2f53f-f32b-41f0-85a5-c972c998fb8b')\"\n",
       "              title=\"Convert this dataframe to an interactive table.\"\n",
       "              style=\"display:none;\">\n",
       "        \n",
       "  <svg xmlns=\"http://www.w3.org/2000/svg\" height=\"24px\"viewBox=\"0 0 24 24\"\n",
       "       width=\"24px\">\n",
       "    <path d=\"M0 0h24v24H0V0z\" fill=\"none\"/>\n",
       "    <path d=\"M18.56 5.44l.94 2.06.94-2.06 2.06-.94-2.06-.94-.94-2.06-.94 2.06-2.06.94zm-11 1L8.5 8.5l.94-2.06 2.06-.94-2.06-.94L8.5 2.5l-.94 2.06-2.06.94zm10 10l.94 2.06.94-2.06 2.06-.94-2.06-.94-.94-2.06-.94 2.06-2.06.94z\"/><path d=\"M17.41 7.96l-1.37-1.37c-.4-.4-.92-.59-1.43-.59-.52 0-1.04.2-1.43.59L10.3 9.45l-7.72 7.72c-.78.78-.78 2.05 0 2.83L4 21.41c.39.39.9.59 1.41.59.51 0 1.02-.2 1.41-.59l7.78-7.78 2.81-2.81c.8-.78.8-2.07 0-2.86zM5.41 20L4 18.59l7.72-7.72 1.47 1.35L5.41 20z\"/>\n",
       "  </svg>\n",
       "      </button>\n",
       "      \n",
       "  <style>\n",
       "    .colab-df-container {\n",
       "      display:flex;\n",
       "      flex-wrap:wrap;\n",
       "      gap: 12px;\n",
       "    }\n",
       "\n",
       "    .colab-df-convert {\n",
       "      background-color: #E8F0FE;\n",
       "      border: none;\n",
       "      border-radius: 50%;\n",
       "      cursor: pointer;\n",
       "      display: none;\n",
       "      fill: #1967D2;\n",
       "      height: 32px;\n",
       "      padding: 0 0 0 0;\n",
       "      width: 32px;\n",
       "    }\n",
       "\n",
       "    .colab-df-convert:hover {\n",
       "      background-color: #E2EBFA;\n",
       "      box-shadow: 0px 1px 2px rgba(60, 64, 67, 0.3), 0px 1px 3px 1px rgba(60, 64, 67, 0.15);\n",
       "      fill: #174EA6;\n",
       "    }\n",
       "\n",
       "    [theme=dark] .colab-df-convert {\n",
       "      background-color: #3B4455;\n",
       "      fill: #D2E3FC;\n",
       "    }\n",
       "\n",
       "    [theme=dark] .colab-df-convert:hover {\n",
       "      background-color: #434B5C;\n",
       "      box-shadow: 0px 1px 3px 1px rgba(0, 0, 0, 0.15);\n",
       "      filter: drop-shadow(0px 1px 2px rgba(0, 0, 0, 0.3));\n",
       "      fill: #FFFFFF;\n",
       "    }\n",
       "  </style>\n",
       "\n",
       "      <script>\n",
       "        const buttonEl =\n",
       "          document.querySelector('#df-33b2f53f-f32b-41f0-85a5-c972c998fb8b button.colab-df-convert');\n",
       "        buttonEl.style.display =\n",
       "          google.colab.kernel.accessAllowed ? 'block' : 'none';\n",
       "\n",
       "        async function convertToInteractive(key) {\n",
       "          const element = document.querySelector('#df-33b2f53f-f32b-41f0-85a5-c972c998fb8b');\n",
       "          const dataTable =\n",
       "            await google.colab.kernel.invokeFunction('convertToInteractive',\n",
       "                                                     [key], {});\n",
       "          if (!dataTable) return;\n",
       "\n",
       "          const docLinkHtml = 'Like what you see? Visit the ' +\n",
       "            '<a target=\"_blank\" href=https://colab.research.google.com/notebooks/data_table.ipynb>data table notebook</a>'\n",
       "            + ' to learn more about interactive tables.';\n",
       "          element.innerHTML = '';\n",
       "          dataTable['output_type'] = 'display_data';\n",
       "          await google.colab.output.renderOutput(dataTable, element);\n",
       "          const docLink = document.createElement('div');\n",
       "          docLink.innerHTML = docLinkHtml;\n",
       "          element.appendChild(docLink);\n",
       "        }\n",
       "      </script>\n",
       "    </div>\n",
       "  </div>\n",
       "  "
      ],
      "text/plain": [
       "         Accuracy  Precision    Recall  F1 score\n",
       "model_a    0.7950   0.782504  0.706523  0.729139\n",
       "model_b    0.8075   0.794492  0.725050  0.736171"
      ]
     },
     "execution_count": 60,
     "metadata": {},
     "output_type": "execute_result"
    }
   ],
   "source": [
    "table = pd.DataFrame.from_dict(eval_map, orient='index', columns=['Accuracy', 'Precision', 'Recall', 'F1 score'])\n",
    "table"
   ]
  },
  {
   "cell_type": "markdown",
   "id": "_DKIz9j8S-ad",
   "metadata": {
    "id": "_DKIz9j8S-ad"
   },
   "source": [
    "### C"
   ]
  },
  {
   "cell_type": "code",
   "execution_count": 61,
   "id": "sCLkw_fUkGHK",
   "metadata": {
    "id": "sCLkw_fUkGHK"
   },
   "outputs": [],
   "source": [
    "learning_rate = [2e-5, 3e-5, 4e-5]\n",
    "batch_size = [32, 8, 64]\n",
    "epochs = [4, 3, 2]\n",
    "model_names = ['model_c_set_' + str(i+1) for i in range(3)]"
   ]
  },
  {
   "cell_type": "code",
   "execution_count": 62,
   "id": "vNlMuQWLnk9E",
   "metadata": {
    "colab": {
     "base_uri": "https://localhost:8080/",
     "height": 733
    },
    "id": "vNlMuQWLnk9E",
    "outputId": "14e9572c-9ed5-41f4-c20c-9fdf6c4c92dd"
   },
   "outputs": [
    {
     "name": "stderr",
     "output_type": "stream",
     "text": [
      "Some weights of the model checkpoint at roberta-base were not used when initializing RobertaForSequenceClassification: ['roberta.pooler.dense.bias', 'lm_head.layer_norm.bias', 'roberta.pooler.dense.weight', 'lm_head.dense.bias', 'lm_head.layer_norm.weight', 'lm_head.dense.weight', 'lm_head.bias', 'lm_head.decoder.weight']\n",
      "- This IS expected if you are initializing RobertaForSequenceClassification from the checkpoint of a model trained on another task or with another architecture (e.g. initializing a BertForSequenceClassification model from a BertForPreTraining model).\n",
      "- This IS NOT expected if you are initializing RobertaForSequenceClassification from the checkpoint of a model that you expect to be exactly identical (initializing a BertForSequenceClassification model from a BertForSequenceClassification model).\n",
      "Some weights of RobertaForSequenceClassification were not initialized from the model checkpoint at roberta-base and are newly initialized: ['classifier.dense.bias', 'classifier.out_proj.bias', 'classifier.dense.weight', 'classifier.out_proj.weight']\n",
      "You should probably TRAIN this model on a down-stream task to be able to use it for predictions and inference.\n",
      "/usr/local/lib/python3.9/dist-packages/transformers/optimization.py:391: FutureWarning: This implementation of AdamW is deprecated and will be removed in a future version. Use the PyTorch implementation torch.optim.AdamW instead, or set `no_deprecation_warning=True` to disable this warning\n",
      "  warnings.warn(\n"
     ]
    },
    {
     "data": {
      "text/html": [
       "\n",
       "    <div>\n",
       "      \n",
       "      <progress value='752' max='752' style='width:300px; height:20px; vertical-align: middle;'></progress>\n",
       "      [752/752 03:32, Epoch 4/4]\n",
       "    </div>\n",
       "    <table border=\"1\" class=\"dataframe\">\n",
       "  <thead>\n",
       " <tr style=\"text-align: left;\">\n",
       "      <th>Step</th>\n",
       "      <th>Training Loss</th>\n",
       "    </tr>\n",
       "  </thead>\n",
       "  <tbody>\n",
       "    <tr>\n",
       "      <td>500</td>\n",
       "      <td>0.696700</td>\n",
       "    </tr>\n",
       "  </tbody>\n",
       "</table><p>"
      ],
      "text/plain": [
       "<IPython.core.display.HTML object>"
      ]
     },
     "metadata": {},
     "output_type": "display_data"
    },
    {
     "data": {
      "text/html": [],
      "text/plain": [
       "<IPython.core.display.HTML object>"
      ]
     },
     "metadata": {},
     "output_type": "display_data"
    },
    {
     "name": "stderr",
     "output_type": "stream",
     "text": [
      "Some weights of the model checkpoint at roberta-base were not used when initializing RobertaForSequenceClassification: ['roberta.pooler.dense.bias', 'lm_head.layer_norm.bias', 'roberta.pooler.dense.weight', 'lm_head.dense.bias', 'lm_head.layer_norm.weight', 'lm_head.dense.weight', 'lm_head.bias', 'lm_head.decoder.weight']\n",
      "- This IS expected if you are initializing RobertaForSequenceClassification from the checkpoint of a model trained on another task or with another architecture (e.g. initializing a BertForSequenceClassification model from a BertForPreTraining model).\n",
      "- This IS NOT expected if you are initializing RobertaForSequenceClassification from the checkpoint of a model that you expect to be exactly identical (initializing a BertForSequenceClassification model from a BertForSequenceClassification model).\n",
      "Some weights of RobertaForSequenceClassification were not initialized from the model checkpoint at roberta-base and are newly initialized: ['classifier.dense.bias', 'classifier.out_proj.bias', 'classifier.dense.weight', 'classifier.out_proj.weight']\n",
      "You should probably TRAIN this model on a down-stream task to be able to use it for predictions and inference.\n",
      "/usr/local/lib/python3.9/dist-packages/transformers/optimization.py:391: FutureWarning: This implementation of AdamW is deprecated and will be removed in a future version. Use the PyTorch implementation torch.optim.AdamW instead, or set `no_deprecation_warning=True` to disable this warning\n",
      "  warnings.warn(\n"
     ]
    },
    {
     "data": {
      "text/html": [
       "\n",
       "    <div>\n",
       "      \n",
       "      <progress value='2250' max='2250' style='width:300px; height:20px; vertical-align: middle;'></progress>\n",
       "      [2250/2250 03:47, Epoch 3/3]\n",
       "    </div>\n",
       "    <table border=\"1\" class=\"dataframe\">\n",
       "  <thead>\n",
       " <tr style=\"text-align: left;\">\n",
       "      <th>Step</th>\n",
       "      <th>Training Loss</th>\n",
       "    </tr>\n",
       "  </thead>\n",
       "  <tbody>\n",
       "    <tr>\n",
       "      <td>500</td>\n",
       "      <td>0.920900</td>\n",
       "    </tr>\n",
       "    <tr>\n",
       "      <td>1000</td>\n",
       "      <td>0.602100</td>\n",
       "    </tr>\n",
       "    <tr>\n",
       "      <td>1500</td>\n",
       "      <td>0.484500</td>\n",
       "    </tr>\n",
       "    <tr>\n",
       "      <td>2000</td>\n",
       "      <td>0.309400</td>\n",
       "    </tr>\n",
       "  </tbody>\n",
       "</table><p>"
      ],
      "text/plain": [
       "<IPython.core.display.HTML object>"
      ]
     },
     "metadata": {},
     "output_type": "display_data"
    },
    {
     "data": {
      "text/html": [],
      "text/plain": [
       "<IPython.core.display.HTML object>"
      ]
     },
     "metadata": {},
     "output_type": "display_data"
    },
    {
     "name": "stderr",
     "output_type": "stream",
     "text": [
      "Some weights of the model checkpoint at roberta-base were not used when initializing RobertaForSequenceClassification: ['roberta.pooler.dense.bias', 'lm_head.layer_norm.bias', 'roberta.pooler.dense.weight', 'lm_head.dense.bias', 'lm_head.layer_norm.weight', 'lm_head.dense.weight', 'lm_head.bias', 'lm_head.decoder.weight']\n",
      "- This IS expected if you are initializing RobertaForSequenceClassification from the checkpoint of a model trained on another task or with another architecture (e.g. initializing a BertForSequenceClassification model from a BertForPreTraining model).\n",
      "- This IS NOT expected if you are initializing RobertaForSequenceClassification from the checkpoint of a model that you expect to be exactly identical (initializing a BertForSequenceClassification model from a BertForSequenceClassification model).\n",
      "Some weights of RobertaForSequenceClassification were not initialized from the model checkpoint at roberta-base and are newly initialized: ['classifier.dense.bias', 'classifier.out_proj.bias', 'classifier.dense.weight', 'classifier.out_proj.weight']\n",
      "You should probably TRAIN this model on a down-stream task to be able to use it for predictions and inference.\n",
      "/usr/local/lib/python3.9/dist-packages/transformers/optimization.py:391: FutureWarning: This implementation of AdamW is deprecated and will be removed in a future version. Use the PyTorch implementation torch.optim.AdamW instead, or set `no_deprecation_warning=True` to disable this warning\n",
      "  warnings.warn(\n"
     ]
    },
    {
     "data": {
      "text/html": [
       "\n",
       "    <div>\n",
       "      \n",
       "      <progress value='188' max='188' style='width:300px; height:20px; vertical-align: middle;'></progress>\n",
       "      [188/188 01:37, Epoch 2/2]\n",
       "    </div>\n",
       "    <table border=\"1\" class=\"dataframe\">\n",
       "  <thead>\n",
       " <tr style=\"text-align: left;\">\n",
       "      <th>Step</th>\n",
       "      <th>Training Loss</th>\n",
       "    </tr>\n",
       "  </thead>\n",
       "  <tbody>\n",
       "  </tbody>\n",
       "</table><p>"
      ],
      "text/plain": [
       "<IPython.core.display.HTML object>"
      ]
     },
     "metadata": {},
     "output_type": "display_data"
    },
    {
     "data": {
      "text/html": [],
      "text/plain": [
       "<IPython.core.display.HTML object>"
      ]
     },
     "metadata": {},
     "output_type": "display_data"
    }
   ],
   "source": [
    "for l, b, e, name in zip(learning_rate, batch_size, epochs, model_names):\n",
    "  training_args = TrainingArguments(\n",
    "    output_dir=name,\n",
    "    \n",
    "    learning_rate=l,\n",
    "    per_device_train_batch_size=b,\n",
    "    per_device_eval_batch_size=b,\n",
    "    num_train_epochs=e\n",
    "  )\n",
    "\n",
    "  model = RobertaForSequenceClassification.from_pretrained(\"roberta-base\", num_labels=10)\n",
    "\n",
    "  trainer = Trainer(\n",
    "    model=model, # The model you want to train\n",
    "    args=training_args, # The various training arguments set up above\n",
    "    train_dataset=train_dataset, # The data to use to update the weights\n",
    "    eval_dataset=valid_dataset, # The data to use\n",
    "    tokenizer=tokenizer # The tokenizer used on the data\n",
    "  )\n",
    "\n",
    "  trainer.train()\n",
    "  predictions, label_ids, metrics = trainer.predict(valid_dataset)\n",
    "  accu = accuracy_score(label_ids, predictions.argmax(axis=1))\n",
    "  precision, recall, f1, _ = precision_recall_fscore_support(label_ids, predictions.argmax(axis=1), average='macro', zero_division=0)\n",
    "  eval_map[name] = (accu, precision, recall, f1)"
   ]
  },
  {
   "cell_type": "code",
   "execution_count": 63,
   "id": "1ZsTQMLJt9j_",
   "metadata": {
    "colab": {
     "base_uri": "https://localhost:8080/",
     "height": 206
    },
    "id": "1ZsTQMLJt9j_",
    "outputId": "8ca64df7-4360-4a9e-c217-4a9d7913592b"
   },
   "outputs": [
    {
     "data": {
      "text/html": [
       "\n",
       "  <div id=\"df-7c67594c-9511-4396-a87a-e59aab48b0d8\">\n",
       "    <div class=\"colab-df-container\">\n",
       "      <div>\n",
       "<style scoped>\n",
       "    .dataframe tbody tr th:only-of-type {\n",
       "        vertical-align: middle;\n",
       "    }\n",
       "\n",
       "    .dataframe tbody tr th {\n",
       "        vertical-align: top;\n",
       "    }\n",
       "\n",
       "    .dataframe thead th {\n",
       "        text-align: right;\n",
       "    }\n",
       "</style>\n",
       "<table border=\"1\" class=\"dataframe\">\n",
       "  <thead>\n",
       "    <tr style=\"text-align: right;\">\n",
       "      <th></th>\n",
       "      <th>Accuracy</th>\n",
       "      <th>Precision</th>\n",
       "      <th>Recall</th>\n",
       "      <th>F1 score</th>\n",
       "    </tr>\n",
       "  </thead>\n",
       "  <tbody>\n",
       "    <tr>\n",
       "      <th>model_a</th>\n",
       "      <td>0.7950</td>\n",
       "      <td>0.782504</td>\n",
       "      <td>0.706523</td>\n",
       "      <td>0.729139</td>\n",
       "    </tr>\n",
       "    <tr>\n",
       "      <th>model_b</th>\n",
       "      <td>0.8075</td>\n",
       "      <td>0.794492</td>\n",
       "      <td>0.725050</td>\n",
       "      <td>0.736171</td>\n",
       "    </tr>\n",
       "    <tr>\n",
       "      <th>model_c_set_1</th>\n",
       "      <td>0.8340</td>\n",
       "      <td>0.802371</td>\n",
       "      <td>0.778218</td>\n",
       "      <td>0.787336</td>\n",
       "    </tr>\n",
       "    <tr>\n",
       "      <th>model_c_set_2</th>\n",
       "      <td>0.8400</td>\n",
       "      <td>0.815096</td>\n",
       "      <td>0.785915</td>\n",
       "      <td>0.795097</td>\n",
       "    </tr>\n",
       "    <tr>\n",
       "      <th>model_c_set_3</th>\n",
       "      <td>0.8190</td>\n",
       "      <td>0.795174</td>\n",
       "      <td>0.744640</td>\n",
       "      <td>0.755619</td>\n",
       "    </tr>\n",
       "  </tbody>\n",
       "</table>\n",
       "</div>\n",
       "      <button class=\"colab-df-convert\" onclick=\"convertToInteractive('df-7c67594c-9511-4396-a87a-e59aab48b0d8')\"\n",
       "              title=\"Convert this dataframe to an interactive table.\"\n",
       "              style=\"display:none;\">\n",
       "        \n",
       "  <svg xmlns=\"http://www.w3.org/2000/svg\" height=\"24px\"viewBox=\"0 0 24 24\"\n",
       "       width=\"24px\">\n",
       "    <path d=\"M0 0h24v24H0V0z\" fill=\"none\"/>\n",
       "    <path d=\"M18.56 5.44l.94 2.06.94-2.06 2.06-.94-2.06-.94-.94-2.06-.94 2.06-2.06.94zm-11 1L8.5 8.5l.94-2.06 2.06-.94-2.06-.94L8.5 2.5l-.94 2.06-2.06.94zm10 10l.94 2.06.94-2.06 2.06-.94-2.06-.94-.94-2.06-.94 2.06-2.06.94z\"/><path d=\"M17.41 7.96l-1.37-1.37c-.4-.4-.92-.59-1.43-.59-.52 0-1.04.2-1.43.59L10.3 9.45l-7.72 7.72c-.78.78-.78 2.05 0 2.83L4 21.41c.39.39.9.59 1.41.59.51 0 1.02-.2 1.41-.59l7.78-7.78 2.81-2.81c.8-.78.8-2.07 0-2.86zM5.41 20L4 18.59l7.72-7.72 1.47 1.35L5.41 20z\"/>\n",
       "  </svg>\n",
       "      </button>\n",
       "      \n",
       "  <style>\n",
       "    .colab-df-container {\n",
       "      display:flex;\n",
       "      flex-wrap:wrap;\n",
       "      gap: 12px;\n",
       "    }\n",
       "\n",
       "    .colab-df-convert {\n",
       "      background-color: #E8F0FE;\n",
       "      border: none;\n",
       "      border-radius: 50%;\n",
       "      cursor: pointer;\n",
       "      display: none;\n",
       "      fill: #1967D2;\n",
       "      height: 32px;\n",
       "      padding: 0 0 0 0;\n",
       "      width: 32px;\n",
       "    }\n",
       "\n",
       "    .colab-df-convert:hover {\n",
       "      background-color: #E2EBFA;\n",
       "      box-shadow: 0px 1px 2px rgba(60, 64, 67, 0.3), 0px 1px 3px 1px rgba(60, 64, 67, 0.15);\n",
       "      fill: #174EA6;\n",
       "    }\n",
       "\n",
       "    [theme=dark] .colab-df-convert {\n",
       "      background-color: #3B4455;\n",
       "      fill: #D2E3FC;\n",
       "    }\n",
       "\n",
       "    [theme=dark] .colab-df-convert:hover {\n",
       "      background-color: #434B5C;\n",
       "      box-shadow: 0px 1px 3px 1px rgba(0, 0, 0, 0.15);\n",
       "      filter: drop-shadow(0px 1px 2px rgba(0, 0, 0, 0.3));\n",
       "      fill: #FFFFFF;\n",
       "    }\n",
       "  </style>\n",
       "\n",
       "      <script>\n",
       "        const buttonEl =\n",
       "          document.querySelector('#df-7c67594c-9511-4396-a87a-e59aab48b0d8 button.colab-df-convert');\n",
       "        buttonEl.style.display =\n",
       "          google.colab.kernel.accessAllowed ? 'block' : 'none';\n",
       "\n",
       "        async function convertToInteractive(key) {\n",
       "          const element = document.querySelector('#df-7c67594c-9511-4396-a87a-e59aab48b0d8');\n",
       "          const dataTable =\n",
       "            await google.colab.kernel.invokeFunction('convertToInteractive',\n",
       "                                                     [key], {});\n",
       "          if (!dataTable) return;\n",
       "\n",
       "          const docLinkHtml = 'Like what you see? Visit the ' +\n",
       "            '<a target=\"_blank\" href=https://colab.research.google.com/notebooks/data_table.ipynb>data table notebook</a>'\n",
       "            + ' to learn more about interactive tables.';\n",
       "          element.innerHTML = '';\n",
       "          dataTable['output_type'] = 'display_data';\n",
       "          await google.colab.output.renderOutput(dataTable, element);\n",
       "          const docLink = document.createElement('div');\n",
       "          docLink.innerHTML = docLinkHtml;\n",
       "          element.appendChild(docLink);\n",
       "        }\n",
       "      </script>\n",
       "    </div>\n",
       "  </div>\n",
       "  "
      ],
      "text/plain": [
       "               Accuracy  Precision    Recall  F1 score\n",
       "model_a          0.7950   0.782504  0.706523  0.729139\n",
       "model_b          0.8075   0.794492  0.725050  0.736171\n",
       "model_c_set_1    0.8340   0.802371  0.778218  0.787336\n",
       "model_c_set_2    0.8400   0.815096  0.785915  0.795097\n",
       "model_c_set_3    0.8190   0.795174  0.744640  0.755619"
      ]
     },
     "execution_count": 63,
     "metadata": {},
     "output_type": "execute_result"
    }
   ],
   "source": [
    "table = pd.DataFrame.from_dict(eval_map, orient='index', columns=['Accuracy', 'Precision', 'Recall', 'F1 score'])\n",
    "table"
   ]
  },
  {
   "cell_type": "markdown",
   "id": "RFnLaqu8DL9W",
   "metadata": {
    "id": "RFnLaqu8DL9W"
   },
   "source": [
    "## Conclusions and Future Work\n",
    "Now that after all the training, we will select the best performed model from above, and evaluate it on the test set."
   ]
  },
  {
   "cell_type": "code",
   "execution_count": 64,
   "id": "PlVSflC2QCOQ",
   "metadata": {
    "id": "PlVSflC2QCOQ"
   },
   "outputs": [],
   "source": [
    "test_encoded = tokenizer(X_test.values.tolist(), padding=True, truncation=True)\n",
    "test_dataset = my_dataset(test_encoded, y_test.values.tolist())"
   ]
  },
  {
   "cell_type": "code",
   "execution_count": 66,
   "id": "W0miD2DODRWr",
   "metadata": {
    "colab": {
     "base_uri": "https://localhost:8080/",
     "height": 342
    },
    "id": "W0miD2DODRWr",
    "outputId": "eb387306-549a-441a-e779-45908c1c9747"
   },
   "outputs": [
    {
     "name": "stderr",
     "output_type": "stream",
     "text": [
      "Some weights of the model checkpoint at roberta-base were not used when initializing RobertaForSequenceClassification: ['roberta.pooler.dense.bias', 'lm_head.layer_norm.bias', 'roberta.pooler.dense.weight', 'lm_head.dense.bias', 'lm_head.layer_norm.weight', 'lm_head.dense.weight', 'lm_head.bias', 'lm_head.decoder.weight']\n",
      "- This IS expected if you are initializing RobertaForSequenceClassification from the checkpoint of a model trained on another task or with another architecture (e.g. initializing a BertForSequenceClassification model from a BertForPreTraining model).\n",
      "- This IS NOT expected if you are initializing RobertaForSequenceClassification from the checkpoint of a model that you expect to be exactly identical (initializing a BertForSequenceClassification model from a BertForSequenceClassification model).\n",
      "Some weights of RobertaForSequenceClassification were not initialized from the model checkpoint at roberta-base and are newly initialized: ['classifier.dense.bias', 'classifier.out_proj.bias', 'classifier.dense.weight', 'classifier.out_proj.weight']\n",
      "You should probably TRAIN this model on a down-stream task to be able to use it for predictions and inference.\n"
     ]
    },
    {
     "data": {
      "text/html": [
       "\n",
       "    <div>\n",
       "      \n",
       "      <progress value='2250' max='2250' style='width:300px; height:20px; vertical-align: middle;'></progress>\n",
       "      [2250/2250 03:47, Epoch 3/3]\n",
       "    </div>\n",
       "    <table border=\"1\" class=\"dataframe\">\n",
       "  <thead>\n",
       " <tr style=\"text-align: left;\">\n",
       "      <th>Step</th>\n",
       "      <th>Training Loss</th>\n",
       "    </tr>\n",
       "  </thead>\n",
       "  <tbody>\n",
       "    <tr>\n",
       "      <td>500</td>\n",
       "      <td>0.946500</td>\n",
       "    </tr>\n",
       "    <tr>\n",
       "      <td>1000</td>\n",
       "      <td>0.600000</td>\n",
       "    </tr>\n",
       "    <tr>\n",
       "      <td>1500</td>\n",
       "      <td>0.482200</td>\n",
       "    </tr>\n",
       "    <tr>\n",
       "      <td>2000</td>\n",
       "      <td>0.308200</td>\n",
       "    </tr>\n",
       "  </tbody>\n",
       "</table><p>"
      ],
      "text/plain": [
       "<IPython.core.display.HTML object>"
      ]
     },
     "metadata": {},
     "output_type": "display_data"
    },
    {
     "data": {
      "text/plain": [
       "TrainOutput(global_step=2250, training_loss=0.5528083767361112, metrics={'train_runtime': 227.3058, 'train_samples_per_second': 79.188, 'train_steps_per_second': 9.899, 'total_flos': 1988892428040000.0, 'train_loss': 0.5528083767361112, 'epoch': 3.0})"
      ]
     },
     "execution_count": 66,
     "metadata": {},
     "output_type": "execute_result"
    }
   ],
   "source": [
    "training_args = TrainingArguments(\n",
    "    output_dir=name,\n",
    "    learning_rate=3e-5,\n",
    "    per_device_train_batch_size=8,\n",
    "    per_device_eval_batch_size=8,\n",
    "    num_train_epochs=3\n",
    "  )\n",
    "\n",
    "model = RobertaForSequenceClassification.from_pretrained(\"roberta-base\", num_labels=10)\n",
    "\n",
    "trainer = Trainer(\n",
    "  model=model, # The model you want to train\n",
    "  args=training_args, # The various training arguments set up above\n",
    "  train_dataset=train_dataset, # The data to use to update the weights\n",
    "  eval_dataset=valid_dataset, # The data to use\n",
    "  tokenizer=tokenizer # The tokenizer used on the data\n",
    ")\n",
    "\n",
    "trainer.train()"
   ]
  },
  {
   "cell_type": "code",
   "execution_count": 67,
   "id": "aOOx9AdHQRWe",
   "metadata": {
    "colab": {
     "base_uri": "https://localhost:8080/",
     "height": 81
    },
    "id": "aOOx9AdHQRWe",
    "outputId": "38d1272e-f808-4c58-aa7d-790447435496"
   },
   "outputs": [
    {
     "data": {
      "text/html": [],
      "text/plain": [
       "<IPython.core.display.HTML object>"
      ]
     },
     "metadata": {},
     "output_type": "display_data"
    },
    {
     "data": {
      "text/html": [
       "\n",
       "  <div id=\"df-ca55edb4-6758-4b1c-87d2-5084dd8fef7a\">\n",
       "    <div class=\"colab-df-container\">\n",
       "      <div>\n",
       "<style scoped>\n",
       "    .dataframe tbody tr th:only-of-type {\n",
       "        vertical-align: middle;\n",
       "    }\n",
       "\n",
       "    .dataframe tbody tr th {\n",
       "        vertical-align: top;\n",
       "    }\n",
       "\n",
       "    .dataframe thead th {\n",
       "        text-align: right;\n",
       "    }\n",
       "</style>\n",
       "<table border=\"1\" class=\"dataframe\">\n",
       "  <thead>\n",
       "    <tr style=\"text-align: right;\">\n",
       "      <th></th>\n",
       "      <th>Accuracy</th>\n",
       "      <th>Precision</th>\n",
       "      <th>Recall</th>\n",
       "      <th>F1 score</th>\n",
       "    </tr>\n",
       "  </thead>\n",
       "  <tbody>\n",
       "    <tr>\n",
       "      <th>Best Model</th>\n",
       "      <td>0.845</td>\n",
       "      <td>0.805703</td>\n",
       "      <td>0.797987</td>\n",
       "      <td>0.795717</td>\n",
       "    </tr>\n",
       "  </tbody>\n",
       "</table>\n",
       "</div>\n",
       "      <button class=\"colab-df-convert\" onclick=\"convertToInteractive('df-ca55edb4-6758-4b1c-87d2-5084dd8fef7a')\"\n",
       "              title=\"Convert this dataframe to an interactive table.\"\n",
       "              style=\"display:none;\">\n",
       "        \n",
       "  <svg xmlns=\"http://www.w3.org/2000/svg\" height=\"24px\"viewBox=\"0 0 24 24\"\n",
       "       width=\"24px\">\n",
       "    <path d=\"M0 0h24v24H0V0z\" fill=\"none\"/>\n",
       "    <path d=\"M18.56 5.44l.94 2.06.94-2.06 2.06-.94-2.06-.94-.94-2.06-.94 2.06-2.06.94zm-11 1L8.5 8.5l.94-2.06 2.06-.94-2.06-.94L8.5 2.5l-.94 2.06-2.06.94zm10 10l.94 2.06.94-2.06 2.06-.94-2.06-.94-.94-2.06-.94 2.06-2.06.94z\"/><path d=\"M17.41 7.96l-1.37-1.37c-.4-.4-.92-.59-1.43-.59-.52 0-1.04.2-1.43.59L10.3 9.45l-7.72 7.72c-.78.78-.78 2.05 0 2.83L4 21.41c.39.39.9.59 1.41.59.51 0 1.02-.2 1.41-.59l7.78-7.78 2.81-2.81c.8-.78.8-2.07 0-2.86zM5.41 20L4 18.59l7.72-7.72 1.47 1.35L5.41 20z\"/>\n",
       "  </svg>\n",
       "      </button>\n",
       "      \n",
       "  <style>\n",
       "    .colab-df-container {\n",
       "      display:flex;\n",
       "      flex-wrap:wrap;\n",
       "      gap: 12px;\n",
       "    }\n",
       "\n",
       "    .colab-df-convert {\n",
       "      background-color: #E8F0FE;\n",
       "      border: none;\n",
       "      border-radius: 50%;\n",
       "      cursor: pointer;\n",
       "      display: none;\n",
       "      fill: #1967D2;\n",
       "      height: 32px;\n",
       "      padding: 0 0 0 0;\n",
       "      width: 32px;\n",
       "    }\n",
       "\n",
       "    .colab-df-convert:hover {\n",
       "      background-color: #E2EBFA;\n",
       "      box-shadow: 0px 1px 2px rgba(60, 64, 67, 0.3), 0px 1px 3px 1px rgba(60, 64, 67, 0.15);\n",
       "      fill: #174EA6;\n",
       "    }\n",
       "\n",
       "    [theme=dark] .colab-df-convert {\n",
       "      background-color: #3B4455;\n",
       "      fill: #D2E3FC;\n",
       "    }\n",
       "\n",
       "    [theme=dark] .colab-df-convert:hover {\n",
       "      background-color: #434B5C;\n",
       "      box-shadow: 0px 1px 3px 1px rgba(0, 0, 0, 0.15);\n",
       "      filter: drop-shadow(0px 1px 2px rgba(0, 0, 0, 0.3));\n",
       "      fill: #FFFFFF;\n",
       "    }\n",
       "  </style>\n",
       "\n",
       "      <script>\n",
       "        const buttonEl =\n",
       "          document.querySelector('#df-ca55edb4-6758-4b1c-87d2-5084dd8fef7a button.colab-df-convert');\n",
       "        buttonEl.style.display =\n",
       "          google.colab.kernel.accessAllowed ? 'block' : 'none';\n",
       "\n",
       "        async function convertToInteractive(key) {\n",
       "          const element = document.querySelector('#df-ca55edb4-6758-4b1c-87d2-5084dd8fef7a');\n",
       "          const dataTable =\n",
       "            await google.colab.kernel.invokeFunction('convertToInteractive',\n",
       "                                                     [key], {});\n",
       "          if (!dataTable) return;\n",
       "\n",
       "          const docLinkHtml = 'Like what you see? Visit the ' +\n",
       "            '<a target=\"_blank\" href=https://colab.research.google.com/notebooks/data_table.ipynb>data table notebook</a>'\n",
       "            + ' to learn more about interactive tables.';\n",
       "          element.innerHTML = '';\n",
       "          dataTable['output_type'] = 'display_data';\n",
       "          await google.colab.output.renderOutput(dataTable, element);\n",
       "          const docLink = document.createElement('div');\n",
       "          docLink.innerHTML = docLinkHtml;\n",
       "          element.appendChild(docLink);\n",
       "        }\n",
       "      </script>\n",
       "    </div>\n",
       "  </div>\n",
       "  "
      ],
      "text/plain": [
       "            Accuracy  Precision    Recall  F1 score\n",
       "Best Model     0.845   0.805703  0.797987  0.795717"
      ]
     },
     "execution_count": 67,
     "metadata": {},
     "output_type": "execute_result"
    }
   ],
   "source": [
    "predictions, label_ids, metrics = trainer.predict(test_dataset)\n",
    "accu = accuracy_score(label_ids, predictions.argmax(axis=1))\n",
    "precision, recall, f1, _ = precision_recall_fscore_support(label_ids, predictions.argmax(axis=1), average='macro', zero_division=0)\n",
    "final_map = {}\n",
    "final_map['Best Model'] = (accu, precision, recall, f1)\n",
    "\n",
    "table = pd.DataFrame.from_dict(final_map, orient='index', columns=['Accuracy', 'Precision', 'Recall', 'F1 score'])\n",
    "table"
   ]
  },
  {
   "cell_type": "code",
   "execution_count": 68,
   "id": "ngICeaVLQ0Fx",
   "metadata": {
    "colab": {
     "base_uri": "https://localhost:8080/",
     "height": 364
    },
    "id": "ngICeaVLQ0Fx",
    "outputId": "fdc49f7d-0f4e-488d-9bcd-6c797dfe5b08"
   },
   "outputs": [
    {
     "data": {
      "text/plain": [
       "<Axes: xlabel='Predicted', ylabel='Actual'>"
      ]
     },
     "execution_count": 68,
     "metadata": {},
     "output_type": "execute_result"
    },
    {
     "data": {
      "image/png": "[encoded data removed]",
      "text/plain": [
       "<Figure size 432x288 with 1 Axes>"
      ]
     },
     "metadata": {
      "needs_background": "light"
     },
     "output_type": "display_data"
    }
   ],
   "source": [
    "plotConfusionMatrix(y_test, predictions.argmax(axis=1))"
   ]
  },
  {
   "cell_type": "code",
   "execution_count": 69,
   "id": "vwZlkvd7RcYA",
   "metadata": {
    "colab": {
     "base_uri": "https://localhost:8080/",
     "height": 423
    },
    "id": "vwZlkvd7RcYA",
    "outputId": "41870d85-58d0-409f-920d-6c2699f5e1ee"
   },
   "outputs": [
    {
     "data": {
      "text/html": [
       "\n",
       "  <div id=\"df-a205c44d-8f83-4702-b074-b490ea23e575\">\n",
       "    <div class=\"colab-df-container\">\n",
       "      <div>\n",
       "<style scoped>\n",
       "    .dataframe tbody tr th:only-of-type {\n",
       "        vertical-align: middle;\n",
       "    }\n",
       "\n",
       "    .dataframe tbody tr th {\n",
       "        vertical-align: top;\n",
       "    }\n",
       "\n",
       "    .dataframe thead th {\n",
       "        text-align: right;\n",
       "    }\n",
       "</style>\n",
       "<table border=\"1\" class=\"dataframe\">\n",
       "  <thead>\n",
       "    <tr style=\"text-align: right;\">\n",
       "      <th></th>\n",
       "      <th>News Text</th>\n",
       "      <th>Truth Label</th>\n",
       "      <th>Prediction</th>\n",
       "      <th>Truth Category</th>\n",
       "      <th>Prediction Category</th>\n",
       "    </tr>\n",
       "  </thead>\n",
       "  <tbody>\n",
       "    <tr>\n",
       "      <th>5345</th>\n",
       "      <td>Professor Sugata Mitra On Teaching Spelling An...</td>\n",
       "      <td>5</td>\n",
       "      <td>9</td>\n",
       "      <td>PARENTING</td>\n",
       "      <td>BUSINESS</td>\n",
       "    </tr>\n",
       "    <tr>\n",
       "      <th>9609</th>\n",
       "      <td>HuffPost Gives Thanks: What We're Grateful For...</td>\n",
       "      <td>1</td>\n",
       "      <td>0</td>\n",
       "      <td>WELLNESS</td>\n",
       "      <td>POLITICS</td>\n",
       "    </tr>\n",
       "    <tr>\n",
       "      <th>9453</th>\n",
       "      <td>5 Signs Of A Baby-Friendly Hotel Your baby mig...</td>\n",
       "      <td>3</td>\n",
       "      <td>5</td>\n",
       "      <td>TRAVEL</td>\n",
       "      <td>PARENTING</td>\n",
       "    </tr>\n",
       "    <tr>\n",
       "      <th>7612</th>\n",
       "      <td>Director Elliot London: The Traumatic Teenage ...</td>\n",
       "      <td>7</td>\n",
       "      <td>2</td>\n",
       "      <td>QUEER VOICES</td>\n",
       "      <td>ENTERTAINMENT</td>\n",
       "    </tr>\n",
       "    <tr>\n",
       "      <th>5503</th>\n",
       "      <td>Workplace Rudeness Isn't Just Toxic. It's Cont...</td>\n",
       "      <td>6</td>\n",
       "      <td>9</td>\n",
       "      <td>HEALTHY LIVING</td>\n",
       "      <td>BUSINESS</td>\n",
       "    </tr>\n",
       "    <tr>\n",
       "      <th>...</th>\n",
       "      <td>...</td>\n",
       "      <td>...</td>\n",
       "      <td>...</td>\n",
       "      <td>...</td>\n",
       "      <td>...</td>\n",
       "    </tr>\n",
       "    <tr>\n",
       "      <th>9726</th>\n",
       "      <td>Best of Abu Dhabi: Learning the Games People P...</td>\n",
       "      <td>2</td>\n",
       "      <td>3</td>\n",
       "      <td>ENTERTAINMENT</td>\n",
       "      <td>TRAVEL</td>\n",
       "    </tr>\n",
       "    <tr>\n",
       "      <th>8251</th>\n",
       "      <td>Bourbon is Sacred in Kentucky Horse Country. H...</td>\n",
       "      <td>3</td>\n",
       "      <td>8</td>\n",
       "      <td>TRAVEL</td>\n",
       "      <td>FOOD &amp; DRINK</td>\n",
       "    </tr>\n",
       "    <tr>\n",
       "      <th>4235</th>\n",
       "      <td>Dick Cheney Does Not Endorse Donald Trump (Yet...</td>\n",
       "      <td>2</td>\n",
       "      <td>0</td>\n",
       "      <td>ENTERTAINMENT</td>\n",
       "      <td>POLITICS</td>\n",
       "    </tr>\n",
       "    <tr>\n",
       "      <th>9710</th>\n",
       "      <td>Smokeout Cigarette smoking remains the number ...</td>\n",
       "      <td>5</td>\n",
       "      <td>1</td>\n",
       "      <td>PARENTING</td>\n",
       "      <td>WELLNESS</td>\n",
       "    </tr>\n",
       "    <tr>\n",
       "      <th>1966</th>\n",
       "      <td>You Can't Get Chipotle For Lunch Today *stomac...</td>\n",
       "      <td>9</td>\n",
       "      <td>8</td>\n",
       "      <td>BUSINESS</td>\n",
       "      <td>FOOD &amp; DRINK</td>\n",
       "    </tr>\n",
       "  </tbody>\n",
       "</table>\n",
       "<p>310 rows × 5 columns</p>\n",
       "</div>\n",
       "      <button class=\"colab-df-convert\" onclick=\"convertToInteractive('df-a205c44d-8f83-4702-b074-b490ea23e575')\"\n",
       "              title=\"Convert this dataframe to an interactive table.\"\n",
       "              style=\"display:none;\">\n",
       "        \n",
       "  <svg xmlns=\"http://www.w3.org/2000/svg\" height=\"24px\"viewBox=\"0 0 24 24\"\n",
       "       width=\"24px\">\n",
       "    <path d=\"M0 0h24v24H0V0z\" fill=\"none\"/>\n",
       "    <path d=\"M18.56 5.44l.94 2.06.94-2.06 2.06-.94-2.06-.94-.94-2.06-.94 2.06-2.06.94zm-11 1L8.5 8.5l.94-2.06 2.06-.94-2.06-.94L8.5 2.5l-.94 2.06-2.06.94zm10 10l.94 2.06.94-2.06 2.06-.94-2.06-.94-.94-2.06-.94 2.06-2.06.94z\"/><path d=\"M17.41 7.96l-1.37-1.37c-.4-.4-.92-.59-1.43-.59-.52 0-1.04.2-1.43.59L10.3 9.45l-7.72 7.72c-.78.78-.78 2.05 0 2.83L4 21.41c.39.39.9.59 1.41.59.51 0 1.02-.2 1.41-.59l7.78-7.78 2.81-2.81c.8-.78.8-2.07 0-2.86zM5.41 20L4 18.59l7.72-7.72 1.47 1.35L5.41 20z\"/>\n",
       "  </svg>\n",
       "      </button>\n",
       "      \n",
       "  <style>\n",
       "    .colab-df-container {\n",
       "      display:flex;\n",
       "      flex-wrap:wrap;\n",
       "      gap: 12px;\n",
       "    }\n",
       "\n",
       "    .colab-df-convert {\n",
       "      background-color: #E8F0FE;\n",
       "      border: none;\n",
       "      border-radius: 50%;\n",
       "      cursor: pointer;\n",
       "      display: none;\n",
       "      fill: #1967D2;\n",
       "      height: 32px;\n",
       "      padding: 0 0 0 0;\n",
       "      width: 32px;\n",
       "    }\n",
       "\n",
       "    .colab-df-convert:hover {\n",
       "      background-color: #E2EBFA;\n",
       "      box-shadow: 0px 1px 2px rgba(60, 64, 67, 0.3), 0px 1px 3px 1px rgba(60, 64, 67, 0.15);\n",
       "      fill: #174EA6;\n",
       "    }\n",
       "\n",
       "    [theme=dark] .colab-df-convert {\n",
       "      background-color: #3B4455;\n",
       "      fill: #D2E3FC;\n",
       "    }\n",
       "\n",
       "    [theme=dark] .colab-df-convert:hover {\n",
       "      background-color: #434B5C;\n",
       "      box-shadow: 0px 1px 3px 1px rgba(0, 0, 0, 0.15);\n",
       "      filter: drop-shadow(0px 1px 2px rgba(0, 0, 0, 0.3));\n",
       "      fill: #FFFFFF;\n",
       "    }\n",
       "  </style>\n",
       "\n",
       "      <script>\n",
       "        const buttonEl =\n",
       "          document.querySelector('#df-a205c44d-8f83-4702-b074-b490ea23e575 button.colab-df-convert');\n",
       "        buttonEl.style.display =\n",
       "          google.colab.kernel.accessAllowed ? 'block' : 'none';\n",
       "\n",
       "        async function convertToInteractive(key) {\n",
       "          const element = document.querySelector('#df-a205c44d-8f83-4702-b074-b490ea23e575');\n",
       "          const dataTable =\n",
       "            await google.colab.kernel.invokeFunction('convertToInteractive',\n",
       "                                                     [key], {});\n",
       "          if (!dataTable) return;\n",
       "\n",
       "          const docLinkHtml = 'Like what you see? Visit the ' +\n",
       "            '<a target=\"_blank\" href=https://colab.research.google.com/notebooks/data_table.ipynb>data table notebook</a>'\n",
       "            + ' to learn more about interactive tables.';\n",
       "          element.innerHTML = '';\n",
       "          dataTable['output_type'] = 'display_data';\n",
       "          await google.colab.output.renderOutput(dataTable, element);\n",
       "          const docLink = document.createElement('div');\n",
       "          docLink.innerHTML = docLinkHtml;\n",
       "          element.appendChild(docLink);\n",
       "        }\n",
       "      </script>\n",
       "    </div>\n",
       "  </div>\n",
       "  "
      ],
      "text/plain": [
       "                                              News Text  Truth Label  \\\n",
       "5345  Professor Sugata Mitra On Teaching Spelling An...            5   \n",
       "9609  HuffPost Gives Thanks: What We're Grateful For...            1   \n",
       "9453  5 Signs Of A Baby-Friendly Hotel Your baby mig...            3   \n",
       "7612  Director Elliot London: The Traumatic Teenage ...            7   \n",
       "5503  Workplace Rudeness Isn't Just Toxic. It's Cont...            6   \n",
       "...                                                 ...          ...   \n",
       "9726  Best of Abu Dhabi: Learning the Games People P...            2   \n",
       "8251  Bourbon is Sacred in Kentucky Horse Country. H...            3   \n",
       "4235  Dick Cheney Does Not Endorse Donald Trump (Yet...            2   \n",
       "9710  Smokeout Cigarette smoking remains the number ...            5   \n",
       "1966  You Can't Get Chipotle For Lunch Today *stomac...            9   \n",
       "\n",
       "      Prediction  Truth Category Prediction Category  \n",
       "5345           9       PARENTING            BUSINESS  \n",
       "9609           0        WELLNESS            POLITICS  \n",
       "9453           5          TRAVEL           PARENTING  \n",
       "7612           2    QUEER VOICES       ENTERTAINMENT  \n",
       "5503           9  HEALTHY LIVING            BUSINESS  \n",
       "...          ...             ...                 ...  \n",
       "9726           3   ENTERTAINMENT              TRAVEL  \n",
       "8251           8          TRAVEL        FOOD & DRINK  \n",
       "4235           0   ENTERTAINMENT            POLITICS  \n",
       "9710           1       PARENTING            WELLNESS  \n",
       "1966           8        BUSINESS        FOOD & DRINK  \n",
       "\n",
       "[310 rows x 5 columns]"
      ]
     },
     "execution_count": 69,
     "metadata": {},
     "output_type": "execute_result"
    }
   ],
   "source": [
    "combined_df = pd.DataFrame({'News Text': X_test, 'Truth Label': y_test, 'Prediction': predictions.argmax(axis=1)})\n",
    "output_df = combined_df[combined_df['Truth Label'] != combined_df['Prediction']].copy()\n",
    "output_df['Truth Category'] = output_df.apply(lambda row: reversed_mapping[row['Truth Label']], axis=1)\n",
    "output_df['Prediction Category'] = output_df.apply(lambda row: reversed_mapping[row['Prediction']], axis=1)\n",
    "output_df"
   ]
  },
  {
   "cell_type": "code",
   "execution_count": null,
   "id": "LybERpUnUXAu",
   "metadata": {
    "id": "LybERpUnUXAu"
   },
   "outputs": [],
   "source": [
    "output_df.to_excel('output.xlsx', index=False, engine='openpyxl')"
   ]
  }
 ],
 "metadata": {
  "accelerator": "GPU",
  "colab": {
   "machine_shape": "hm",
   "provenance": []
  },
  "gpuClass": "premium",
  "kernelspec": {
   "display_name": "Python 3",
   "language": "python",
   "name": "python3"
  },
  "language_info": {
   "codemirror_mode": {
    "name": "ipython",
    "version": 3
   },
   "file_extension": ".py",
   "mimetype": "text/x-python",
   "name": "python",
   "nbconvert_exporter": "python",
   "pygments_lexer": "ipython3",
   "version": "3.8.8"
  },
  "widgets": {
   "application/vnd.jupyter.widget-state+json": {
    "00800b3c6eb545008255845fb1faac20": {
     "model_module": "@jupyter-widgets/base",
     "model_module_version": "1.2.0",
     "model_name": "LayoutModel",
     "state": {
      "_model_module": "@jupyter-widgets/base",
      "_model_module_version": "1.2.0",
      "_model_name": "LayoutModel",
      "_view_count": null,
      "_view_module": "@jupyter-widgets/base",
      "_view_module_version": "1.2.0",
      "_view_name": "LayoutView",
      "align_content": null,
      "align_items": null,
      "align_self": null,
      "border": null,
      "bottom": null,
      "display": null,
      "flex": null,
      "flex_flow": null,
      "grid_area": null,
      "grid_auto_columns": null,
      "grid_auto_flow": null,
      "grid_auto_rows": null,
      "grid_column": null,
      "grid_gap": null,
      "grid_row": null,
      "grid_template_areas": null,
      "grid_template_columns": null,
      "grid_template_rows": null,
      "height": null,
      "justify_content": null,
      "justify_items": null,
      "left": null,
      "margin": null,
      "max_height": null,
      "max_width": null,
      "min_height": null,
      "min_width": null,
      "object_fit": null,
      "object_position": null,
      "order": null,
      "overflow": null,
      "overflow_x": null,
      "overflow_y": null,
      "padding": null,
      "right": null,
      "top": null,
      "visibility": null,
      "width": null
     }
    },
    "05993e4e00da4ceda105d742d7b3f463": {
     "model_module": "@jupyter-widgets/controls",
     "model_module_version": "1.5.0",
     "model_name": "FloatProgressModel",
     "state": {
      "_dom_classes": [],
      "_model_module": "@jupyter-widgets/controls",
      "_model_module_version": "1.5.0",
      "_model_name": "FloatProgressModel",
      "_view_count": null,
      "_view_module": "@jupyter-widgets/controls",
      "_view_module_version": "1.5.0",
      "_view_name": "ProgressView",
      "bar_style": "success",
      "description": "",
      "description_tooltip": null,
      "layout": "IPY_MODEL_076600a03fc044a2ad05ec5723017cfc",
      "max": 456318,
      "min": 0,
      "orientation": "horizontal",
      "style": "IPY_MODEL_d9059833294141b1af60764aa78dfee2",
      "value": 456318
     }
    },
    "06d8be264bd741e0ad556e8aeceadf5e": {
     "model_module": "@jupyter-widgets/base",
     "model_module_version": "1.2.0",
     "model_name": "LayoutModel",
     "state": {
      "_model_module": "@jupyter-widgets/base",
      "_model_module_version": "1.2.0",
      "_model_name": "LayoutModel",
      "_view_count": null,
      "_view_module": "@jupyter-widgets/base",
      "_view_module_version": "1.2.0",
      "_view_name": "LayoutView",
      "align_content": null,
      "align_items": null,
      "align_self": null,
      "border": null,
      "bottom": null,
      "display": null,
      "flex": null,
      "flex_flow": null,
      "grid_area": null,
      "grid_auto_columns": null,
      "grid_auto_flow": null,
      "grid_auto_rows": null,
      "grid_column": null,
      "grid_gap": null,
      "grid_row": null,
      "grid_template_areas": null,
      "grid_template_columns": null,
      "grid_template_rows": null,
      "height": null,
      "justify_content": null,
      "justify_items": null,
      "left": null,
      "margin": null,
      "max_height": null,
      "max_width": null,
      "min_height": null,
      "min_width": null,
      "object_fit": null,
      "object_position": null,
      "order": null,
      "overflow": null,
      "overflow_x": null,
      "overflow_y": null,
      "padding": null,
      "right": null,
      "top": null,
      "visibility": null,
      "width": null
     }
    },
    "076600a03fc044a2ad05ec5723017cfc": {
     "model_module": "@jupyter-widgets/base",
     "model_module_version": "1.2.0",
     "model_name": "LayoutModel",
     "state": {
      "_model_module": "@jupyter-widgets/base",
      "_model_module_version": "1.2.0",
      "_model_name": "LayoutModel",
      "_view_count": null,
      "_view_module": "@jupyter-widgets/base",
      "_view_module_version": "1.2.0",
      "_view_name": "LayoutView",
      "align_content": null,
      "align_items": null,
      "align_self": null,
      "border": null,
      "bottom": null,
      "display": null,
      "flex": null,
      "flex_flow": null,
      "grid_area": null,
      "grid_auto_columns": null,
      "grid_auto_flow": null,
      "grid_auto_rows": null,
      "grid_column": null,
      "grid_gap": null,
      "grid_row": null,
      "grid_template_areas": null,
      "grid_template_columns": null,
      "grid_template_rows": null,
      "height": null,
      "justify_content": null,
      "justify_items": null,
      "left": null,
      "margin": null,
      "max_height": null,
      "max_width": null,
      "min_height": null,
      "min_width": null,
      "object_fit": null,
      "object_position": null,
      "order": null,
      "overflow": null,
      "overflow_x": null,
      "overflow_y": null,
      "padding": null,
      "right": null,
      "top": null,
      "visibility": null,
      "width": null
     }
    },
    "0a58c0a8241c435f8417668ada19aee4": {
     "model_module": "@jupyter-widgets/controls",
     "model_module_version": "1.5.0",
     "model_name": "FloatProgressModel",
     "state": {
      "_dom_classes": [],
      "_model_module": "@jupyter-widgets/controls",
      "_model_module_version": "1.5.0",
      "_model_name": "FloatProgressModel",
      "_view_count": null,
      "_view_module": "@jupyter-widgets/controls",
      "_view_module_version": "1.5.0",
      "_view_name": "ProgressView",
      "bar_style": "success",
      "description": "",
      "description_tooltip": null,
      "layout": "IPY_MODEL_ee64a5e0ea1441ae98ec5765fefd27b0",
      "max": 501200538,
      "min": 0,
      "orientation": "horizontal",
      "style": "IPY_MODEL_5d2650d04e7c4df981841b416a9fd646",
      "value": 501200538
     }
    },
    "104a459e4eeb440dbc93e410a72ca7f4": {
     "model_module": "@jupyter-widgets/controls",
     "model_module_version": "1.5.0",
     "model_name": "DescriptionStyleModel",
     "state": {
      "_model_module": "@jupyter-widgets/controls",
      "_model_module_version": "1.5.0",
      "_model_name": "DescriptionStyleModel",
      "_view_count": null,
      "_view_module": "@jupyter-widgets/base",
      "_view_module_version": "1.2.0",
      "_view_name": "StyleView",
      "description_width": ""
     }
    },
    "13e9a9acb087475fbcf8a07c29581c94": {
     "model_module": "@jupyter-widgets/controls",
     "model_module_version": "1.5.0",
     "model_name": "DescriptionStyleModel",
     "state": {
      "_model_module": "@jupyter-widgets/controls",
      "_model_module_version": "1.5.0",
      "_model_name": "DescriptionStyleModel",
      "_view_count": null,
      "_view_module": "@jupyter-widgets/base",
      "_view_module_version": "1.2.0",
      "_view_name": "StyleView",
      "description_width": ""
     }
    },
    "1d5c3238dd41452f8be330ec456de9de": {
     "model_module": "@jupyter-widgets/base",
     "model_module_version": "1.2.0",
     "model_name": "LayoutModel",
     "state": {
      "_model_module": "@jupyter-widgets/base",
      "_model_module_version": "1.2.0",
      "_model_name": "LayoutModel",
      "_view_count": null,
      "_view_module": "@jupyter-widgets/base",
      "_view_module_version": "1.2.0",
      "_view_name": "LayoutView",
      "align_content": null,
      "align_items": null,
      "align_self": null,
      "border": null,
      "bottom": null,
      "display": null,
      "flex": null,
      "flex_flow": null,
      "grid_area": null,
      "grid_auto_columns": null,
      "grid_auto_flow": null,
      "grid_auto_rows": null,
      "grid_column": null,
      "grid_gap": null,
      "grid_row": null,
      "grid_template_areas": null,
      "grid_template_columns": null,
      "grid_template_rows": null,
      "height": null,
      "justify_content": null,
      "justify_items": null,
      "left": null,
      "margin": null,
      "max_height": null,
      "max_width": null,
      "min_height": null,
      "min_width": null,
      "object_fit": null,
      "object_position": null,
      "order": null,
      "overflow": null,
      "overflow_x": null,
      "overflow_y": null,
      "padding": null,
      "right": null,
      "top": null,
      "visibility": null,
      "width": null
     }
    },
    "1fb53da764ce4b99b07ec07de93cfc1f": {
     "model_module": "@jupyter-widgets/controls",
     "model_module_version": "1.5.0",
     "model_name": "HBoxModel",
     "state": {
      "_dom_classes": [],
      "_model_module": "@jupyter-widgets/controls",
      "_model_module_version": "1.5.0",
      "_model_name": "HBoxModel",
      "_view_count": null,
      "_view_module": "@jupyter-widgets/controls",
      "_view_module_version": "1.5.0",
      "_view_name": "HBoxView",
      "box_style": "",
      "children": [
       "IPY_MODEL_d4436e29eb764b169383bdc3eb29e541",
       "IPY_MODEL_7e17d5bb66f241f49945589878cdadef",
       "IPY_MODEL_aa8abb1b7d5044e5a5b75cd7b0ec90ee"
      ],
      "layout": "IPY_MODEL_06d8be264bd741e0ad556e8aeceadf5e"
     }
    },
    "2755fcd81cbd42b5b8b21d87b10c7524": {
     "model_module": "@jupyter-widgets/controls",
     "model_module_version": "1.5.0",
     "model_name": "HTMLModel",
     "state": {
      "_dom_classes": [],
      "_model_module": "@jupyter-widgets/controls",
      "_model_module_version": "1.5.0",
      "_model_name": "HTMLModel",
      "_view_count": null,
      "_view_module": "@jupyter-widgets/controls",
      "_view_module_version": "1.5.0",
      "_view_name": "HTMLView",
      "description": "",
      "description_tooltip": null,
      "layout": "IPY_MODEL_00800b3c6eb545008255845fb1faac20",
      "placeholder": "​",
      "style": "IPY_MODEL_b07d97b7379a44b19ccec250ed45c1dd",
      "value": " 501M/501M [00:01&lt;00:00, 471MB/s]"
     }
    },
    "291262522e174b95b63c10d20ee3a0e4": {
     "model_module": "@jupyter-widgets/base",
     "model_module_version": "1.2.0",
     "model_name": "LayoutModel",
     "state": {
      "_model_module": "@jupyter-widgets/base",
      "_model_module_version": "1.2.0",
      "_model_name": "LayoutModel",
      "_view_count": null,
      "_view_module": "@jupyter-widgets/base",
      "_view_module_version": "1.2.0",
      "_view_name": "LayoutView",
      "align_content": null,
      "align_items": null,
      "align_self": null,
      "border": null,
      "bottom": null,
      "display": null,
      "flex": null,
      "flex_flow": null,
      "grid_area": null,
      "grid_auto_columns": null,
      "grid_auto_flow": null,
      "grid_auto_rows": null,
      "grid_column": null,
      "grid_gap": null,
      "grid_row": null,
      "grid_template_areas": null,
      "grid_template_columns": null,
      "grid_template_rows": null,
      "height": null,
      "justify_content": null,
      "justify_items": null,
      "left": null,
      "margin": null,
      "max_height": null,
      "max_width": null,
      "min_height": null,
      "min_width": null,
      "object_fit": null,
      "object_position": null,
      "order": null,
      "overflow": null,
      "overflow_x": null,
      "overflow_y": null,
      "padding": null,
      "right": null,
      "top": null,
      "visibility": null,
      "width": null
     }
    },
    "31ce8133b1f34d6cb9e2cbaf66041038": {
     "model_module": "@jupyter-widgets/controls",
     "model_module_version": "1.5.0",
     "model_name": "HTMLModel",
     "state": {
      "_dom_classes": [],
      "_model_module": "@jupyter-widgets/controls",
      "_model_module_version": "1.5.0",
      "_model_name": "HTMLModel",
      "_view_count": null,
      "_view_module": "@jupyter-widgets/controls",
      "_view_module_version": "1.5.0",
      "_view_name": "HTMLView",
      "description": "",
      "description_tooltip": null,
      "layout": "IPY_MODEL_7eac332e29134133b94665f44bd48550",
      "placeholder": "​",
      "style": "IPY_MODEL_dc3e325600f54d76a20057fe47593a59",
      "value": "Downloading (…)olve/main/merges.txt: 100%"
     }
    },
    "34c6165323f3422cb0bb573f9844d398": {
     "model_module": "@jupyter-widgets/controls",
     "model_module_version": "1.5.0",
     "model_name": "HTMLModel",
     "state": {
      "_dom_classes": [],
      "_model_module": "@jupyter-widgets/controls",
      "_model_module_version": "1.5.0",
      "_model_name": "HTMLModel",
      "_view_count": null,
      "_view_module": "@jupyter-widgets/controls",
      "_view_module_version": "1.5.0",
      "_view_name": "HTMLView",
      "description": "",
      "description_tooltip": null,
      "layout": "IPY_MODEL_bd4756e368c145a19decf55c14583c84",
      "placeholder": "​",
      "style": "IPY_MODEL_dc61361779884747b3ae8d35e126a4a1",
      "value": " 1.36M/1.36M [00:01&lt;00:00, 1.02MB/s]"
     }
    },
    "395c1eda57784a2c9657d40363e80174": {
     "model_module": "@jupyter-widgets/base",
     "model_module_version": "1.2.0",
     "model_name": "LayoutModel",
     "state": {
      "_model_module": "@jupyter-widgets/base",
      "_model_module_version": "1.2.0",
      "_model_name": "LayoutModel",
      "_view_count": null,
      "_view_module": "@jupyter-widgets/base",
      "_view_module_version": "1.2.0",
      "_view_name": "LayoutView",
      "align_content": null,
      "align_items": null,
      "align_self": null,
      "border": null,
      "bottom": null,
      "display": null,
      "flex": null,
      "flex_flow": null,
      "grid_area": null,
      "grid_auto_columns": null,
      "grid_auto_flow": null,
      "grid_auto_rows": null,
      "grid_column": null,
      "grid_gap": null,
      "grid_row": null,
      "grid_template_areas": null,
      "grid_template_columns": null,
      "grid_template_rows": null,
      "height": null,
      "justify_content": null,
      "justify_items": null,
      "left": null,
      "margin": null,
      "max_height": null,
      "max_width": null,
      "min_height": null,
      "min_width": null,
      "object_fit": null,
      "object_position": null,
      "order": null,
      "overflow": null,
      "overflow_x": null,
      "overflow_y": null,
      "padding": null,
      "right": null,
      "top": null,
      "visibility": null,
      "width": null
     }
    },
    "496acc31f26a4755837d6ce8bcd789c0": {
     "model_module": "@jupyter-widgets/base",
     "model_module_version": "1.2.0",
     "model_name": "LayoutModel",
     "state": {
      "_model_module": "@jupyter-widgets/base",
      "_model_module_version": "1.2.0",
      "_model_name": "LayoutModel",
      "_view_count": null,
      "_view_module": "@jupyter-widgets/base",
      "_view_module_version": "1.2.0",
      "_view_name": "LayoutView",
      "align_content": null,
      "align_items": null,
      "align_self": null,
      "border": null,
      "bottom": null,
      "display": null,
      "flex": null,
      "flex_flow": null,
      "grid_area": null,
      "grid_auto_columns": null,
      "grid_auto_flow": null,
      "grid_auto_rows": null,
      "grid_column": null,
      "grid_gap": null,
      "grid_row": null,
      "grid_template_areas": null,
      "grid_template_columns": null,
      "grid_template_rows": null,
      "height": null,
      "justify_content": null,
      "justify_items": null,
      "left": null,
      "margin": null,
      "max_height": null,
      "max_width": null,
      "min_height": null,
      "min_width": null,
      "object_fit": null,
      "object_position": null,
      "order": null,
      "overflow": null,
      "overflow_x": null,
      "overflow_y": null,
      "padding": null,
      "right": null,
      "top": null,
      "visibility": null,
      "width": null
     }
    },
    "4fdedd6e29b643de882048f6b41c3b97": {
     "model_module": "@jupyter-widgets/base",
     "model_module_version": "1.2.0",
     "model_name": "LayoutModel",
     "state": {
      "_model_module": "@jupyter-widgets/base",
      "_model_module_version": "1.2.0",
      "_model_name": "LayoutModel",
      "_view_count": null,
      "_view_module": "@jupyter-widgets/base",
      "_view_module_version": "1.2.0",
      "_view_name": "LayoutView",
      "align_content": null,
      "align_items": null,
      "align_self": null,
      "border": null,
      "bottom": null,
      "display": null,
      "flex": null,
      "flex_flow": null,
      "grid_area": null,
      "grid_auto_columns": null,
      "grid_auto_flow": null,
      "grid_auto_rows": null,
      "grid_column": null,
      "grid_gap": null,
      "grid_row": null,
      "grid_template_areas": null,
      "grid_template_columns": null,
      "grid_template_rows": null,
      "height": null,
      "justify_content": null,
      "justify_items": null,
      "left": null,
      "margin": null,
      "max_height": null,
      "max_width": null,
      "min_height": null,
      "min_width": null,
      "object_fit": null,
      "object_position": null,
      "order": null,
      "overflow": null,
      "overflow_x": null,
      "overflow_y": null,
      "padding": null,
      "right": null,
      "top": null,
      "visibility": null,
      "width": null
     }
    },
    "5b2108dc979446128b5fafa1f2e92ac6": {
     "model_module": "@jupyter-widgets/base",
     "model_module_version": "1.2.0",
     "model_name": "LayoutModel",
     "state": {
      "_model_module": "@jupyter-widgets/base",
      "_model_module_version": "1.2.0",
      "_model_name": "LayoutModel",
      "_view_count": null,
      "_view_module": "@jupyter-widgets/base",
      "_view_module_version": "1.2.0",
      "_view_name": "LayoutView",
      "align_content": null,
      "align_items": null,
      "align_self": null,
      "border": null,
      "bottom": null,
      "display": null,
      "flex": null,
      "flex_flow": null,
      "grid_area": null,
      "grid_auto_columns": null,
      "grid_auto_flow": null,
      "grid_auto_rows": null,
      "grid_column": null,
      "grid_gap": null,
      "grid_row": null,
      "grid_template_areas": null,
      "grid_template_columns": null,
      "grid_template_rows": null,
      "height": null,
      "justify_content": null,
      "justify_items": null,
      "left": null,
      "margin": null,
      "max_height": null,
      "max_width": null,
      "min_height": null,
      "min_width": null,
      "object_fit": null,
      "object_position": null,
      "order": null,
      "overflow": null,
      "overflow_x": null,
      "overflow_y": null,
      "padding": null,
      "right": null,
      "top": null,
      "visibility": null,
      "width": null
     }
    },
    "5d2650d04e7c4df981841b416a9fd646": {
     "model_module": "@jupyter-widgets/controls",
     "model_module_version": "1.5.0",
     "model_name": "ProgressStyleModel",
     "state": {
      "_model_module": "@jupyter-widgets/controls",
      "_model_module_version": "1.5.0",
      "_model_name": "ProgressStyleModel",
      "_view_count": null,
      "_view_module": "@jupyter-widgets/base",
      "_view_module_version": "1.2.0",
      "_view_name": "StyleView",
      "bar_color": null,
      "description_width": ""
     }
    },
    "63a7293e0b454d9a86043c1b8bf364c5": {
     "model_module": "@jupyter-widgets/base",
     "model_module_version": "1.2.0",
     "model_name": "LayoutModel",
     "state": {
      "_model_module": "@jupyter-widgets/base",
      "_model_module_version": "1.2.0",
      "_model_name": "LayoutModel",
      "_view_count": null,
      "_view_module": "@jupyter-widgets/base",
      "_view_module_version": "1.2.0",
      "_view_name": "LayoutView",
      "align_content": null,
      "align_items": null,
      "align_self": null,
      "border": null,
      "bottom": null,
      "display": null,
      "flex": null,
      "flex_flow": null,
      "grid_area": null,
      "grid_auto_columns": null,
      "grid_auto_flow": null,
      "grid_auto_rows": null,
      "grid_column": null,
      "grid_gap": null,
      "grid_row": null,
      "grid_template_areas": null,
      "grid_template_columns": null,
      "grid_template_rows": null,
      "height": null,
      "justify_content": null,
      "justify_items": null,
      "left": null,
      "margin": null,
      "max_height": null,
      "max_width": null,
      "min_height": null,
      "min_width": null,
      "object_fit": null,
      "object_position": null,
      "order": null,
      "overflow": null,
      "overflow_x": null,
      "overflow_y": null,
      "padding": null,
      "right": null,
      "top": null,
      "visibility": null,
      "width": null
     }
    },
    "6b809675ea5244a3b392dad6fbb9e6eb": {
     "model_module": "@jupyter-widgets/controls",
     "model_module_version": "1.5.0",
     "model_name": "HTMLModel",
     "state": {
      "_dom_classes": [],
      "_model_module": "@jupyter-widgets/controls",
      "_model_module_version": "1.5.0",
      "_model_name": "HTMLModel",
      "_view_count": null,
      "_view_module": "@jupyter-widgets/controls",
      "_view_module_version": "1.5.0",
      "_view_name": "HTMLView",
      "description": "",
      "description_tooltip": null,
      "layout": "IPY_MODEL_291262522e174b95b63c10d20ee3a0e4",
      "placeholder": "​",
      "style": "IPY_MODEL_e3d11146f66e47c2a572b8de8f5e5239",
      "value": " 481/481 [00:00&lt;00:00, 32.3kB/s]"
     }
    },
    "748f0166f693442bbe947a3e07ae8a1f": {
     "model_module": "@jupyter-widgets/controls",
     "model_module_version": "1.5.0",
     "model_name": "HTMLModel",
     "state": {
      "_dom_classes": [],
      "_model_module": "@jupyter-widgets/controls",
      "_model_module_version": "1.5.0",
      "_model_name": "HTMLModel",
      "_view_count": null,
      "_view_module": "@jupyter-widgets/controls",
      "_view_module_version": "1.5.0",
      "_view_name": "HTMLView",
      "description": "",
      "description_tooltip": null,
      "layout": "IPY_MODEL_5b2108dc979446128b5fafa1f2e92ac6",
      "placeholder": "​",
      "style": "IPY_MODEL_e6d62400f70a4096996031dc916b6408",
      "value": " 456k/456k [00:00&lt;00:00, 515kB/s]"
     }
    },
    "7cdfa678da094d8e9a413b3e4a34167b": {
     "model_module": "@jupyter-widgets/controls",
     "model_module_version": "1.5.0",
     "model_name": "ProgressStyleModel",
     "state": {
      "_model_module": "@jupyter-widgets/controls",
      "_model_module_version": "1.5.0",
      "_model_name": "ProgressStyleModel",
      "_view_count": null,
      "_view_module": "@jupyter-widgets/base",
      "_view_module_version": "1.2.0",
      "_view_name": "StyleView",
      "bar_color": null,
      "description_width": ""
     }
    },
    "7dff070aa4094d9480e2526bc305532f": {
     "model_module": "@jupyter-widgets/base",
     "model_module_version": "1.2.0",
     "model_name": "LayoutModel",
     "state": {
      "_model_module": "@jupyter-widgets/base",
      "_model_module_version": "1.2.0",
      "_model_name": "LayoutModel",
      "_view_count": null,
      "_view_module": "@jupyter-widgets/base",
      "_view_module_version": "1.2.0",
      "_view_name": "LayoutView",
      "align_content": null,
      "align_items": null,
      "align_self": null,
      "border": null,
      "bottom": null,
      "display": null,
      "flex": null,
      "flex_flow": null,
      "grid_area": null,
      "grid_auto_columns": null,
      "grid_auto_flow": null,
      "grid_auto_rows": null,
      "grid_column": null,
      "grid_gap": null,
      "grid_row": null,
      "grid_template_areas": null,
      "grid_template_columns": null,
      "grid_template_rows": null,
      "height": null,
      "justify_content": null,
      "justify_items": null,
      "left": null,
      "margin": null,
      "max_height": null,
      "max_width": null,
      "min_height": null,
      "min_width": null,
      "object_fit": null,
      "object_position": null,
      "order": null,
      "overflow": null,
      "overflow_x": null,
      "overflow_y": null,
      "padding": null,
      "right": null,
      "top": null,
      "visibility": null,
      "width": null
     }
    },
    "7e17d5bb66f241f49945589878cdadef": {
     "model_module": "@jupyter-widgets/controls",
     "model_module_version": "1.5.0",
     "model_name": "FloatProgressModel",
     "state": {
      "_dom_classes": [],
      "_model_module": "@jupyter-widgets/controls",
      "_model_module_version": "1.5.0",
      "_model_name": "FloatProgressModel",
      "_view_count": null,
      "_view_module": "@jupyter-widgets/controls",
      "_view_module_version": "1.5.0",
      "_view_name": "ProgressView",
      "bar_style": "success",
      "description": "",
      "description_tooltip": null,
      "layout": "IPY_MODEL_395c1eda57784a2c9657d40363e80174",
      "max": 898823,
      "min": 0,
      "orientation": "horizontal",
      "style": "IPY_MODEL_814c9d8a438d461594f28ff9fe4019ed",
      "value": 898823
     }
    },
    "7eac332e29134133b94665f44bd48550": {
     "model_module": "@jupyter-widgets/base",
     "model_module_version": "1.2.0",
     "model_name": "LayoutModel",
     "state": {
      "_model_module": "@jupyter-widgets/base",
      "_model_module_version": "1.2.0",
      "_model_name": "LayoutModel",
      "_view_count": null,
      "_view_module": "@jupyter-widgets/base",
      "_view_module_version": "1.2.0",
      "_view_name": "LayoutView",
      "align_content": null,
      "align_items": null,
      "align_self": null,
      "border": null,
      "bottom": null,
      "display": null,
      "flex": null,
      "flex_flow": null,
      "grid_area": null,
      "grid_auto_columns": null,
      "grid_auto_flow": null,
      "grid_auto_rows": null,
      "grid_column": null,
      "grid_gap": null,
      "grid_row": null,
      "grid_template_areas": null,
      "grid_template_columns": null,
      "grid_template_rows": null,
      "height": null,
      "justify_content": null,
      "justify_items": null,
      "left": null,
      "margin": null,
      "max_height": null,
      "max_width": null,
      "min_height": null,
      "min_width": null,
      "object_fit": null,
      "object_position": null,
      "order": null,
      "overflow": null,
      "overflow_x": null,
      "overflow_y": null,
      "padding": null,
      "right": null,
      "top": null,
      "visibility": null,
      "width": null
     }
    },
    "814c9d8a438d461594f28ff9fe4019ed": {
     "model_module": "@jupyter-widgets/controls",
     "model_module_version": "1.5.0",
     "model_name": "ProgressStyleModel",
     "state": {
      "_model_module": "@jupyter-widgets/controls",
      "_model_module_version": "1.5.0",
      "_model_name": "ProgressStyleModel",
      "_view_count": null,
      "_view_module": "@jupyter-widgets/base",
      "_view_module_version": "1.2.0",
      "_view_name": "StyleView",
      "bar_color": null,
      "description_width": ""
     }
    },
    "8309a558934a4368ba148b512386b640": {
     "model_module": "@jupyter-widgets/controls",
     "model_module_version": "1.5.0",
     "model_name": "HTMLModel",
     "state": {
      "_dom_classes": [],
      "_model_module": "@jupyter-widgets/controls",
      "_model_module_version": "1.5.0",
      "_model_name": "HTMLModel",
      "_view_count": null,
      "_view_module": "@jupyter-widgets/controls",
      "_view_module_version": "1.5.0",
      "_view_name": "HTMLView",
      "description": "",
      "description_tooltip": null,
      "layout": "IPY_MODEL_7dff070aa4094d9480e2526bc305532f",
      "placeholder": "​",
      "style": "IPY_MODEL_104a459e4eeb440dbc93e410a72ca7f4",
      "value": "Downloading pytorch_model.bin: 100%"
     }
    },
    "8658de74163b4976a8dff8ea5077a5b1": {
     "model_module": "@jupyter-widgets/controls",
     "model_module_version": "1.5.0",
     "model_name": "HBoxModel",
     "state": {
      "_dom_classes": [],
      "_model_module": "@jupyter-widgets/controls",
      "_model_module_version": "1.5.0",
      "_model_name": "HBoxModel",
      "_view_count": null,
      "_view_module": "@jupyter-widgets/controls",
      "_view_module_version": "1.5.0",
      "_view_name": "HBoxView",
      "box_style": "",
      "children": [
       "IPY_MODEL_d664dd7bcd2b418395e5b722aff46eb7",
       "IPY_MODEL_e96e2536e749419db2bf2b22cb68d4bd",
       "IPY_MODEL_34c6165323f3422cb0bb573f9844d398"
      ],
      "layout": "IPY_MODEL_4fdedd6e29b643de882048f6b41c3b97"
     }
    },
    "93ab37d75c5143ce9efaba4c32490b88": {
     "model_module": "@jupyter-widgets/base",
     "model_module_version": "1.2.0",
     "model_name": "LayoutModel",
     "state": {
      "_model_module": "@jupyter-widgets/base",
      "_model_module_version": "1.2.0",
      "_model_name": "LayoutModel",
      "_view_count": null,
      "_view_module": "@jupyter-widgets/base",
      "_view_module_version": "1.2.0",
      "_view_name": "LayoutView",
      "align_content": null,
      "align_items": null,
      "align_self": null,
      "border": null,
      "bottom": null,
      "display": null,
      "flex": null,
      "flex_flow": null,
      "grid_area": null,
      "grid_auto_columns": null,
      "grid_auto_flow": null,
      "grid_auto_rows": null,
      "grid_column": null,
      "grid_gap": null,
      "grid_row": null,
      "grid_template_areas": null,
      "grid_template_columns": null,
      "grid_template_rows": null,
      "height": null,
      "justify_content": null,
      "justify_items": null,
      "left": null,
      "margin": null,
      "max_height": null,
      "max_width": null,
      "min_height": null,
      "min_width": null,
      "object_fit": null,
      "object_position": null,
      "order": null,
      "overflow": null,
      "overflow_x": null,
      "overflow_y": null,
      "padding": null,
      "right": null,
      "top": null,
      "visibility": null,
      "width": null
     }
    },
    "9b1b2913d51845ed8b9135b90668d15a": {
     "model_module": "@jupyter-widgets/controls",
     "model_module_version": "1.5.0",
     "model_name": "HBoxModel",
     "state": {
      "_dom_classes": [],
      "_model_module": "@jupyter-widgets/controls",
      "_model_module_version": "1.5.0",
      "_model_name": "HBoxModel",
      "_view_count": null,
      "_view_module": "@jupyter-widgets/controls",
      "_view_module_version": "1.5.0",
      "_view_name": "HBoxView",
      "box_style": "",
      "children": [
       "IPY_MODEL_31ce8133b1f34d6cb9e2cbaf66041038",
       "IPY_MODEL_05993e4e00da4ceda105d742d7b3f463",
       "IPY_MODEL_748f0166f693442bbe947a3e07ae8a1f"
      ],
      "layout": "IPY_MODEL_93ab37d75c5143ce9efaba4c32490b88"
     }
    },
    "9ea121f510444615bb13b16de46c290e": {
     "model_module": "@jupyter-widgets/controls",
     "model_module_version": "1.5.0",
     "model_name": "DescriptionStyleModel",
     "state": {
      "_model_module": "@jupyter-widgets/controls",
      "_model_module_version": "1.5.0",
      "_model_name": "DescriptionStyleModel",
      "_view_count": null,
      "_view_module": "@jupyter-widgets/base",
      "_view_module_version": "1.2.0",
      "_view_name": "StyleView",
      "description_width": ""
     }
    },
    "9ef8a7c3ac1640be80813324baccbd22": {
     "model_module": "@jupyter-widgets/controls",
     "model_module_version": "1.5.0",
     "model_name": "HTMLModel",
     "state": {
      "_dom_classes": [],
      "_model_module": "@jupyter-widgets/controls",
      "_model_module_version": "1.5.0",
      "_model_name": "HTMLModel",
      "_view_count": null,
      "_view_module": "@jupyter-widgets/controls",
      "_view_module_version": "1.5.0",
      "_view_name": "HTMLView",
      "description": "",
      "description_tooltip": null,
      "layout": "IPY_MODEL_63a7293e0b454d9a86043c1b8bf364c5",
      "placeholder": "​",
      "style": "IPY_MODEL_13e9a9acb087475fbcf8a07c29581c94",
      "value": "Downloading (…)lve/main/config.json: 100%"
     }
    },
    "a0fba056a7994d39b8822443f8a55e4d": {
     "model_module": "@jupyter-widgets/controls",
     "model_module_version": "1.5.0",
     "model_name": "DescriptionStyleModel",
     "state": {
      "_model_module": "@jupyter-widgets/controls",
      "_model_module_version": "1.5.0",
      "_model_name": "DescriptionStyleModel",
      "_view_count": null,
      "_view_module": "@jupyter-widgets/base",
      "_view_module_version": "1.2.0",
      "_view_name": "StyleView",
      "description_width": ""
     }
    },
    "a6d191affb414dd78ef6e9c9897e5763": {
     "model_module": "@jupyter-widgets/controls",
     "model_module_version": "1.5.0",
     "model_name": "ProgressStyleModel",
     "state": {
      "_model_module": "@jupyter-widgets/controls",
      "_model_module_version": "1.5.0",
      "_model_name": "ProgressStyleModel",
      "_view_count": null,
      "_view_module": "@jupyter-widgets/base",
      "_view_module_version": "1.2.0",
      "_view_name": "StyleView",
      "bar_color": null,
      "description_width": ""
     }
    },
    "a871fbb769904370a535d9b732c6a3e7": {
     "model_module": "@jupyter-widgets/base",
     "model_module_version": "1.2.0",
     "model_name": "LayoutModel",
     "state": {
      "_model_module": "@jupyter-widgets/base",
      "_model_module_version": "1.2.0",
      "_model_name": "LayoutModel",
      "_view_count": null,
      "_view_module": "@jupyter-widgets/base",
      "_view_module_version": "1.2.0",
      "_view_name": "LayoutView",
      "align_content": null,
      "align_items": null,
      "align_self": null,
      "border": null,
      "bottom": null,
      "display": null,
      "flex": null,
      "flex_flow": null,
      "grid_area": null,
      "grid_auto_columns": null,
      "grid_auto_flow": null,
      "grid_auto_rows": null,
      "grid_column": null,
      "grid_gap": null,
      "grid_row": null,
      "grid_template_areas": null,
      "grid_template_columns": null,
      "grid_template_rows": null,
      "height": null,
      "justify_content": null,
      "justify_items": null,
      "left": null,
      "margin": null,
      "max_height": null,
      "max_width": null,
      "min_height": null,
      "min_width": null,
      "object_fit": null,
      "object_position": null,
      "order": null,
      "overflow": null,
      "overflow_x": null,
      "overflow_y": null,
      "padding": null,
      "right": null,
      "top": null,
      "visibility": null,
      "width": null
     }
    },
    "a8d81084e2f04dabab5815f01fec73be": {
     "model_module": "@jupyter-widgets/controls",
     "model_module_version": "1.5.0",
     "model_name": "HBoxModel",
     "state": {
      "_dom_classes": [],
      "_model_module": "@jupyter-widgets/controls",
      "_model_module_version": "1.5.0",
      "_model_name": "HBoxModel",
      "_view_count": null,
      "_view_module": "@jupyter-widgets/controls",
      "_view_module_version": "1.5.0",
      "_view_name": "HBoxView",
      "box_style": "",
      "children": [
       "IPY_MODEL_9ef8a7c3ac1640be80813324baccbd22",
       "IPY_MODEL_eb33f052ed0c49ca95a0021ded4b0cc9",
       "IPY_MODEL_6b809675ea5244a3b392dad6fbb9e6eb"
      ],
      "layout": "IPY_MODEL_a871fbb769904370a535d9b732c6a3e7"
     }
    },
    "aa8abb1b7d5044e5a5b75cd7b0ec90ee": {
     "model_module": "@jupyter-widgets/controls",
     "model_module_version": "1.5.0",
     "model_name": "HTMLModel",
     "state": {
      "_dom_classes": [],
      "_model_module": "@jupyter-widgets/controls",
      "_model_module_version": "1.5.0",
      "_model_name": "HTMLModel",
      "_view_count": null,
      "_view_module": "@jupyter-widgets/controls",
      "_view_module_version": "1.5.0",
      "_view_name": "HTMLView",
      "description": "",
      "description_tooltip": null,
      "layout": "IPY_MODEL_1d5c3238dd41452f8be330ec456de9de",
      "placeholder": "​",
      "style": "IPY_MODEL_9ea121f510444615bb13b16de46c290e",
      "value": " 899k/899k [00:01&lt;00:00, 815kB/s]"
     }
    },
    "b06700654ab84fe2b87dcdbf9b0777ee": {
     "model_module": "@jupyter-widgets/controls",
     "model_module_version": "1.5.0",
     "model_name": "DescriptionStyleModel",
     "state": {
      "_model_module": "@jupyter-widgets/controls",
      "_model_module_version": "1.5.0",
      "_model_name": "DescriptionStyleModel",
      "_view_count": null,
      "_view_module": "@jupyter-widgets/base",
      "_view_module_version": "1.2.0",
      "_view_name": "StyleView",
      "description_width": ""
     }
    },
    "b07d97b7379a44b19ccec250ed45c1dd": {
     "model_module": "@jupyter-widgets/controls",
     "model_module_version": "1.5.0",
     "model_name": "DescriptionStyleModel",
     "state": {
      "_model_module": "@jupyter-widgets/controls",
      "_model_module_version": "1.5.0",
      "_model_name": "DescriptionStyleModel",
      "_view_count": null,
      "_view_module": "@jupyter-widgets/base",
      "_view_module_version": "1.2.0",
      "_view_name": "StyleView",
      "description_width": ""
     }
    },
    "bd4756e368c145a19decf55c14583c84": {
     "model_module": "@jupyter-widgets/base",
     "model_module_version": "1.2.0",
     "model_name": "LayoutModel",
     "state": {
      "_model_module": "@jupyter-widgets/base",
      "_model_module_version": "1.2.0",
      "_model_name": "LayoutModel",
      "_view_count": null,
      "_view_module": "@jupyter-widgets/base",
      "_view_module_version": "1.2.0",
      "_view_name": "LayoutView",
      "align_content": null,
      "align_items": null,
      "align_self": null,
      "border": null,
      "bottom": null,
      "display": null,
      "flex": null,
      "flex_flow": null,
      "grid_area": null,
      "grid_auto_columns": null,
      "grid_auto_flow": null,
      "grid_auto_rows": null,
      "grid_column": null,
      "grid_gap": null,
      "grid_row": null,
      "grid_template_areas": null,
      "grid_template_columns": null,
      "grid_template_rows": null,
      "height": null,
      "justify_content": null,
      "justify_items": null,
      "left": null,
      "margin": null,
      "max_height": null,
      "max_width": null,
      "min_height": null,
      "min_width": null,
      "object_fit": null,
      "object_position": null,
      "order": null,
      "overflow": null,
      "overflow_x": null,
      "overflow_y": null,
      "padding": null,
      "right": null,
      "top": null,
      "visibility": null,
      "width": null
     }
    },
    "d4208fb1409947c7b72555e4d0c3fe0c": {
     "model_module": "@jupyter-widgets/base",
     "model_module_version": "1.2.0",
     "model_name": "LayoutModel",
     "state": {
      "_model_module": "@jupyter-widgets/base",
      "_model_module_version": "1.2.0",
      "_model_name": "LayoutModel",
      "_view_count": null,
      "_view_module": "@jupyter-widgets/base",
      "_view_module_version": "1.2.0",
      "_view_name": "LayoutView",
      "align_content": null,
      "align_items": null,
      "align_self": null,
      "border": null,
      "bottom": null,
      "display": null,
      "flex": null,
      "flex_flow": null,
      "grid_area": null,
      "grid_auto_columns": null,
      "grid_auto_flow": null,
      "grid_auto_rows": null,
      "grid_column": null,
      "grid_gap": null,
      "grid_row": null,
      "grid_template_areas": null,
      "grid_template_columns": null,
      "grid_template_rows": null,
      "height": null,
      "justify_content": null,
      "justify_items": null,
      "left": null,
      "margin": null,
      "max_height": null,
      "max_width": null,
      "min_height": null,
      "min_width": null,
      "object_fit": null,
      "object_position": null,
      "order": null,
      "overflow": null,
      "overflow_x": null,
      "overflow_y": null,
      "padding": null,
      "right": null,
      "top": null,
      "visibility": null,
      "width": null
     }
    },
    "d4436e29eb764b169383bdc3eb29e541": {
     "model_module": "@jupyter-widgets/controls",
     "model_module_version": "1.5.0",
     "model_name": "HTMLModel",
     "state": {
      "_dom_classes": [],
      "_model_module": "@jupyter-widgets/controls",
      "_model_module_version": "1.5.0",
      "_model_name": "HTMLModel",
      "_view_count": null,
      "_view_module": "@jupyter-widgets/controls",
      "_view_module_version": "1.5.0",
      "_view_name": "HTMLView",
      "description": "",
      "description_tooltip": null,
      "layout": "IPY_MODEL_e14557da4bde48c28b9a5426500b2b59",
      "placeholder": "​",
      "style": "IPY_MODEL_b06700654ab84fe2b87dcdbf9b0777ee",
      "value": "Downloading (…)olve/main/vocab.json: 100%"
     }
    },
    "d664dd7bcd2b418395e5b722aff46eb7": {
     "model_module": "@jupyter-widgets/controls",
     "model_module_version": "1.5.0",
     "model_name": "HTMLModel",
     "state": {
      "_dom_classes": [],
      "_model_module": "@jupyter-widgets/controls",
      "_model_module_version": "1.5.0",
      "_model_name": "HTMLModel",
      "_view_count": null,
      "_view_module": "@jupyter-widgets/controls",
      "_view_module_version": "1.5.0",
      "_view_name": "HTMLView",
      "description": "",
      "description_tooltip": null,
      "layout": "IPY_MODEL_f66c0e6a76ee493b93bfba6ccea7beaa",
      "placeholder": "​",
      "style": "IPY_MODEL_a0fba056a7994d39b8822443f8a55e4d",
      "value": "Downloading (…)/main/tokenizer.json: 100%"
     }
    },
    "d8116fae1f5a4d06bd4e2ac5e8048a1b": {
     "model_module": "@jupyter-widgets/base",
     "model_module_version": "1.2.0",
     "model_name": "LayoutModel",
     "state": {
      "_model_module": "@jupyter-widgets/base",
      "_model_module_version": "1.2.0",
      "_model_name": "LayoutModel",
      "_view_count": null,
      "_view_module": "@jupyter-widgets/base",
      "_view_module_version": "1.2.0",
      "_view_name": "LayoutView",
      "align_content": null,
      "align_items": null,
      "align_self": null,
      "border": null,
      "bottom": null,
      "display": null,
      "flex": null,
      "flex_flow": null,
      "grid_area": null,
      "grid_auto_columns": null,
      "grid_auto_flow": null,
      "grid_auto_rows": null,
      "grid_column": null,
      "grid_gap": null,
      "grid_row": null,
      "grid_template_areas": null,
      "grid_template_columns": null,
      "grid_template_rows": null,
      "height": null,
      "justify_content": null,
      "justify_items": null,
      "left": null,
      "margin": null,
      "max_height": null,
      "max_width": null,
      "min_height": null,
      "min_width": null,
      "object_fit": null,
      "object_position": null,
      "order": null,
      "overflow": null,
      "overflow_x": null,
      "overflow_y": null,
      "padding": null,
      "right": null,
      "top": null,
      "visibility": null,
      "width": null
     }
    },
    "d9059833294141b1af60764aa78dfee2": {
     "model_module": "@jupyter-widgets/controls",
     "model_module_version": "1.5.0",
     "model_name": "ProgressStyleModel",
     "state": {
      "_model_module": "@jupyter-widgets/controls",
      "_model_module_version": "1.5.0",
      "_model_name": "ProgressStyleModel",
      "_view_count": null,
      "_view_module": "@jupyter-widgets/base",
      "_view_module_version": "1.2.0",
      "_view_name": "StyleView",
      "bar_color": null,
      "description_width": ""
     }
    },
    "dc3e325600f54d76a20057fe47593a59": {
     "model_module": "@jupyter-widgets/controls",
     "model_module_version": "1.5.0",
     "model_name": "DescriptionStyleModel",
     "state": {
      "_model_module": "@jupyter-widgets/controls",
      "_model_module_version": "1.5.0",
      "_model_name": "DescriptionStyleModel",
      "_view_count": null,
      "_view_module": "@jupyter-widgets/base",
      "_view_module_version": "1.2.0",
      "_view_name": "StyleView",
      "description_width": ""
     }
    },
    "dc61361779884747b3ae8d35e126a4a1": {
     "model_module": "@jupyter-widgets/controls",
     "model_module_version": "1.5.0",
     "model_name": "DescriptionStyleModel",
     "state": {
      "_model_module": "@jupyter-widgets/controls",
      "_model_module_version": "1.5.0",
      "_model_name": "DescriptionStyleModel",
      "_view_count": null,
      "_view_module": "@jupyter-widgets/base",
      "_view_module_version": "1.2.0",
      "_view_name": "StyleView",
      "description_width": ""
     }
    },
    "e14557da4bde48c28b9a5426500b2b59": {
     "model_module": "@jupyter-widgets/base",
     "model_module_version": "1.2.0",
     "model_name": "LayoutModel",
     "state": {
      "_model_module": "@jupyter-widgets/base",
      "_model_module_version": "1.2.0",
      "_model_name": "LayoutModel",
      "_view_count": null,
      "_view_module": "@jupyter-widgets/base",
      "_view_module_version": "1.2.0",
      "_view_name": "LayoutView",
      "align_content": null,
      "align_items": null,
      "align_self": null,
      "border": null,
      "bottom": null,
      "display": null,
      "flex": null,
      "flex_flow": null,
      "grid_area": null,
      "grid_auto_columns": null,
      "grid_auto_flow": null,
      "grid_auto_rows": null,
      "grid_column": null,
      "grid_gap": null,
      "grid_row": null,
      "grid_template_areas": null,
      "grid_template_columns": null,
      "grid_template_rows": null,
      "height": null,
      "justify_content": null,
      "justify_items": null,
      "left": null,
      "margin": null,
      "max_height": null,
      "max_width": null,
      "min_height": null,
      "min_width": null,
      "object_fit": null,
      "object_position": null,
      "order": null,
      "overflow": null,
      "overflow_x": null,
      "overflow_y": null,
      "padding": null,
      "right": null,
      "top": null,
      "visibility": null,
      "width": null
     }
    },
    "e3d11146f66e47c2a572b8de8f5e5239": {
     "model_module": "@jupyter-widgets/controls",
     "model_module_version": "1.5.0",
     "model_name": "DescriptionStyleModel",
     "state": {
      "_model_module": "@jupyter-widgets/controls",
      "_model_module_version": "1.5.0",
      "_model_name": "DescriptionStyleModel",
      "_view_count": null,
      "_view_module": "@jupyter-widgets/base",
      "_view_module_version": "1.2.0",
      "_view_name": "StyleView",
      "description_width": ""
     }
    },
    "e6d62400f70a4096996031dc916b6408": {
     "model_module": "@jupyter-widgets/controls",
     "model_module_version": "1.5.0",
     "model_name": "DescriptionStyleModel",
     "state": {
      "_model_module": "@jupyter-widgets/controls",
      "_model_module_version": "1.5.0",
      "_model_name": "DescriptionStyleModel",
      "_view_count": null,
      "_view_module": "@jupyter-widgets/base",
      "_view_module_version": "1.2.0",
      "_view_name": "StyleView",
      "description_width": ""
     }
    },
    "e96e2536e749419db2bf2b22cb68d4bd": {
     "model_module": "@jupyter-widgets/controls",
     "model_module_version": "1.5.0",
     "model_name": "FloatProgressModel",
     "state": {
      "_dom_classes": [],
      "_model_module": "@jupyter-widgets/controls",
      "_model_module_version": "1.5.0",
      "_model_name": "FloatProgressModel",
      "_view_count": null,
      "_view_module": "@jupyter-widgets/controls",
      "_view_module_version": "1.5.0",
      "_view_name": "ProgressView",
      "bar_style": "success",
      "description": "",
      "description_tooltip": null,
      "layout": "IPY_MODEL_d4208fb1409947c7b72555e4d0c3fe0c",
      "max": 1355863,
      "min": 0,
      "orientation": "horizontal",
      "style": "IPY_MODEL_7cdfa678da094d8e9a413b3e4a34167b",
      "value": 1355863
     }
    },
    "eb33f052ed0c49ca95a0021ded4b0cc9": {
     "model_module": "@jupyter-widgets/controls",
     "model_module_version": "1.5.0",
     "model_name": "FloatProgressModel",
     "state": {
      "_dom_classes": [],
      "_model_module": "@jupyter-widgets/controls",
      "_model_module_version": "1.5.0",
      "_model_name": "FloatProgressModel",
      "_view_count": null,
      "_view_module": "@jupyter-widgets/controls",
      "_view_module_version": "1.5.0",
      "_view_name": "ProgressView",
      "bar_style": "success",
      "description": "",
      "description_tooltip": null,
      "layout": "IPY_MODEL_496acc31f26a4755837d6ce8bcd789c0",
      "max": 481,
      "min": 0,
      "orientation": "horizontal",
      "style": "IPY_MODEL_a6d191affb414dd78ef6e9c9897e5763",
      "value": 481
     }
    },
    "ee64a5e0ea1441ae98ec5765fefd27b0": {
     "model_module": "@jupyter-widgets/base",
     "model_module_version": "1.2.0",
     "model_name": "LayoutModel",
     "state": {
      "_model_module": "@jupyter-widgets/base",
      "_model_module_version": "1.2.0",
      "_model_name": "LayoutModel",
      "_view_count": null,
      "_view_module": "@jupyter-widgets/base",
      "_view_module_version": "1.2.0",
      "_view_name": "LayoutView",
      "align_content": null,
      "align_items": null,
      "align_self": null,
      "border": null,
      "bottom": null,
      "display": null,
      "flex": null,
      "flex_flow": null,
      "grid_area": null,
      "grid_auto_columns": null,
      "grid_auto_flow": null,
      "grid_auto_rows": null,
      "grid_column": null,
      "grid_gap": null,
      "grid_row": null,
      "grid_template_areas": null,
      "grid_template_columns": null,
      "grid_template_rows": null,
      "height": null,
      "justify_content": null,
      "justify_items": null,
      "left": null,
      "margin": null,
      "max_height": null,
      "max_width": null,
      "min_height": null,
      "min_width": null,
      "object_fit": null,
      "object_position": null,
      "order": null,
      "overflow": null,
      "overflow_x": null,
      "overflow_y": null,
      "padding": null,
      "right": null,
      "top": null,
      "visibility": null,
      "width": null
     }
    },
    "f66c0e6a76ee493b93bfba6ccea7beaa": {
     "model_module": "@jupyter-widgets/base",
     "model_module_version": "1.2.0",
     "model_name": "LayoutModel",
     "state": {
      "_model_module": "@jupyter-widgets/base",
      "_model_module_version": "1.2.0",
      "_model_name": "LayoutModel",
      "_view_count": null,
      "_view_module": "@jupyter-widgets/base",
      "_view_module_version": "1.2.0",
      "_view_name": "LayoutView",
      "align_content": null,
      "align_items": null,
      "align_self": null,
      "border": null,
      "bottom": null,
      "display": null,
      "flex": null,
      "flex_flow": null,
      "grid_area": null,
      "grid_auto_columns": null,
      "grid_auto_flow": null,
      "grid_auto_rows": null,
      "grid_column": null,
      "grid_gap": null,
      "grid_row": null,
      "grid_template_areas": null,
      "grid_template_columns": null,
      "grid_template_rows": null,
      "height": null,
      "justify_content": null,
      "justify_items": null,
      "left": null,
      "margin": null,
      "max_height": null,
      "max_width": null,
      "min_height": null,
      "min_width": null,
      "object_fit": null,
      "object_position": null,
      "order": null,
      "overflow": null,
      "overflow_x": null,
      "overflow_y": null,
      "padding": null,
      "right": null,
      "top": null,
      "visibility": null,
      "width": null
     }
    },
    "f85107e1b2b84cf79fc52d95c7f09fe4": {
     "model_module": "@jupyter-widgets/controls",
     "model_module_version": "1.5.0",
     "model_name": "HBoxModel",
     "state": {
      "_dom_classes": [],
      "_model_module": "@jupyter-widgets/controls",
      "_model_module_version": "1.5.0",
      "_model_name": "HBoxModel",
      "_view_count": null,
      "_view_module": "@jupyter-widgets/controls",
      "_view_module_version": "1.5.0",
      "_view_name": "HBoxView",
      "box_style": "",
      "children": [
       "IPY_MODEL_8309a558934a4368ba148b512386b640",
       "IPY_MODEL_0a58c0a8241c435f8417668ada19aee4",
       "IPY_MODEL_2755fcd81cbd42b5b8b21d87b10c7524"
      ],
      "layout": "IPY_MODEL_d8116fae1f5a4d06bd4e2ac5e8048a1b"
     }
    }
   }
  }
 },
 "nbformat": 4,
 "nbformat_minor": 5
}
